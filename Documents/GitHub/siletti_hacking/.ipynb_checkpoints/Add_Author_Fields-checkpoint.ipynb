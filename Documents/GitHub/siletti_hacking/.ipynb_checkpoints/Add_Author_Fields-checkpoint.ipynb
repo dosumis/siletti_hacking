{
 "cells": [
  {
   "cell_type": "code",
   "execution_count": 1,
   "id": "3798ed53-1ada-41ce-b081-a542ad79d005",
   "metadata": {},
   "outputs": [
    {
     "name": "stdout",
     "output_type": "stream",
     "text": [
      "Requirement already satisfied: cas-tools in /Users/aa37/venv/lib/python3.12/site-packages (0.0.1.dev37)\n",
      "Collecting cas-tools\n",
      "  Using cached cas_tools-0.0.1.dev45-py3-none-any.whl.metadata (2.6 kB)\n",
      "Requirement already satisfied: anndata==0.10.3 in /Users/aa37/venv/lib/python3.12/site-packages (from cas-tools) (0.10.3)\n",
      "INFO: pip is looking at multiple versions of cas-tools to determine which version is compatible with other requirements. This could take a while.\n",
      "  Using cached cas_tools-0.0.1.dev44-py3-none-any.whl.metadata (2.4 kB)\n",
      "  Using cached cas_tools-0.0.1.dev43-py3-none-any.whl.metadata (2.4 kB)\n",
      "  Using cached cas_tools-0.0.1.dev42-py3-none-any.whl.metadata (2.4 kB)\n",
      "  Using cached cas_tools-0.0.1.dev41-py3-none-any.whl.metadata (2.4 kB)\n",
      "  Using cached cas_tools-0.0.1.dev40-py3-none-any.whl.metadata (2.4 kB)\n",
      "  Using cached cas_tools-0.0.1.dev39-py3-none-any.whl.metadata (2.4 kB)\n",
      "  Using cached cas_tools-0.0.1.dev38-py3-none-any.whl.metadata (2.4 kB)\n",
      "INFO: pip is still looking at multiple versions of cas-tools to determine which version is compatible with other requirements. This could take a while.\n",
      "Requirement already satisfied: dataclasses-json in /Users/aa37/venv/lib/python3.12/site-packages (from cas-tools) (0.6.7)\n",
      "Requirement already satisfied: pandas in /Users/aa37/venv/lib/python3.12/site-packages (from cas-tools) (2.2.2)\n",
      "Requirement already satisfied: ruamel.yaml in /Users/aa37/venv/lib/python3.12/site-packages (from cas-tools) (0.18.6)\n",
      "Requirement already satisfied: jsonschema in /Users/aa37/venv/lib/python3.12/site-packages (from cas-tools) (4.22.0)\n",
      "Requirement already satisfied: array-api-compat in /Users/aa37/venv/lib/python3.12/site-packages (from anndata==0.10.3->cas-tools) (1.7.1)\n",
      "Requirement already satisfied: h5py>=3 in /Users/aa37/venv/lib/python3.12/site-packages (from anndata==0.10.3->cas-tools) (3.11.0)\n",
      "Requirement already satisfied: natsort in /Users/aa37/venv/lib/python3.12/site-packages (from anndata==0.10.3->cas-tools) (8.4.0)\n",
      "Requirement already satisfied: numpy>=1.16.5 in /Users/aa37/venv/lib/python3.12/site-packages (from anndata==0.10.3->cas-tools) (2.0.0)\n",
      "Requirement already satisfied: packaging>=20 in /Users/aa37/venv/lib/python3.12/site-packages (from anndata==0.10.3->cas-tools) (24.1)\n",
      "Requirement already satisfied: scipy>1.4 in /Users/aa37/venv/lib/python3.12/site-packages (from anndata==0.10.3->cas-tools) (1.13.1)\n",
      "Requirement already satisfied: python-dateutil>=2.8.2 in /Users/aa37/venv/lib/python3.12/site-packages (from pandas->cas-tools) (2.9.0.post0)\n",
      "Requirement already satisfied: pytz>=2020.1 in /Users/aa37/venv/lib/python3.12/site-packages (from pandas->cas-tools) (2024.1)\n",
      "Requirement already satisfied: tzdata>=2022.7 in /Users/aa37/venv/lib/python3.12/site-packages (from pandas->cas-tools) (2024.1)\n",
      "Requirement already satisfied: marshmallow<4.0.0,>=3.18.0 in /Users/aa37/venv/lib/python3.12/site-packages (from dataclasses-json->cas-tools) (3.21.3)\n",
      "Requirement already satisfied: typing-inspect<1,>=0.4.0 in /Users/aa37/venv/lib/python3.12/site-packages (from dataclasses-json->cas-tools) (0.9.0)\n",
      "Requirement already satisfied: attrs>=22.2.0 in /Users/aa37/venv/lib/python3.12/site-packages (from jsonschema->cas-tools) (23.2.0)\n",
      "Requirement already satisfied: jsonschema-specifications>=2023.03.6 in /Users/aa37/venv/lib/python3.12/site-packages (from jsonschema->cas-tools) (2023.12.1)\n",
      "Requirement already satisfied: referencing>=0.28.4 in /Users/aa37/venv/lib/python3.12/site-packages (from jsonschema->cas-tools) (0.35.1)\n",
      "Requirement already satisfied: rpds-py>=0.7.1 in /Users/aa37/venv/lib/python3.12/site-packages (from jsonschema->cas-tools) (0.18.1)\n",
      "Requirement already satisfied: ruamel.yaml.clib>=0.2.7 in /Users/aa37/venv/lib/python3.12/site-packages (from ruamel.yaml->cas-tools) (0.2.8)\n",
      "Requirement already satisfied: six>=1.5 in /Users/aa37/venv/lib/python3.12/site-packages (from python-dateutil>=2.8.2->pandas->cas-tools) (1.16.0)\n",
      "Requirement already satisfied: mypy-extensions>=0.3.0 in /Users/aa37/venv/lib/python3.12/site-packages (from typing-inspect<1,>=0.4.0->dataclasses-json->cas-tools) (1.0.0)\n",
      "Requirement already satisfied: typing-extensions>=3.7.4 in /Users/aa37/venv/lib/python3.12/site-packages (from typing-inspect<1,>=0.4.0->dataclasses-json->cas-tools) (4.12.2)\n",
      "Note: you may need to restart the kernel to use updated packages.\n"
     ]
    }
   ],
   "source": [
    "pip install -U cas-tools"
   ]
  },
  {
   "cell_type": "code",
   "execution_count": 1,
   "id": "7b8a7248-66d9-4fa6-a648-2382a4efd47b",
   "metadata": {
    "editable": true,
    "slideshow": {
     "slide_type": ""
    },
    "tags": []
   },
   "outputs": [
    {
     "name": "stdout",
     "output_type": "stream",
     "text": [
      "Requirement already satisfied: pandas in /Users/aa37/venv/lib/python3.12/site-packages (2.2.2)\n",
      "Requirement already satisfied: numpy>=1.26.0 in /Users/aa37/venv/lib/python3.12/site-packages (from pandas) (2.0.0)\n",
      "Requirement already satisfied: python-dateutil>=2.8.2 in /Users/aa37/venv/lib/python3.12/site-packages (from pandas) (2.9.0.post0)\n",
      "Requirement already satisfied: pytz>=2020.1 in /Users/aa37/venv/lib/python3.12/site-packages (from pandas) (2024.1)\n",
      "Requirement already satisfied: tzdata>=2022.7 in /Users/aa37/venv/lib/python3.12/site-packages (from pandas) (2024.1)\n",
      "Requirement already satisfied: six>=1.5 in /Users/aa37/venv/lib/python3.12/site-packages (from python-dateutil>=2.8.2->pandas) (1.16.0)\n",
      "Requirement already satisfied: cas-tools in /Users/aa37/venv/lib/python3.12/site-packages (0.0.1.dev37)\n",
      "Requirement already satisfied: anndata==0.10.3 in /Users/aa37/venv/lib/python3.12/site-packages (from cas-tools) (0.10.3)\n",
      "Requirement already satisfied: dataclasses-json in /Users/aa37/venv/lib/python3.12/site-packages (from cas-tools) (0.6.7)\n",
      "Requirement already satisfied: pandas in /Users/aa37/venv/lib/python3.12/site-packages (from cas-tools) (2.2.2)\n",
      "Requirement already satisfied: ruamel.yaml in /Users/aa37/venv/lib/python3.12/site-packages (from cas-tools) (0.18.6)\n",
      "Requirement already satisfied: jsonschema in /Users/aa37/venv/lib/python3.12/site-packages (from cas-tools) (4.22.0)\n",
      "Requirement already satisfied: array-api-compat in /Users/aa37/venv/lib/python3.12/site-packages (from anndata==0.10.3->cas-tools) (1.7.1)\n",
      "Requirement already satisfied: h5py>=3 in /Users/aa37/venv/lib/python3.12/site-packages (from anndata==0.10.3->cas-tools) (3.11.0)\n",
      "Requirement already satisfied: natsort in /Users/aa37/venv/lib/python3.12/site-packages (from anndata==0.10.3->cas-tools) (8.4.0)\n",
      "Requirement already satisfied: numpy>=1.16.5 in /Users/aa37/venv/lib/python3.12/site-packages (from anndata==0.10.3->cas-tools) (2.0.0)\n",
      "Requirement already satisfied: packaging>=20 in /Users/aa37/venv/lib/python3.12/site-packages (from anndata==0.10.3->cas-tools) (24.1)\n",
      "Requirement already satisfied: scipy>1.4 in /Users/aa37/venv/lib/python3.12/site-packages (from anndata==0.10.3->cas-tools) (1.13.1)\n",
      "Requirement already satisfied: python-dateutil>=2.8.2 in /Users/aa37/venv/lib/python3.12/site-packages (from pandas->cas-tools) (2.9.0.post0)\n",
      "Requirement already satisfied: pytz>=2020.1 in /Users/aa37/venv/lib/python3.12/site-packages (from pandas->cas-tools) (2024.1)\n",
      "Requirement already satisfied: tzdata>=2022.7 in /Users/aa37/venv/lib/python3.12/site-packages (from pandas->cas-tools) (2024.1)\n",
      "Requirement already satisfied: marshmallow<4.0.0,>=3.18.0 in /Users/aa37/venv/lib/python3.12/site-packages (from dataclasses-json->cas-tools) (3.21.3)\n",
      "Requirement already satisfied: typing-inspect<1,>=0.4.0 in /Users/aa37/venv/lib/python3.12/site-packages (from dataclasses-json->cas-tools) (0.9.0)\n",
      "Requirement already satisfied: attrs>=22.2.0 in /Users/aa37/venv/lib/python3.12/site-packages (from jsonschema->cas-tools) (23.2.0)\n",
      "Requirement already satisfied: jsonschema-specifications>=2023.03.6 in /Users/aa37/venv/lib/python3.12/site-packages (from jsonschema->cas-tools) (2023.12.1)\n",
      "Requirement already satisfied: referencing>=0.28.4 in /Users/aa37/venv/lib/python3.12/site-packages (from jsonschema->cas-tools) (0.35.1)\n",
      "Requirement already satisfied: rpds-py>=0.7.1 in /Users/aa37/venv/lib/python3.12/site-packages (from jsonschema->cas-tools) (0.18.1)\n",
      "Requirement already satisfied: ruamel.yaml.clib>=0.2.7 in /Users/aa37/venv/lib/python3.12/site-packages (from ruamel.yaml->cas-tools) (0.2.8)\n",
      "Requirement already satisfied: six>=1.5 in /Users/aa37/venv/lib/python3.12/site-packages (from python-dateutil>=2.8.2->pandas->cas-tools) (1.16.0)\n",
      "Requirement already satisfied: mypy-extensions>=0.3.0 in /Users/aa37/venv/lib/python3.12/site-packages (from typing-inspect<1,>=0.4.0->dataclasses-json->cas-tools) (1.0.0)\n",
      "Requirement already satisfied: typing-extensions>=3.7.4 in /Users/aa37/venv/lib/python3.12/site-packages (from typing-inspect<1,>=0.4.0->dataclasses-json->cas-tools) (4.12.2)\n"
     ]
    }
   ],
   "source": [
    "# Install pip packages\n",
    "import sys\n",
    "!{sys.executable} -m pip install pandas\n",
    "!{sys.executable} -m pip install cas-tools"
   ]
  },
  {
   "cell_type": "code",
   "execution_count": 2,
   "id": "c4b8adc3-4e0f-47a0-932e-2a300b8eb3c9",
   "metadata": {},
   "outputs": [
    {
     "name": "stdout",
     "output_type": "stream",
     "text": [
      "cas-tools==0.0.1.dev37\n",
      "Note: you may need to restart the kernel to use updated packages.\n"
     ]
    }
   ],
   "source": [
    "pip freeze | grep cas-tool"
   ]
  },
  {
   "cell_type": "code",
   "execution_count": 2,
   "id": "ae9a19e0-d750-4bdc-8698-c3755e161d3b",
   "metadata": {},
   "outputs": [],
   "source": [
    "#restart the kernel"
   ]
  },
  {
   "cell_type": "code",
   "execution_count": 1,
   "id": "be51f4c1-1768-482c-b1a4-644d9af502c1",
   "metadata": {},
   "outputs": [
    {
     "ename": "ModuleNotFoundError",
     "evalue": "No module named 'cas.add_author_annotations'",
     "output_type": "error",
     "traceback": [
      "\u001b[0;31m---------------------------------------------------------------------------\u001b[0m",
      "\u001b[0;31mModuleNotFoundError\u001b[0m                       Traceback (most recent call last)",
      "Cell \u001b[0;32mIn[1], line 8\u001b[0m\n\u001b[1;32m      5\u001b[0m \u001b[38;5;28;01mimport\u001b[39;00m \u001b[38;5;21;01murllib\u001b[39;00m\u001b[38;5;21;01m.\u001b[39;00m\u001b[38;5;21;01mrequest\u001b[39;00m \u001b[38;5;28;01mas\u001b[39;00m \u001b[38;5;21;01mrequest\u001b[39;00m\n\u001b[1;32m      7\u001b[0m \u001b[38;5;28;01mfrom\u001b[39;00m \u001b[38;5;21;01mcas\u001b[39;00m\u001b[38;5;21;01m.\u001b[39;00m\u001b[38;5;21;01mfile_utils\u001b[39;00m \u001b[38;5;28;01mimport\u001b[39;00m read_json_file\n\u001b[0;32m----> 8\u001b[0m \u001b[38;5;28;01mfrom\u001b[39;00m \u001b[38;5;21;01mcas\u001b[39;00m\u001b[38;5;21;01m.\u001b[39;00m\u001b[38;5;21;01madd_author_annotations\u001b[39;00m \u001b[38;5;28;01mimport\u001b[39;00m add_author_annotations\n",
      "\u001b[0;31mModuleNotFoundError\u001b[0m: No module named 'cas.add_author_annotations'"
     ]
    }
   ],
   "source": [
    "import os\n",
    "import random\n",
    "import anndata\n",
    "import pandas as pd\n",
    "import urllib.request as request\n",
    "\n",
    "from cas.file_utils import read_json_file, write_dict_to_json_file\n",
    "from cas.add_author_annotations import add_author_annotations"
   ]
  },
  {
   "cell_type": "code",
   "execution_count": 7,
   "id": "9580f7e9-c70b-48f9-8b38-a1ae49acb33c",
   "metadata": {},
   "outputs": [
    {
     "ename": "ModuleNotFoundError",
     "evalue": "No module named 'cas.add_author_annotations'",
     "output_type": "error",
     "traceback": [
      "\u001b[0;31m---------------------------------------------------------------------------\u001b[0m",
      "\u001b[0;31mModuleNotFoundError\u001b[0m                       Traceback (most recent call last)",
      "Cell \u001b[0;32mIn[7], line 1\u001b[0m\n\u001b[0;32m----> 1\u001b[0m \u001b[38;5;28;01mimport\u001b[39;00m \u001b[38;5;21;01mcas\u001b[39;00m\u001b[38;5;21;01m.\u001b[39;00m\u001b[38;5;21;01madd_author_annotations\u001b[39;00m\n\u001b[1;32m      2\u001b[0m \u001b[38;5;28mprint\u001b[39m(\u001b[38;5;28mdir\u001b[39m(cas\u001b[38;5;241m.\u001b[39madd_author_annotations))\n",
      "\u001b[0;31mModuleNotFoundError\u001b[0m: No module named 'cas.add_author_annotations'"
     ]
    }
   ],
   "source": [
    "import cas.add_author_annotations\n",
    "print(dir(cas.add_author_annotations))"
   ]
  },
  {
   "cell_type": "raw",
   "id": "9dec9c03-9171-4ff6-8111-244a310e2697",
   "metadata": {},
   "source": [
    "pip install --upgrade cas-tools"
   ]
  },
  {
   "cell_type": "code",
   "execution_count": 5,
   "id": "541370a0-9aa8-4fa2-8347-2e0c44d1d926",
   "metadata": {},
   "outputs": [],
   "source": [
    "from cas.file_utils import read_json_file"
   ]
  },
  {
   "cell_type": "code",
   "execution_count": null,
   "id": "b3bb116c-20e6-4637-81f0-b81332c3d3aa",
   "metadata": {},
   "outputs": [],
   "source": []
  }
 ],
 "metadata": {
  "kernelspec": {
   "display_name": "venv",
   "language": "python",
   "name": "venv"
  },
  "language_info": {
   "codemirror_mode": {
    "name": "ipython",
    "version": 3
   },
   "file_extension": ".py",
   "mimetype": "text/x-python",
   "name": "python",
   "nbconvert_exporter": "python",
   "pygments_lexer": "ipython3",
   "version": "3.12.3"
  }
 },
 "nbformat": 4,
 "nbformat_minor": 5
}
