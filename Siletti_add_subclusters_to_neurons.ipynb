{
 "cells": [
  {
   "cell_type": "code",
   "execution_count": 1,
   "id": "246f7991-a129-498f-b8bc-de78b0948623",
   "metadata": {},
   "outputs": [],
   "source": [
    "import json\n",
    "\n",
    "#  Open files\n",
    "\n",
    "with open('./intermediatte_files/Siletti_from_abc.json', 'r') as f:\n",
    "    Siletti_abc_cas = json.loads(f.read())\n",
    "\n",
    "with open('./cas_source/CS202210140_non_neuronal.json', 'r') as f:\n",
    "    nn = json.loads(f.read())\n",
    "with open('./cas_source/CS202210140_neurons.json', 'r') as f:\n",
    "    neurons = json.loads(f.read())\n",
    "\n",
    "#Generate lookups for accessions for nn and neuron clusters respectively\n",
    "neuron_clusters = { a['cell_set_accession'] for a in neurons['annotations'] \n",
    "                    if a['labelset'] == 'Cluster'}\n",
    "nn_clusters = { a['cell_set_accession'] for a in nn['annotations'] \n",
    "                    if a['labelset'] == 'Cluster'}\n",
    "\n",
    "# Make lists of subclusters from ABC that have a parent cluster in nn & neurons respectively\n",
    "nn_subclusters = [a for a in Siletti_abc_cas['annotations']\n",
    "                  if (a['labelset'] == 'subcluster') \n",
    "                  and (a['parent_cell_set_accession'] in nn_clusters)]\n",
    "neuron_subclusters = [a for a in Siletti_abc_cas['annotations']\n",
    "                  if (a['labelset'] == 'subcluster') \n",
    "                  and (a['parent_cell_set_accession'] in neuron_clusters)]\n",
    "\n",
    "# Merge in subclusters\n",
    "\n",
    "nn['annotations'].extend(nn_subclusters)\n",
    "neurons['annotations'].extend(neuron_subclusters)"
   ]
  },
  {
   "cell_type": "code",
   "execution_count": 2,
   "id": "84df9f1e-9434-4214-a094-e2abb1b0497a",
   "metadata": {},
   "outputs": [],
   "source": [
    "#Commenting as depends on path to anndata file - not stored in repo\n",
    "#%%bash\n",
    "# Generate file of CAS files from subclusters in Siletti anndata files\n",
    "#cas anndata2cas --anndata Siletti_all_non_neuronal_cells.h5ad --labelsets subcluster_id --output intermediatte_files/Siletti_subclusters_from_anndata_cas.json"
   ]
  },
  {
   "cell_type": "code",
   "execution_count": 3,
   "id": "6d19c12d-8553-47c0-9194-b0c2f8d4a858",
   "metadata": {},
   "outputs": [],
   "source": [
    "# Generate lookup for subcluster cell_ids, keyed on subclusters_id\n",
    "\n",
    "# Open files\n",
    "import json\n",
    "with open('./intermediatte_files/Siletti_subclusters_from_anndata_cas.json', 'r') as f:\n",
    "    Siletti_subclusters_from_ad = json.loads(f.read())\n",
    "\n",
    "subcluster_cell_id_lookup = { a['cell_label'] : a['cell_ids'] for a in Siletti_subclusters_from_ad['annotations']}"
   ]
  },
  {
   "cell_type": "code",
   "execution_count": 4,
   "id": "38002720-37c1-4422-9199-e1822dbe4295",
   "metadata": {},
   "outputs": [
    {
     "data": {
      "text/plain": [
       "297"
      ]
     },
     "execution_count": 4,
     "metadata": {},
     "output_type": "execute_result"
    }
   ],
   "source": [
    "# Check number of matches on both sides\n",
    "len(subcluster_cell_id_lookup.keys())"
   ]
  },
  {
   "cell_type": "code",
   "execution_count": 5,
   "id": "05bec3a6-8b6b-496b-bf77-e497750df16b",
   "metadata": {},
   "outputs": [
    {
     "data": {
      "text/plain": [
       "297"
      ]
     },
     "execution_count": 5,
     "metadata": {},
     "output_type": "execute_result"
    }
   ],
   "source": [
    "len(Siletti_subclusters_from_ad['annotations'])"
   ]
  },
  {
   "cell_type": "code",
   "execution_count": 6,
   "id": "2133d9c4-e9ac-492d-8265-f7f7b0d45fca",
   "metadata": {},
   "outputs": [
    {
     "data": {
      "text/plain": [
       "3016"
      ]
     },
     "execution_count": 6,
     "metadata": {},
     "output_type": "execute_result"
    }
   ],
   "source": [
    "len(neuron_subclusters)"
   ]
  },
  {
   "cell_type": "code",
   "execution_count": 7,
   "id": "81e790cf-d986-427d-b8d3-a43778282fac",
   "metadata": {},
   "outputs": [
    {
     "data": {
      "text/plain": [
       "{'labelset': 'subcluster',\n",
       " 'cell_label': 'URL_297_0',\n",
       " 'cell_set_accession': 'CS202210140_494',\n",
       " 'parent_cell_set_accession': 'CS202210140_298'}"
      ]
     },
     "execution_count": 7,
     "metadata": {},
     "output_type": "execute_result"
    }
   ],
   "source": [
    "neuron_subclusters[0]"
   ]
  },
  {
   "cell_type": "code",
   "execution_count": 8,
   "id": "5eee2a3c-7701-4591-a9b7-905bbdbbc051",
   "metadata": {},
   "outputs": [
    {
     "data": {
      "text/plain": [
       "'0'"
      ]
     },
     "execution_count": 8,
     "metadata": {},
     "output_type": "execute_result"
    }
   ],
   "source": [
    "import re\n",
    "# Testing regex pattern\n",
    "m = re.match('.+_(\\d+)', 'URL_297_0')\n",
    "m.group(1)"
   ]
  },
  {
   "cell_type": "code",
   "execution_count": 9,
   "id": "b0b1cd61-ea20-468e-b28d-c85391ee147a",
   "metadata": {},
   "outputs": [],
   "source": [
    "# Use regex matching ID -> label to attach cell_ids to subclusters\n",
    "for c in neuron_subclusters:\n",
    "    m = re.match('.+_(\\d+)', c['cell_label'])\n",
    "    if int(m.group(1)) in subcluster_cell_id_lookup.keys():\n",
    "        c['cell_ids'] = subcluster_cell_id_lookup[int(m.group(1))]"
   ]
  },
  {
   "cell_type": "code",
   "execution_count": 10,
   "id": "f532828a-6285-4d57-875b-b0b40becc59e",
   "metadata": {},
   "outputs": [
    {
     "ename": "KeyError",
     "evalue": "'cell_ids'",
     "output_type": "error",
     "traceback": [
      "\u001b[0;31m---------------------------------------------------------------------------\u001b[0m",
      "\u001b[0;31mKeyError\u001b[0m                                  Traceback (most recent call last)",
      "Cell \u001b[0;32mIn[10], line 2\u001b[0m\n\u001b[1;32m      1\u001b[0m \u001b[38;5;66;03m# Test addition cell_Ids has worked\u001b[39;00m\n\u001b[0;32m----> 2\u001b[0m \u001b[43mneuron_subclusters\u001b[49m\u001b[43m[\u001b[49m\u001b[38;5;241;43m0\u001b[39;49m\u001b[43m]\u001b[49m\u001b[43m[\u001b[49m\u001b[38;5;124;43m'\u001b[39;49m\u001b[38;5;124;43mcell_ids\u001b[39;49m\u001b[38;5;124;43m'\u001b[39;49m\u001b[43m]\u001b[49m[\u001b[38;5;241m0\u001b[39m:\u001b[38;5;241m5\u001b[39m]\n",
      "\u001b[0;31mKeyError\u001b[0m: 'cell_ids'"
     ]
    }
   ],
   "source": [
    "# Test addition cell_Ids has worked\n",
    "neuron_subclusters[0]['cell_ids'][0:5]"
   ]
  },
  {
   "cell_type": "code",
   "execution_count": null,
   "id": "6b9eff5a-988c-443a-9c08-276bacf59775",
   "metadata": {},
   "outputs": [],
   "source": [
    "import pandas as pd\n",
    "AT = pd.read_csv('./Annotation_transfer/Clusters_AT_from_MTG.tsv', sep='\\t')\n",
    "MTG_annotations = pd.read_csv('./MTG_cas/CCN20240304_annotations.tsv', sep='\\t')\n",
    "MTG_annotations[0:5]"
   ]
  },
  {
   "cell_type": "code",
   "execution_count": null,
   "id": "633038fa-36a2-4ec7-8d7d-b689eb0d1938",
   "metadata": {},
   "outputs": [],
   "source": [
    "# Aim \n",
    "# Look up transfered MTG names (in MT) in MTG cell_label var - MT - & link Siletti Cell label to MTG annotation object\n",
    "\n",
    "# 1. Make template for annotation transfer objects\n",
    "# 2. Iterate over annotatoin transfer labels, matching to cluster labels & using this to generate annotation transfer objects.\n",
    "# 3. Attach annotation transfer objects to annotatinons"
   ]
  },
  {
   "cell_type": "code",
   "execution_count": null,
   "id": "2c0bf692-66cd-401b-bea6-e7f0ee472fc2",
   "metadata": {},
   "outputs": [],
   "source": [
    "MTG_annotation_lookup = MTG_annotations.set_index(\"cell_label\").to_dict(orient='index')"
   ]
  },
  {
   "cell_type": "code",
   "execution_count": null,
   "id": "43ff11bc-7c28-46e6-ad70-18d1d5f2917a",
   "metadata": {},
   "outputs": [],
   "source": [
    "# What matches?\n",
    "set(MTG_annotation_lookup.keys()).intersection(set(AT['Transferred MTG Label']))"
   ]
  },
  {
   "cell_type": "code",
   "execution_count": null,
   "id": "440cfaed-d66c-4286-8b07-c2e9c1d8ebb5",
   "metadata": {},
   "outputs": [],
   "source": [
    "# What doesn't match?  - Can we match this by hand?\n",
    "(set(AT['Transferred MTG Label']))-set(MTG_annotation_lookup.keys())"
   ]
  },
  {
   "cell_type": "code",
   "execution_count": null,
   "id": "ce8c998b-cd0e-4935-bfcb-1f05182107ff",
   "metadata": {},
   "outputs": [],
   "source": [
    "# Dict comp => Dict keyed on Siletti Cluster_name (=cell_label) with value = MTG annotation transfer object\n",
    "# Iterate over Transferred annotations (AT)\n",
    "out = {}\n",
    "comment = \"We performed PCA (50 components) on our full dataset, trained a random forest classifier (scikit-learn, class_ weight=‘balanced’, max_depth=50) on the MTG labels, and then predicted labels for all cells. We labeled each cluster with the mode of its constituent cells if two conditions were met: more than 0.8 of predicted labels matched the mode, and the mean probability of these pre- dictions was greater than 0.8.\"\n",
    "for i,r in AT.iterrows(): \n",
    "    if r['Transferred MTG Label'] in MTG_annotation_lookup.keys():\n",
    "        MTG_ann =  MTG_annotation_lookup[r['Transferred MTG Label']]\n",
    "        out[r['Cluster name']]= { \"transferred_cell_label\" : r['Transferred MTG Label'], \n",
    "                                  \"source_node_accession\": MTG_ann['labelset'] + '_' + MTG_ann['cell_set_accession'],\n",
    "                                  \"source_taxonomy\": \"https://purl.brain-bican.org/taxonomy/AIT_MTG/AIT_MTG.json\",\n",
    "                                  \"comment\": comment }\n",
    "# Test\n",
    "out['Amex_175']"
   ]
  },
  {
   "cell_type": "code",
   "execution_count": null,
   "id": "98b9e547-3983-4b54-917d-7d1edf4853a8",
   "metadata": {},
   "outputs": [],
   "source": [
    "# Attach Annotation transfers to CAS for nn & neurons matching on names\n",
    "\n",
    "for a in neurons['annotations']:\n",
    "    if a['cell_label'] in out.keys():\n",
    "        a['annotation_transfer'] = [out[a['cell_label']]]\n",
    "        # Testing\n",
    "[a['annotation_transfer'] for a in neurons['annotations'] if 'annotation_transfer' in a.keys()][0]"
   ]
  },
  {
   "cell_type": "code",
   "execution_count": null,
   "id": "6a427c71-8f5d-4262-bed1-0c481a398de0",
   "metadata": {},
   "outputs": [],
   "source": [
    "# TODO - repeat for Neurons. Save and test CAS.json"
   ]
  }
 ],
 "metadata": {
  "kernelspec": {
   "display_name": "venv",
   "language": "python",
   "name": "venv"
  },
  "language_info": {
   "codemirror_mode": {
    "name": "ipython",
    "version": 3
   },
   "file_extension": ".py",
   "mimetype": "text/x-python",
   "name": "python",
   "nbconvert_exporter": "python",
   "pygments_lexer": "ipython3",
   "version": "3.9.19"
  }
 },
 "nbformat": 4,
 "nbformat_minor": 5
}
