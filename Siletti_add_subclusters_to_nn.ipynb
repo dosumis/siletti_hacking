{
 "cells": [
  {
   "cell_type": "code",
   "execution_count": 1,
   "id": "3995c8d5-b4d4-4d97-93a4-72d0f6a83a61",
   "metadata": {
    "scrolled": true
   },
   "outputs": [],
   "source": [
    "# The .json file was converted in the terminal of the local machine command used: cas anndata2cas --anndata /Users/aa37/Documents/GitHub/siletti_hacking/Anndata_source/Siletti_all_neurons.h5ad --labelsets subcluster_id --output /Users/aa37/Documents/GitHub/siletti_hacking/intermediatte_files/Siletti_subclusters_from_anndata_cas_all_neurons.json"
   ]
  },
  {
   "cell_type": "code",
   "execution_count": 2,
   "id": "246f7991-a129-498f-b8bc-de78b0948623",
   "metadata": {},
   "outputs": [],
   "source": [
    "import json\n",
    "\n",
    "#  Open files\n",
    "\n",
    "with open('./intermediatte_files/Siletti_from_abc.json', 'r') as f:\n",
    "    Siletti_abc_cas = json.loads(f.read())\n",
    "\n",
    "with open('./cas_source/CS202210140_non_neuronal.json', 'r') as f:\n",
    "    nn = json.loads(f.read())\n",
    "with open('./cas_source/CS202210140_neurons.json', 'r') as f:\n",
    "    neurons = json.loads(f.read())\n",
    "\n",
    "#Generate lookups for accessions for nn and neuron clusters respectively\n",
    "neuron_clusters = { a['cell_set_accession'] for a in neurons['annotations'] \n",
    "                    if a['labelset'] == 'Cluster'}\n",
    "nn_clusters = { a['cell_set_accession'] for a in nn['annotations'] \n",
    "                    if a['labelset'] == 'Cluster'}\n",
    "\n",
    "# Make lists of subclusters from ABC that have a parent cluster in nn & neurons respectively\n",
    "nn_subclusters = [a for a in Siletti_abc_cas['annotations']\n",
    "                  if (a['labelset'] == 'subcluster') \n",
    "                  and (a['parent_cell_set_accession'] in nn_clusters)]\n",
    "neuron_subclusters = [a for a in Siletti_abc_cas['annotations']\n",
    "                  if (a['labelset'] == 'subcluster') \n",
    "                  and (a['parent_cell_set_accession'] in neuron_clusters)]\n",
    "\n",
    "# Merge in subclusters\n",
    "\n",
    "nn['annotations'].extend(nn_subclusters)\n",
    "neurons['annotations'].extend(neuron_subclusters)"
   ]
  },
  {
   "cell_type": "code",
   "execution_count": 3,
   "id": "6d19c12d-8553-47c0-9194-b0c2f8d4a858",
   "metadata": {},
   "outputs": [],
   "source": [
    "# Generate lookup for subcluster cell_ids, keyed on subclusters_id\n",
    "\n",
    "# Open files\n",
    "import json\n",
    "with open('./intermediatte_files/Siletti_subclusters_from_anndata_cas.json', 'r') as f:\n",
    "    Siletti_subclusters_from_ad = json.loads(f.read())\n",
    "\n",
    "subcluster_cell_id_lookup = { a['cell_label'] : a['cell_ids'] for a in Siletti_subclusters_from_ad['annotations']}"
   ]
  },
  {
   "cell_type": "code",
   "execution_count": 4,
   "id": "38002720-37c1-4422-9199-e1822dbe4295",
   "metadata": {},
   "outputs": [
    {
     "data": {
      "text/plain": [
       "297"
      ]
     },
     "execution_count": 4,
     "metadata": {},
     "output_type": "execute_result"
    }
   ],
   "source": [
    "# Check number of matches on both sides\n",
    "len(subcluster_cell_id_lookup.keys())"
   ]
  },
  {
   "cell_type": "code",
   "execution_count": 5,
   "id": "05bec3a6-8b6b-496b-bf77-e497750df16b",
   "metadata": {},
   "outputs": [
    {
     "data": {
      "text/plain": [
       "297"
      ]
     },
     "execution_count": 5,
     "metadata": {},
     "output_type": "execute_result"
    }
   ],
   "source": [
    "len(Siletti_subclusters_from_ad['annotations'])"
   ]
  },
  {
   "cell_type": "code",
   "execution_count": 6,
   "id": "2133d9c4-e9ac-492d-8265-f7f7b0d45fca",
   "metadata": {},
   "outputs": [
    {
     "data": {
      "text/plain": [
       "297"
      ]
     },
     "execution_count": 6,
     "metadata": {},
     "output_type": "execute_result"
    }
   ],
   "source": [
    "len(nn_subclusters)"
   ]
  },
  {
   "cell_type": "code",
   "execution_count": null,
   "id": "5ae038cf-69ac-4f1e-8144-74eb755b5b23",
   "metadata": {},
   "outputs": [],
   "source": []
  },
  {
   "cell_type": "code",
   "execution_count": 7,
   "id": "81e790cf-d986-427d-b8d3-a43778282fac",
   "metadata": {},
   "outputs": [
    {
     "data": {
      "text/plain": [
       "{'labelset': 'subcluster',\n",
       " 'cell_label': 'Oligo_50_2996',\n",
       " 'cell_set_accession': 'CS202210140_3490',\n",
       " 'parent_cell_set_accession': 'CS202210140_51'}"
      ]
     },
     "execution_count": 7,
     "metadata": {},
     "output_type": "execute_result"
    }
   ],
   "source": [
    "nn_subclusters[0]"
   ]
  },
  {
   "cell_type": "code",
   "execution_count": 8,
   "id": "d380b16e-51b1-4100-8707-99ce9c003e02",
   "metadata": {},
   "outputs": [
    {
     "data": {
      "text/plain": [
       "{'CS202210140_10',\n",
       " 'CS202210140_11',\n",
       " 'CS202210140_12',\n",
       " 'CS202210140_13',\n",
       " 'CS202210140_14',\n",
       " 'CS202210140_15',\n",
       " 'CS202210140_16',\n",
       " 'CS202210140_17',\n",
       " 'CS202210140_18',\n",
       " 'CS202210140_19',\n",
       " 'CS202210140_20',\n",
       " 'CS202210140_21',\n",
       " 'CS202210140_22',\n",
       " 'CS202210140_23',\n",
       " 'CS202210140_24',\n",
       " 'CS202210140_25',\n",
       " 'CS202210140_26',\n",
       " 'CS202210140_27',\n",
       " 'CS202210140_28',\n",
       " 'CS202210140_29',\n",
       " 'CS202210140_30',\n",
       " 'CS202210140_31',\n",
       " 'CS202210140_32',\n",
       " 'CS202210140_33',\n",
       " 'CS202210140_34',\n",
       " 'CS202210140_35',\n",
       " 'CS202210140_36',\n",
       " 'CS202210140_37',\n",
       " 'CS202210140_38',\n",
       " 'CS202210140_39',\n",
       " 'CS202210140_40',\n",
       " 'CS202210140_41',\n",
       " 'CS202210140_42',\n",
       " 'CS202210140_43',\n",
       " 'CS202210140_44',\n",
       " 'CS202210140_45',\n",
       " 'CS202210140_46',\n",
       " 'CS202210140_47',\n",
       " 'CS202210140_48',\n",
       " 'CS202210140_49',\n",
       " 'CS202210140_5',\n",
       " 'CS202210140_50',\n",
       " 'CS202210140_51',\n",
       " 'CS202210140_52',\n",
       " 'CS202210140_53',\n",
       " 'CS202210140_54',\n",
       " 'CS202210140_55',\n",
       " 'CS202210140_56',\n",
       " 'CS202210140_57',\n",
       " 'CS202210140_58',\n",
       " 'CS202210140_59',\n",
       " 'CS202210140_6',\n",
       " 'CS202210140_60',\n",
       " 'CS202210140_61',\n",
       " 'CS202210140_62',\n",
       " 'CS202210140_63',\n",
       " 'CS202210140_64',\n",
       " 'CS202210140_65',\n",
       " 'CS202210140_66',\n",
       " 'CS202210140_67',\n",
       " 'CS202210140_68',\n",
       " 'CS202210140_69',\n",
       " 'CS202210140_7',\n",
       " 'CS202210140_70',\n",
       " 'CS202210140_71',\n",
       " 'CS202210140_72',\n",
       " 'CS202210140_73',\n",
       " 'CS202210140_74',\n",
       " 'CS202210140_75',\n",
       " 'CS202210140_76',\n",
       " 'CS202210140_77',\n",
       " 'CS202210140_78',\n",
       " 'CS202210140_79',\n",
       " 'CS202210140_8',\n",
       " 'CS202210140_80',\n",
       " 'CS202210140_81',\n",
       " 'CS202210140_82',\n",
       " 'CS202210140_83',\n",
       " 'CS202210140_9'}"
      ]
     },
     "execution_count": 8,
     "metadata": {},
     "output_type": "execute_result"
    }
   ],
   "source": [
    "nn_clusters"
   ]
  },
  {
   "cell_type": "code",
   "execution_count": 9,
   "id": "5eee2a3c-7701-4591-a9b7-905bbdbbc051",
   "metadata": {},
   "outputs": [
    {
     "data": {
      "text/plain": [
       "'0'"
      ]
     },
     "execution_count": 9,
     "metadata": {},
     "output_type": "execute_result"
    }
   ],
   "source": [
    "import re\n",
    "# Testing regex pattern\n",
    "m = re.match('.+_(\\d+)', 'URL_297_0')\n",
    "m.group(1)"
   ]
  },
  {
   "cell_type": "code",
   "execution_count": 10,
   "id": "b0b1cd61-ea20-468e-b28d-c85391ee147a",
   "metadata": {},
   "outputs": [],
   "source": [
    "# Use regex matching ID -> label to attach cell_ids to subclusters\n",
    "for c in nn_subclusters:\n",
    "    m = re.match('.+_(\\d+)', c['cell_label'])\n",
    "    if int(m.group(1)) in subcluster_cell_id_lookup.keys():\n",
    "        c['cell_ids'] = subcluster_cell_id_lookup[int(m.group(1))]"
   ]
  },
  {
   "cell_type": "code",
   "execution_count": 11,
   "id": "f532828a-6285-4d57-875b-b0b40becc59e",
   "metadata": {},
   "outputs": [
    {
     "data": {
      "text/plain": [
       "['10X362_3:TCAGTGAGTATTGACC',\n",
       " '10X362_5:TCCGTGTGTGAAAGTT',\n",
       " '10X362_5:CACGGGTAGAGCAGAA',\n",
       " '10X362_6:AGGACTTGTATCCTTT',\n",
       " '10X362_6:GCATTAGGTTGGACCC']"
      ]
     },
     "execution_count": 11,
     "metadata": {},
     "output_type": "execute_result"
    }
   ],
   "source": [
    "# Test addition cell_Ids has worked\n",
    "nn_subclusters[0]['cell_ids'][0:5]"
   ]
  },
  {
   "cell_type": "code",
   "execution_count": 12,
   "id": "6b9eff5a-988c-443a-9c08-276bacf59775",
   "metadata": {},
   "outputs": [
    {
     "data": {
      "text/html": [
       "<div>\n",
       "<style scoped>\n",
       "    .dataframe tbody tr th:only-of-type {\n",
       "        vertical-align: middle;\n",
       "    }\n",
       "\n",
       "    .dataframe tbody tr th {\n",
       "        vertical-align: top;\n",
       "    }\n",
       "\n",
       "    .dataframe thead th {\n",
       "        text-align: right;\n",
       "    }\n",
       "</style>\n",
       "<table border=\"1\" class=\"dataframe\">\n",
       "  <thead>\n",
       "    <tr style=\"text-align: right;\">\n",
       "      <th></th>\n",
       "      <th>cell_set_accession</th>\n",
       "      <th>cell_label</th>\n",
       "      <th>cell_fullname</th>\n",
       "      <th>parent_cell_set_accession</th>\n",
       "      <th>parent_cell_set_name</th>\n",
       "      <th>labelset</th>\n",
       "      <th>cell_ontology_term_id</th>\n",
       "      <th>cell_ontology_term</th>\n",
       "      <th>rationale</th>\n",
       "      <th>rationale_dois</th>\n",
       "      <th>marker_gene_evidence</th>\n",
       "      <th>synonyms</th>\n",
       "    </tr>\n",
       "  </thead>\n",
       "  <tbody>\n",
       "    <tr>\n",
       "      <th>0</th>\n",
       "      <td>b15b444731</td>\n",
       "      <td>Vip_2</td>\n",
       "      <td>Vip_2</td>\n",
       "      <td>082c817b6f</td>\n",
       "      <td>Vip</td>\n",
       "      <td>CrossArea_cluster</td>\n",
       "      <td>CL:4023016</td>\n",
       "      <td>vip GABAergic cortical interneuron</td>\n",
       "      <td>NaN</td>\n",
       "      <td>NaN</td>\n",
       "      <td>NaN</td>\n",
       "      <td>NaN</td>\n",
       "    </tr>\n",
       "    <tr>\n",
       "      <th>1</th>\n",
       "      <td>83796aa6d9</td>\n",
       "      <td>Sst_11</td>\n",
       "      <td>Sst_11</td>\n",
       "      <td>8fa477a378</td>\n",
       "      <td>Sst</td>\n",
       "      <td>CrossArea_cluster</td>\n",
       "      <td>CL:4023017</td>\n",
       "      <td>sst GABAergic cortical interneuron</td>\n",
       "      <td>NaN</td>\n",
       "      <td>NaN</td>\n",
       "      <td>NaN</td>\n",
       "      <td>NaN</td>\n",
       "    </tr>\n",
       "    <tr>\n",
       "      <th>2</th>\n",
       "      <td>8c25f3eded</td>\n",
       "      <td>Sst_31</td>\n",
       "      <td>Sst_31</td>\n",
       "      <td>8fa477a378</td>\n",
       "      <td>Sst</td>\n",
       "      <td>CrossArea_cluster</td>\n",
       "      <td>CL:4023017</td>\n",
       "      <td>sst GABAergic cortical interneuron</td>\n",
       "      <td>NaN</td>\n",
       "      <td>NaN</td>\n",
       "      <td>NaN</td>\n",
       "      <td>NaN</td>\n",
       "    </tr>\n",
       "    <tr>\n",
       "      <th>3</th>\n",
       "      <td>319ad7ab6a</td>\n",
       "      <td>Sst_37</td>\n",
       "      <td>Sst_37</td>\n",
       "      <td>8fa477a378</td>\n",
       "      <td>Sst</td>\n",
       "      <td>CrossArea_cluster</td>\n",
       "      <td>CL:4023017</td>\n",
       "      <td>sst GABAergic cortical interneuron</td>\n",
       "      <td>NaN</td>\n",
       "      <td>NaN</td>\n",
       "      <td>NaN</td>\n",
       "      <td>NaN</td>\n",
       "    </tr>\n",
       "    <tr>\n",
       "      <th>4</th>\n",
       "      <td>51b6c3ddc3</td>\n",
       "      <td>L6 CT_3</td>\n",
       "      <td>L6 CT_3</td>\n",
       "      <td>d4ee4a2c4c</td>\n",
       "      <td>L6 CT</td>\n",
       "      <td>CrossArea_cluster</td>\n",
       "      <td>CL:4023013</td>\n",
       "      <td>corticothalamic-projecting glutamatergic corti...</td>\n",
       "      <td>NaN</td>\n",
       "      <td>NaN</td>\n",
       "      <td>NaN</td>\n",
       "      <td>NaN</td>\n",
       "    </tr>\n",
       "  </tbody>\n",
       "</table>\n",
       "</div>"
      ],
      "text/plain": [
       "  cell_set_accession cell_label cell_fullname parent_cell_set_accession  \\\n",
       "0         b15b444731      Vip_2         Vip_2                082c817b6f   \n",
       "1         83796aa6d9     Sst_11        Sst_11                8fa477a378   \n",
       "2         8c25f3eded     Sst_31        Sst_31                8fa477a378   \n",
       "3         319ad7ab6a     Sst_37        Sst_37                8fa477a378   \n",
       "4         51b6c3ddc3    L6 CT_3       L6 CT_3                d4ee4a2c4c   \n",
       "\n",
       "  parent_cell_set_name           labelset cell_ontology_term_id  \\\n",
       "0                  Vip  CrossArea_cluster            CL:4023016   \n",
       "1                  Sst  CrossArea_cluster            CL:4023017   \n",
       "2                  Sst  CrossArea_cluster            CL:4023017   \n",
       "3                  Sst  CrossArea_cluster            CL:4023017   \n",
       "4                L6 CT  CrossArea_cluster            CL:4023013   \n",
       "\n",
       "                                  cell_ontology_term  rationale  \\\n",
       "0                 vip GABAergic cortical interneuron        NaN   \n",
       "1                 sst GABAergic cortical interneuron        NaN   \n",
       "2                 sst GABAergic cortical interneuron        NaN   \n",
       "3                 sst GABAergic cortical interneuron        NaN   \n",
       "4  corticothalamic-projecting glutamatergic corti...        NaN   \n",
       "\n",
       "   rationale_dois  marker_gene_evidence  synonyms  \n",
       "0             NaN                   NaN       NaN  \n",
       "1             NaN                   NaN       NaN  \n",
       "2             NaN                   NaN       NaN  \n",
       "3             NaN                   NaN       NaN  \n",
       "4             NaN                   NaN       NaN  "
      ]
     },
     "execution_count": 12,
     "metadata": {},
     "output_type": "execute_result"
    }
   ],
   "source": [
    "import pandas as pd\n",
    "AT = pd.read_csv('./Annotation_transfer/Clusters_AT_from_MTG.tsv', sep='\\t')\n",
    "MTG_annotations = pd.read_csv('./MTG_cas/CCN20240304_annotations.tsv', sep='\\t')\n",
    "MTG_annotations[0:5]"
   ]
  },
  {
   "cell_type": "code",
   "execution_count": 13,
   "id": "633038fa-36a2-4ec7-8d7d-b689eb0d1938",
   "metadata": {},
   "outputs": [],
   "source": [
    "# Aim \n",
    "# Look up transfered MTG names (in MT) in MTG cell_label var - MT - & link Siletti Cell label to MTG annotation object\n",
    "\n",
    "# 1. Make template for annotation transfer objects\n",
    "# 2. Iterate over annotatoin transfer labels, matching to cluster labels & using this to generate annotation transfer objects.\n",
    "# 3. Attach annotation transfer objects to annotatinons"
   ]
  },
  {
   "cell_type": "code",
   "execution_count": 14,
   "id": "2c0bf692-66cd-401b-bea6-e7f0ee472fc2",
   "metadata": {},
   "outputs": [],
   "source": [
    "MTG_annotation_lookup = MTG_annotations.set_index(\"cell_label\").to_dict(orient='index')"
   ]
  },
  {
   "cell_type": "code",
   "execution_count": 15,
   "id": "43ff11bc-7c28-46e6-ad70-18d1d5f2917a",
   "metadata": {},
   "outputs": [
    {
     "data": {
      "text/plain": [
       "{'Astro',\n",
       " 'Chandelier',\n",
       " 'Endo',\n",
       " 'L2/3 IT',\n",
       " 'L4 IT',\n",
       " 'L5 IT',\n",
       " 'L5/6 NP',\n",
       " 'L6 CT',\n",
       " 'L6 IT',\n",
       " 'L6 IT Car3',\n",
       " 'L6b',\n",
       " 'Lamp5',\n",
       " 'Lamp5 Lhx6',\n",
       " 'OPC',\n",
       " 'Oligo',\n",
       " 'Pax6',\n",
       " 'Pvalb',\n",
       " 'Sncg',\n",
       " 'Sst',\n",
       " 'VLMC',\n",
       " 'Vip'}"
      ]
     },
     "execution_count": 15,
     "metadata": {},
     "output_type": "execute_result"
    }
   ],
   "source": [
    "# What matches?\n",
    "set(MTG_annotation_lookup.keys()).intersection(set(AT['Transferred MTG Label']))"
   ]
  },
  {
   "cell_type": "code",
   "execution_count": 16,
   "id": "440cfaed-d66c-4286-8b07-c2e9c1d8ebb5",
   "metadata": {},
   "outputs": [
    {
     "data": {
      "text/plain": [
       "{'Micro-PVM', nan}"
      ]
     },
     "execution_count": 16,
     "metadata": {},
     "output_type": "execute_result"
    }
   ],
   "source": [
    "# What doesn't match?  - Can we match this by hand?\n",
    "(set(AT['Transferred MTG Label']))-set(MTG_annotation_lookup.keys())"
   ]
  },
  {
   "cell_type": "code",
   "execution_count": 17,
   "id": "ce8c998b-cd0e-4935-bfcb-1f05182107ff",
   "metadata": {},
   "outputs": [
    {
     "data": {
      "text/plain": [
       "{'transferred_cell_label': 'L2/3 IT',\n",
       " 'source_node_accession': 'CrossArea_subclass_58570ade17',\n",
       " 'source_taxonomy': 'https://purl.brain-bican.org/taxonomy/AIT_MTG/AIT_MTG.json',\n",
       " 'comment': 'We performed PCA (50 components) on our full dataset, trained a random forest classifier (scikit-learn, class_ weight=‘balanced’, max_depth=50) on the MTG labels, and then predicted labels for all cells. We labeled each cluster with the mode of its constituent cells if two conditions were met: more than 0.8 of predicted labels matched the mode, and the mean probability of these pre- dictions was greater than 0.8.'}"
      ]
     },
     "execution_count": 17,
     "metadata": {},
     "output_type": "execute_result"
    }
   ],
   "source": [
    "# Dict comp => Dict keyed on Siletti Cluster_name (=cell_label) with value = MTG annotation transfer object\n",
    "# Iterate over Transferred annotations (AT)\n",
    "out = {}\n",
    "comment = \"We performed PCA (50 components) on our full dataset, trained a random forest classifier (scikit-learn, class_ weight=‘balanced’, max_depth=50) on the MTG labels, and then predicted labels for all cells. We labeled each cluster with the mode of its constituent cells if two conditions were met: more than 0.8 of predicted labels matched the mode, and the mean probability of these pre- dictions was greater than 0.8.\"\n",
    "for i,r in AT.iterrows(): \n",
    "    if r['Transferred MTG Label'] in MTG_annotation_lookup.keys():\n",
    "        MTG_ann =  MTG_annotation_lookup[r['Transferred MTG Label']]\n",
    "        out[r['Cluster name']]= { \"transferred_cell_label\" : r['Transferred MTG Label'], \n",
    "                                  \"source_node_accession\": MTG_ann['labelset'] + '_' + MTG_ann['cell_set_accession'],\n",
    "                                  \"source_taxonomy\": \"https://purl.brain-bican.org/taxonomy/AIT_MTG/AIT_MTG.json\",\n",
    "                                  \"comment\": comment }\n",
    "# Test\n",
    "out['Amex_175']"
   ]
  },
  {
   "cell_type": "code",
   "execution_count": 18,
   "id": "98b9e547-3983-4b54-917d-7d1edf4853a8",
   "metadata": {},
   "outputs": [
    {
     "data": {
      "text/plain": [
       "[{'transferred_cell_label': 'Endo',\n",
       "  'source_node_accession': 'CrossArea_subclass_48e48631ba',\n",
       "  'source_taxonomy': 'https://purl.brain-bican.org/taxonomy/AIT_MTG/AIT_MTG.json',\n",
       "  'comment': 'We performed PCA (50 components) on our full dataset, trained a random forest classifier (scikit-learn, class_ weight=‘balanced’, max_depth=50) on the MTG labels, and then predicted labels for all cells. We labeled each cluster with the mode of its constituent cells if two conditions were met: more than 0.8 of predicted labels matched the mode, and the mean probability of these pre- dictions was greater than 0.8.'}]"
      ]
     },
     "execution_count": 18,
     "metadata": {},
     "output_type": "execute_result"
    }
   ],
   "source": [
    "# Attach Annotation transfers to CAS for neurons matching on names\n",
    "\n",
    "for a in nn['annotations']:\n",
    "    if a['cell_label'] in out.keys():\n",
    "        a['annotation_transfer'] = [out[a['cell_label']]]\n",
    "        # Testing\n",
    "[a['annotation_transfer'] for a in nn['annotations'] if 'annotation_transfer' in a.keys()][0]"
   ]
  },
  {
   "cell_type": "code",
   "execution_count": 19,
   "id": "6a427c71-8f5d-4262-bed1-0c481a398de0",
   "metadata": {},
   "outputs": [],
   "source": [
    "import os\n",
    "import json\n",
    "import random\n",
    "import anndata\n",
    "import pandas as pd\n",
    "import urllib.request as request\n",
    "\n",
    "from cas.file_utils import read_json_file, write_dict_to_json_file\n",
    "from cas.add_author_annotations import add_author_annotations"
   ]
  },
  {
   "cell_type": "code",
   "execution_count": 20,
   "id": "df4f3f70-0466-4e71-9e3b-c25a9dfb13ff",
   "metadata": {},
   "outputs": [
    {
     "data": {
      "text/html": [
       "<div>\n",
       "<style scoped>\n",
       "    .dataframe tbody tr th:only-of-type {\n",
       "        vertical-align: middle;\n",
       "    }\n",
       "\n",
       "    .dataframe tbody tr th {\n",
       "        vertical-align: top;\n",
       "    }\n",
       "\n",
       "    .dataframe thead th {\n",
       "        text-align: right;\n",
       "    }\n",
       "</style>\n",
       "<table border=\"1\" class=\"dataframe\">\n",
       "  <thead>\n",
       "    <tr style=\"text-align: right;\">\n",
       "      <th></th>\n",
       "      <th>Cluster ID</th>\n",
       "      <th>cell_label</th>\n",
       "      <th>Supercluster</th>\n",
       "      <th>Class auto-annotation</th>\n",
       "      <th>Neurotransmitter auto-annotation</th>\n",
       "      <th>Neuropeptide auto-annotation</th>\n",
       "      <th>Subtype auto-annotation</th>\n",
       "      <th>Transferred MTG Label</th>\n",
       "      <th>Top three regions</th>\n",
       "      <th>Top three dissections</th>\n",
       "      <th>...</th>\n",
       "      <th>DoubletFinder score</th>\n",
       "      <th>Total UMI</th>\n",
       "      <th>Fraction unspliced</th>\n",
       "      <th>Fraction mitochondrial</th>\n",
       "      <th>H19.30.002</th>\n",
       "      <th>H19.30.001</th>\n",
       "      <th>H18.30.002</th>\n",
       "      <th>H18.30.001</th>\n",
       "      <th>Fraction cells from top donor</th>\n",
       "      <th>Number of donors</th>\n",
       "    </tr>\n",
       "  </thead>\n",
       "  <tbody>\n",
       "    <tr>\n",
       "      <th>0</th>\n",
       "      <td>0.0</td>\n",
       "      <td>Bcell_0</td>\n",
       "      <td>Miscellaneous</td>\n",
       "      <td>BCELL</td>\n",
       "      <td>NaN</td>\n",
       "      <td>NaN</td>\n",
       "      <td>NaN</td>\n",
       "      <td>NaN</td>\n",
       "      <td>Midbrain: 21.0%, Basal forebrain: 19.0%, Pons:...</td>\n",
       "      <td>Human GPi: 11.4%, Human SN: 11.4%, Human SN-RN...</td>\n",
       "      <td>...</td>\n",
       "      <td>0.013358</td>\n",
       "      <td>2258.866667</td>\n",
       "      <td>0.608113</td>\n",
       "      <td>0.020989</td>\n",
       "      <td>58.0</td>\n",
       "      <td>20.0</td>\n",
       "      <td>27.0</td>\n",
       "      <td>0.0</td>\n",
       "      <td>0.552381</td>\n",
       "      <td>3.0</td>\n",
       "    </tr>\n",
       "    <tr>\n",
       "      <th>1</th>\n",
       "      <td>1.0</td>\n",
       "      <td>Tcell_1</td>\n",
       "      <td>Miscellaneous</td>\n",
       "      <td>TCELL</td>\n",
       "      <td>NaN</td>\n",
       "      <td>NaN</td>\n",
       "      <td>NaN</td>\n",
       "      <td>NaN</td>\n",
       "      <td>Midbrain: 15.0%, Basal forebrain: 14.0%, Pons:...</td>\n",
       "      <td>Human SpC: 8.2%, Human CbDN: 7.6%, Human SN: 7.4%</td>\n",
       "      <td>...</td>\n",
       "      <td>0.022371</td>\n",
       "      <td>2184.314470</td>\n",
       "      <td>0.582884</td>\n",
       "      <td>0.021212</td>\n",
       "      <td>708.0</td>\n",
       "      <td>400.0</td>\n",
       "      <td>1364.0</td>\n",
       "      <td>2.0</td>\n",
       "      <td>0.551334</td>\n",
       "      <td>4.0</td>\n",
       "    </tr>\n",
       "    <tr>\n",
       "      <th>2</th>\n",
       "      <td>2.0</td>\n",
       "      <td>Nkcell_2</td>\n",
       "      <td>Miscellaneous</td>\n",
       "      <td>NK</td>\n",
       "      <td>NaN</td>\n",
       "      <td>NaN</td>\n",
       "      <td>NaN</td>\n",
       "      <td>NaN</td>\n",
       "      <td>Thalamus: 17.6%, Cerebral cortex: 15.5%, Basal...</td>\n",
       "      <td>Human GPe: 5.7%, Human GPi: 5.5%, Human CbDN: ...</td>\n",
       "      <td>...</td>\n",
       "      <td>0.023788</td>\n",
       "      <td>2263.348733</td>\n",
       "      <td>0.558228</td>\n",
       "      <td>0.020093</td>\n",
       "      <td>245.0</td>\n",
       "      <td>126.0</td>\n",
       "      <td>300.0</td>\n",
       "      <td>0.0</td>\n",
       "      <td>0.447094</td>\n",
       "      <td>3.0</td>\n",
       "    </tr>\n",
       "  </tbody>\n",
       "</table>\n",
       "<p>3 rows × 22 columns</p>\n",
       "</div>"
      ],
      "text/plain": [
       "   Cluster ID cell_label   Supercluster Class auto-annotation  \\\n",
       "0         0.0    Bcell_0  Miscellaneous                 BCELL   \n",
       "1         1.0    Tcell_1  Miscellaneous                 TCELL   \n",
       "2         2.0   Nkcell_2  Miscellaneous                    NK   \n",
       "\n",
       "  Neurotransmitter auto-annotation Neuropeptide auto-annotation  \\\n",
       "0                              NaN                          NaN   \n",
       "1                              NaN                          NaN   \n",
       "2                              NaN                          NaN   \n",
       "\n",
       "  Subtype auto-annotation Transferred MTG Label  \\\n",
       "0                     NaN                   NaN   \n",
       "1                     NaN                   NaN   \n",
       "2                     NaN                   NaN   \n",
       "\n",
       "                                   Top three regions  \\\n",
       "0  Midbrain: 21.0%, Basal forebrain: 19.0%, Pons:...   \n",
       "1  Midbrain: 15.0%, Basal forebrain: 14.0%, Pons:...   \n",
       "2  Thalamus: 17.6%, Cerebral cortex: 15.5%, Basal...   \n",
       "\n",
       "                               Top three dissections  ... DoubletFinder score  \\\n",
       "0  Human GPi: 11.4%, Human SN: 11.4%, Human SN-RN...  ...            0.013358   \n",
       "1  Human SpC: 8.2%, Human CbDN: 7.6%, Human SN: 7.4%  ...            0.022371   \n",
       "2  Human GPe: 5.7%, Human GPi: 5.5%, Human CbDN: ...  ...            0.023788   \n",
       "\n",
       "     Total UMI  Fraction unspliced  Fraction mitochondrial  H19.30.002  \\\n",
       "0  2258.866667            0.608113                0.020989        58.0   \n",
       "1  2184.314470            0.582884                0.021212       708.0   \n",
       "2  2263.348733            0.558228                0.020093       245.0   \n",
       "\n",
       "   H19.30.001  H18.30.002  H18.30.001  Fraction cells from top donor  \\\n",
       "0        20.0        27.0         0.0                       0.552381   \n",
       "1       400.0      1364.0         2.0                       0.551334   \n",
       "2       126.0       300.0         0.0                       0.447094   \n",
       "\n",
       "   Number of donors  \n",
       "0               3.0  \n",
       "1               4.0  \n",
       "2               3.0  \n",
       "\n",
       "[3 rows x 22 columns]"
      ]
     },
     "execution_count": 20,
     "metadata": {},
     "output_type": "execute_result"
    }
   ],
   "source": [
    "# Load the CSV file\n",
    "csv_df = pd.read_csv('./Author_cathegories/science.add7046_table_s3.csv')\n",
    "# filter empty rows\n",
    "csv_df = csv_df[csv_df['cell_label'].notna()]\n",
    "csv_df.head(3)"
   ]
  },
  {
   "cell_type": "code",
   "execution_count": 21,
   "id": "f7a3763f-5c44-4839-9a9a-6c3404a6f40b",
   "metadata": {},
   "outputs": [
    {
     "data": {
      "text/plain": [
       "['Class auto-annotation',\n",
       " 'Neurotransmitter auto-annotation',\n",
       " 'Neuropeptide auto-annotation',\n",
       " 'Subtype auto-annotation',\n",
       " 'Transferred MTG Label',\n",
       " 'Top three regions',\n",
       " 'Top three dissections',\n",
       " 'Top Enriched Genes',\n",
       " 'Number of cells',\n",
       " 'DoubletFinder score',\n",
       " 'Total UMI',\n",
       " 'Fraction unspliced',\n",
       " 'Fraction mitochondrial',\n",
       " 'H19.30.002',\n",
       " 'H19.30.001',\n",
       " 'H18.30.002',\n",
       " 'H18.30.001',\n",
       " 'Fraction cells from top donor',\n",
       " 'Number of donors']"
      ]
     },
     "execution_count": 21,
     "metadata": {},
     "output_type": "execute_result"
    }
   ],
   "source": [
    "csv_columns = csv_df.columns.tolist()\n",
    "exclude_columns = [\"Cluster ID\", \"cell_label\", \"Supercluster\"]\n",
    "columns_to_ingest = [column for column in csv_columns if column not in exclude_columns]\n",
    "columns_to_ingest"
   ]
  },
  {
   "cell_type": "code",
   "execution_count": 22,
   "id": "735fff83-34fb-44bf-9d2b-3f8b5f184201",
   "metadata": {},
   "outputs": [],
   "source": [
    "# cell_label is required, add it forcefully if not exist\n",
    "for annotation in nn[\"annotations\"]:\n",
    "    if \"cell_label\" not in annotation:\n",
    "        print(annotation)\n",
    "        annotation[\"cell_label\"] = \"NA\""
   ]
  },
  {
   "cell_type": "code",
   "execution_count": 23,
   "id": "ab08326e-d4d8-447b-bb97-843c396a5f65",
   "metadata": {},
   "outputs": [],
   "source": [
    "cellset_labels = [annotation[\"cell_label\"] for annotation in nn[\"annotations\"]]\n",
    "csv_df = csv_df[csv_df['cell_label'].isin(cellset_labels)]\n",
    "new_labelsets = [\n",
    "    {\n",
    "        \"name\": \"subcluster\",\n",
    "        \"description\": \"The finest level of cell type definition in the human whole brain taxonomy. It is defined by applying Louvain clustering independently for each cluster. Cells within a subcluster share similar characteristics and belong to the same cluster. In some cases subclusters are distinct, and in other cases represent cell states or gradients within the same cluster.\",\n",
    "        \"rank\": 0\n",
    "    },\n",
    "    {\n",
    "        \"name\": \"cluster\",\n",
    "        \"description\": \"An intermediate level of cell type definitions in the human whole brain taxonomy. It is defined by applying Louvain clustering independently for each supercluster. All cells within a subcluster belong to the same cluster. Clusters group together similar subclusters and are highly distinct from one another.\",\n",
    "        \"rank\": 1\n",
    "    },\n",
    "    {\n",
    "        \"name\": \"supercluster\",\n",
    "        \"description\": \"The top level of cell type definition in the human whole brain taxonomy. It is defined using Louvain clustering (Cytograph) with most superclusters determined by broad brain region and neurotransmitter type. All cells within a cluster belong to the same supercluster. Supercluster provides a broader characterization of cell types.\",\n",
    "        \"rank\": 2\n",
    "    }\n",
    "]"
   ]
  },
  {
   "cell_type": "code",
   "execution_count": 24,
   "id": "61933e2d-8cef-438c-84dc-15e80441b107",
   "metadata": {},
   "outputs": [],
   "source": [
    "updated_nn = add_author_annotations(nn, csv_df, \"cell_label\", columns_to_ingest)\n",
    "updated_nn[\"labelsets\"] = new_labelsets"
   ]
  },
  {
   "cell_type": "code",
   "execution_count": 25,
   "id": "2577fa28-ce66-46d8-9e7f-f50dabf12346",
   "metadata": {},
   "outputs": [],
   "source": [
    "write_dict_to_json_file('./Final_json_files/Siletti_added_author_categories_v2_nn.json', updated_nn)"
   ]
  },
  {
   "cell_type": "code",
   "execution_count": null,
   "id": "5e18fdb4-d26b-4149-8cf7-924422955e7d",
   "metadata": {},
   "outputs": [],
   "source": []
  }
 ],
 "metadata": {
  "kernelspec": {
   "display_name": "venv",
   "language": "python",
   "name": "venv"
  },
  "language_info": {
   "codemirror_mode": {
    "name": "ipython",
    "version": 3
   },
   "file_extension": ".py",
   "mimetype": "text/x-python",
   "name": "python",
   "nbconvert_exporter": "python",
   "pygments_lexer": "ipython3",
   "version": "3.9.19"
  }
 },
 "nbformat": 4,
 "nbformat_minor": 5
}
