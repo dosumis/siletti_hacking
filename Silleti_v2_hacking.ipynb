{
 "cells": [
  {
   "cell_type": "code",
   "execution_count": 1,
   "id": "7057bcef-7fbe-4dad-924f-02cf067ab76a",
   "metadata": {},
   "outputs": [
    {
     "name": "stdout",
     "output_type": "stream",
     "text": [
      "Requirement already satisfied: pandas in ./venv/lib/python3.9/site-packages (2.2.1)\n",
      "Requirement already satisfied: numpy<2,>=1.22.4 in ./venv/lib/python3.9/site-packages (from pandas) (1.26.4)\n",
      "Requirement already satisfied: python-dateutil>=2.8.2 in ./venv/lib/python3.9/site-packages (from pandas) (2.9.0)\n",
      "Requirement already satisfied: pytz>=2020.1 in ./venv/lib/python3.9/site-packages (from pandas) (2024.1)\n",
      "Requirement already satisfied: tzdata>=2022.7 in ./venv/lib/python3.9/site-packages (from pandas) (2024.1)\n",
      "Requirement already satisfied: six>=1.5 in ./venv/lib/python3.9/site-packages (from python-dateutil>=2.8.2->pandas) (1.16.0)\n",
      "\n",
      "\u001b[1m[\u001b[0m\u001b[34;49mnotice\u001b[0m\u001b[1;39;49m]\u001b[0m\u001b[39;49m A new release of pip is available: \u001b[0m\u001b[31;49m24.1\u001b[0m\u001b[39;49m -> \u001b[0m\u001b[32;49m24.1.1\u001b[0m\n",
      "\u001b[1m[\u001b[0m\u001b[34;49mnotice\u001b[0m\u001b[1;39;49m]\u001b[0m\u001b[39;49m To update, run: \u001b[0m\u001b[32;49mpip install --upgrade pip\u001b[0m\n",
      "Requirement already satisfied: cas-tools==0.0.1.dev47 in ./venv/lib/python3.9/site-packages (0.0.1.dev47)\n",
      "Requirement already satisfied: anndata==0.10.3 in ./venv/lib/python3.9/site-packages (from cas-tools==0.0.1.dev47) (0.10.3)\n",
      "Requirement already satisfied: cellxgene-census==1.10.2 in ./venv/lib/python3.9/site-packages (from cas-tools==0.0.1.dev47) (1.10.2)\n",
      "Requirement already satisfied: openpyxl==3.1.2 in ./venv/lib/python3.9/site-packages (from cas-tools==0.0.1.dev47) (3.1.2)\n",
      "Requirement already satisfied: dataclasses-json==0.6.4 in ./venv/lib/python3.9/site-packages (from cas-tools==0.0.1.dev47) (0.6.4)\n",
      "Requirement already satisfied: pandas==2.2.1 in ./venv/lib/python3.9/site-packages (from cas-tools==0.0.1.dev47) (2.2.1)\n",
      "Requirement already satisfied: ruamel.yaml==0.18.6 in ./venv/lib/python3.9/site-packages (from cas-tools==0.0.1.dev47) (0.18.6)\n",
      "Collecting jsonschema==4.4.0 (from cas-tools==0.0.1.dev47)\n",
      "  Using cached jsonschema-4.4.0-py3-none-any.whl.metadata (7.5 kB)\n",
      "Requirement already satisfied: ordered-set==4.1.0 in ./venv/lib/python3.9/site-packages (from cas-tools==0.0.1.dev47) (4.1.0)\n",
      "Requirement already satisfied: deepmerge==1.1.0 in ./venv/lib/python3.9/site-packages (from cas-tools==0.0.1.dev47) (1.1.0)\n",
      "Requirement already satisfied: cell-annotation-schema==0.2b0 in ./venv/lib/python3.9/site-packages (from cas-tools==0.0.1.dev47) (0.2b0)\n",
      "Requirement already satisfied: h5py==3.10.0 in ./venv/lib/python3.9/site-packages (from cas-tools==0.0.1.dev47) (3.10.0)\n",
      "Requirement already satisfied: numpy==1.26.4 in ./venv/lib/python3.9/site-packages (from cas-tools==0.0.1.dev47) (1.26.4)\n",
      "Requirement already satisfied: marshmallow==3.21.1 in ./venv/lib/python3.9/site-packages (from cas-tools==0.0.1.dev47) (3.21.1)\n",
      "Requirement already satisfied: python-dateutil==2.9.0 in ./venv/lib/python3.9/site-packages (from cas-tools==0.0.1.dev47) (2.9.0)\n",
      "Requirement already satisfied: schema-automator==0.5.1 in ./venv/lib/python3.9/site-packages (from cas-tools==0.0.1.dev47) (0.5.1)\n",
      "Requirement already satisfied: linkml==1.7.8 in ./venv/lib/python3.9/site-packages (from cas-tools==0.0.1.dev47) (1.7.8)\n",
      "Requirement already satisfied: oaklib==0.6.4 in ./venv/lib/python3.9/site-packages (from cas-tools==0.0.1.dev47) (0.6.4)\n",
      "Requirement already satisfied: defusedxml==0.7.1 in ./venv/lib/python3.9/site-packages (from cas-tools==0.0.1.dev47) (0.7.1)\n",
      "Requirement already satisfied: rdflib==7.0.0 in ./venv/lib/python3.9/site-packages (from cas-tools==0.0.1.dev47) (7.0.0)\n",
      "Requirement already satisfied: requests==2.32.0 in ./venv/lib/python3.9/site-packages (from cas-tools==0.0.1.dev47) (2.32.0)\n",
      "Requirement already satisfied: array-api-compat in ./venv/lib/python3.9/site-packages (from anndata==0.10.3->cas-tools==0.0.1.dev47) (1.7.1)\n",
      "Requirement already satisfied: exceptiongroup in ./venv/lib/python3.9/site-packages (from anndata==0.10.3->cas-tools==0.0.1.dev47) (1.2.1)\n",
      "Requirement already satisfied: natsort in ./venv/lib/python3.9/site-packages (from anndata==0.10.3->cas-tools==0.0.1.dev47) (8.4.0)\n",
      "Requirement already satisfied: packaging>=20 in ./venv/lib/python3.9/site-packages (from anndata==0.10.3->cas-tools==0.0.1.dev47) (24.1)\n",
      "Requirement already satisfied: scipy>1.4 in ./venv/lib/python3.9/site-packages (from anndata==0.10.3->cas-tools==0.0.1.dev47) (1.13.1)\n",
      "Requirement already satisfied: tiledbsoma~=1.7.0 in ./venv/lib/python3.9/site-packages (from cellxgene-census==1.10.2->cas-tools==0.0.1.dev47) (1.7.3)\n",
      "Requirement already satisfied: typing-extensions in ./venv/lib/python3.9/site-packages (from cellxgene-census==1.10.2->cas-tools==0.0.1.dev47) (4.12.2)\n",
      "Requirement already satisfied: s3fs>=2021.06.1 in ./venv/lib/python3.9/site-packages (from cellxgene-census==1.10.2->cas-tools==0.0.1.dev47) (2024.6.0)\n",
      "Requirement already satisfied: typing-inspect<1,>=0.4.0 in ./venv/lib/python3.9/site-packages (from dataclasses-json==0.6.4->cas-tools==0.0.1.dev47) (0.9.0)\n",
      "Requirement already satisfied: attrs>=17.4.0 in ./venv/lib/python3.9/site-packages (from jsonschema==4.4.0->cas-tools==0.0.1.dev47) (23.2.0)\n",
      "Requirement already satisfied: pyrsistent!=0.17.0,!=0.17.1,!=0.17.2,>=0.14.0 in ./venv/lib/python3.9/site-packages (from jsonschema==4.4.0->cas-tools==0.0.1.dev47) (0.20.0)\n",
      "Requirement already satisfied: antlr4-python3-runtime<4.10,>=4.9.0 in ./venv/lib/python3.9/site-packages (from linkml==1.7.8->cas-tools==0.0.1.dev47) (4.9.3)\n",
      "Requirement already satisfied: click>=7.0 in ./venv/lib/python3.9/site-packages (from linkml==1.7.8->cas-tools==0.0.1.dev47) (8.1.7)\n",
      "Requirement already satisfied: graphviz>=0.10.1 in ./venv/lib/python3.9/site-packages (from linkml==1.7.8->cas-tools==0.0.1.dev47) (0.20.3)\n",
      "Requirement already satisfied: hbreader in ./venv/lib/python3.9/site-packages (from linkml==1.7.8->cas-tools==0.0.1.dev47) (0.9.1)\n",
      "Requirement already satisfied: isodate>=0.6.0 in ./venv/lib/python3.9/site-packages (from linkml==1.7.8->cas-tools==0.0.1.dev47) (0.6.1)\n",
      "Requirement already satisfied: jinja2>=3.1.0 in ./venv/lib/python3.9/site-packages (from linkml==1.7.8->cas-tools==0.0.1.dev47) (3.1.4)\n",
      "Requirement already satisfied: jsonasobj2<2.0.0,>=1.0.3 in ./venv/lib/python3.9/site-packages (from linkml==1.7.8->cas-tools==0.0.1.dev47) (1.0.4)\n",
      "Requirement already satisfied: linkml-dataops in ./venv/lib/python3.9/site-packages (from linkml==1.7.8->cas-tools==0.0.1.dev47) (0.1.0)\n",
      "Requirement already satisfied: linkml-runtime>=1.7.4 in ./venv/lib/python3.9/site-packages (from linkml==1.7.8->cas-tools==0.0.1.dev47) (1.7.7)\n",
      "Requirement already satisfied: parse in ./venv/lib/python3.9/site-packages (from linkml==1.7.8->cas-tools==0.0.1.dev47) (1.20.2)\n",
      "Requirement already satisfied: prefixcommons>=0.1.7 in ./venv/lib/python3.9/site-packages (from linkml==1.7.8->cas-tools==0.0.1.dev47) (0.1.12)\n",
      "Requirement already satisfied: prefixmaps>=0.2.2 in ./venv/lib/python3.9/site-packages (from linkml==1.7.8->cas-tools==0.0.1.dev47) (0.2.4)\n",
      "Requirement already satisfied: pydantic<3.0.0,>=1.0.0 in ./venv/lib/python3.9/site-packages (from linkml==1.7.8->cas-tools==0.0.1.dev47) (2.7.4)\n",
      "Requirement already satisfied: pyjsg>=0.11.6 in ./venv/lib/python3.9/site-packages (from linkml==1.7.8->cas-tools==0.0.1.dev47) (0.11.10)\n",
      "Requirement already satisfied: pyshex>=0.7.20 in ./venv/lib/python3.9/site-packages (from linkml==1.7.8->cas-tools==0.0.1.dev47) (0.8.1)\n",
      "Requirement already satisfied: pyshexc>=0.8.3 in ./venv/lib/python3.9/site-packages (from linkml==1.7.8->cas-tools==0.0.1.dev47) (0.9.1)\n",
      "Requirement already satisfied: pyyaml in ./venv/lib/python3.9/site-packages (from linkml==1.7.8->cas-tools==0.0.1.dev47) (6.0.1)\n",
      "Requirement already satisfied: sqlalchemy>=1.4.31 in ./venv/lib/python3.9/site-packages (from linkml==1.7.8->cas-tools==0.0.1.dev47) (2.0.31)\n",
      "Requirement already satisfied: watchdog>=0.9.0 in ./venv/lib/python3.9/site-packages (from linkml==1.7.8->cas-tools==0.0.1.dev47) (4.0.1)\n",
      "Requirement already satisfied: SPARQLWrapper in ./venv/lib/python3.9/site-packages (from oaklib==0.6.4->cas-tools==0.0.1.dev47) (2.0.0)\n",
      "Requirement already satisfied: airium>=0.2.5 in ./venv/lib/python3.9/site-packages (from oaklib==0.6.4->cas-tools==0.0.1.dev47) (0.2.6)\n",
      "Requirement already satisfied: appdirs>=1.4.4 in ./venv/lib/python3.9/site-packages (from oaklib==0.6.4->cas-tools==0.0.1.dev47) (1.4.4)\n",
      "Requirement already satisfied: class-resolver>=0.4.2 in ./venv/lib/python3.9/site-packages (from oaklib==0.6.4->cas-tools==0.0.1.dev47) (0.4.3)\n",
      "Requirement already satisfied: curies>=0.6.6 in ./venv/lib/python3.9/site-packages (from oaklib==0.6.4->cas-tools==0.0.1.dev47) (0.7.9)\n",
      "Requirement already satisfied: eutils>=0.6.0 in ./venv/lib/python3.9/site-packages (from oaklib==0.6.4->cas-tools==0.0.1.dev47) (0.6.0)\n",
      "Requirement already satisfied: funowl>=0.2.0 in ./venv/lib/python3.9/site-packages (from oaklib==0.6.4->cas-tools==0.0.1.dev47) (0.2.3)\n",
      "Requirement already satisfied: jsonlines<5.0.0,>=4.0.0 in ./venv/lib/python3.9/site-packages (from oaklib==0.6.4->cas-tools==0.0.1.dev47) (4.0.0)\n",
      "Requirement already satisfied: kgcl-rdflib==0.5.0 in ./venv/lib/python3.9/site-packages (from oaklib==0.6.4->cas-tools==0.0.1.dev47) (0.5.0)\n",
      "Requirement already satisfied: kgcl-schema<0.7.0,>=0.6.8 in ./venv/lib/python3.9/site-packages (from oaklib==0.6.4->cas-tools==0.0.1.dev47) (0.6.8)\n",
      "Requirement already satisfied: linkml-renderer>=0.3.0 in ./venv/lib/python3.9/site-packages (from oaklib==0.6.4->cas-tools==0.0.1.dev47) (0.3.0)\n",
      "Requirement already satisfied: ndex2<4.0.0,>=3.5.0 in ./venv/lib/python3.9/site-packages (from oaklib==0.6.4->cas-tools==0.0.1.dev47) (3.9.0)\n",
      "Requirement already satisfied: networkx>=2.7.1 in ./venv/lib/python3.9/site-packages (from oaklib==0.6.4->cas-tools==0.0.1.dev47) (3.2.1)\n",
      "Requirement already satisfied: ols-client>=0.1.1 in ./venv/lib/python3.9/site-packages (from oaklib==0.6.4->cas-tools==0.0.1.dev47) (0.1.4)\n",
      "Requirement already satisfied: ontoportal-client>=0.0.3 in ./venv/lib/python3.9/site-packages (from oaklib==0.6.4->cas-tools==0.0.1.dev47) (0.0.4)\n",
      "Requirement already satisfied: pronto>=2.5.0 in ./venv/lib/python3.9/site-packages (from oaklib==0.6.4->cas-tools==0.0.1.dev47) (2.5.7)\n",
      "Requirement already satisfied: pysolr<4.0.0,>=3.9.0 in ./venv/lib/python3.9/site-packages (from oaklib==0.6.4->cas-tools==0.0.1.dev47) (3.9.0)\n",
      "Requirement already satisfied: pystow>=0.5.0 in ./venv/lib/python3.9/site-packages (from oaklib==0.6.4->cas-tools==0.0.1.dev47) (0.5.4)\n",
      "Requirement already satisfied: ratelimit>=2.2.1 in ./venv/lib/python3.9/site-packages (from oaklib==0.6.4->cas-tools==0.0.1.dev47) (2.2.1)\n",
      "Requirement already satisfied: requests-cache<2.0.0,>=1.0.1 in ./venv/lib/python3.9/site-packages (from oaklib==0.6.4->cas-tools==0.0.1.dev47) (1.2.1)\n",
      "Requirement already satisfied: semsql>=0.3.1 in ./venv/lib/python3.9/site-packages (from oaklib==0.6.4->cas-tools==0.0.1.dev47) (0.3.3)\n",
      "Requirement already satisfied: sssom<0.5.0,>=0.4.4 in ./venv/lib/python3.9/site-packages (from oaklib==0.6.4->cas-tools==0.0.1.dev47) (0.4.9)\n",
      "Requirement already satisfied: tenacity<9.0.0,>=8.2.3 in ./venv/lib/python3.9/site-packages (from oaklib==0.6.4->cas-tools==0.0.1.dev47) (8.4.1)\n",
      "Requirement already satisfied: et-xmlfile in ./venv/lib/python3.9/site-packages (from openpyxl==3.1.2->cas-tools==0.0.1.dev47) (1.1.0)\n",
      "Requirement already satisfied: pytz>=2020.1 in ./venv/lib/python3.9/site-packages (from pandas==2.2.1->cas-tools==0.0.1.dev47) (2024.1)\n",
      "Requirement already satisfied: tzdata>=2022.7 in ./venv/lib/python3.9/site-packages (from pandas==2.2.1->cas-tools==0.0.1.dev47) (2024.1)\n",
      "Requirement already satisfied: six>=1.5 in ./venv/lib/python3.9/site-packages (from python-dateutil==2.9.0->cas-tools==0.0.1.dev47) (1.16.0)\n",
      "Requirement already satisfied: pyparsing<4,>=2.1.0 in ./venv/lib/python3.9/site-packages (from rdflib==7.0.0->cas-tools==0.0.1.dev47) (3.1.2)\n",
      "Requirement already satisfied: charset-normalizer<4,>=2 in ./venv/lib/python3.9/site-packages (from requests==2.32.0->cas-tools==0.0.1.dev47) (3.3.2)\n",
      "Requirement already satisfied: idna<4,>=2.5 in ./venv/lib/python3.9/site-packages (from requests==2.32.0->cas-tools==0.0.1.dev47) (3.7)\n",
      "Requirement already satisfied: urllib3<3,>=1.21.1 in ./venv/lib/python3.9/site-packages (from requests==2.32.0->cas-tools==0.0.1.dev47) (1.26.19)\n",
      "Requirement already satisfied: certifi>=2017.4.17 in ./venv/lib/python3.9/site-packages (from requests==2.32.0->cas-tools==0.0.1.dev47) (2024.6.2)\n",
      "Requirement already satisfied: ruamel.yaml.clib>=0.2.7 in ./venv/lib/python3.9/site-packages (from ruamel.yaml==0.18.6->cas-tools==0.0.1.dev47) (0.2.8)\n",
      "Requirement already satisfied: click-default-group<2.0.0,>=1.2.4 in ./venv/lib/python3.9/site-packages (from schema-automator==0.5.1->cas-tools==0.0.1.dev47) (1.2.4)\n",
      "Requirement already satisfied: click-log>=0.4.0 in ./venv/lib/python3.9/site-packages (from schema-automator==0.5.1->cas-tools==0.0.1.dev47) (0.4.0)\n",
      "Requirement already satisfied: duckdb<0.11.0,>=0.10.1 in ./venv/lib/python3.9/site-packages (from schema-automator==0.5.1->cas-tools==0.0.1.dev47) (0.10.3)\n",
      "Requirement already satisfied: inflect>=6.0.0 in ./venv/lib/python3.9/site-packages (from schema-automator==0.5.1->cas-tools==0.0.1.dev47) (7.3.0)\n",
      "Requirement already satisfied: jsonpatch>=1.32 in ./venv/lib/python3.9/site-packages (from schema-automator==0.5.1->cas-tools==0.0.1.dev47) (1.33)\n",
      "Requirement already satisfied: mkdocs>=1.2.3 in ./venv/lib/python3.9/site-packages (from schema-automator==0.5.1->cas-tools==0.0.1.dev47) (1.6.0)\n",
      "Requirement already satisfied: pandera>=0.12.0 in ./venv/lib/python3.9/site-packages (from schema-automator==0.5.1->cas-tools==0.0.1.dev47) (0.19.3)\n",
      "Requirement already satisfied: psycopg2-binary<3.0.0,>=2.9.2 in ./venv/lib/python3.9/site-packages (from schema-automator==0.5.1->cas-tools==0.0.1.dev47) (2.9.9)\n",
      "Requirement already satisfied: quantulum3>=0.7.9 in ./venv/lib/python3.9/site-packages (from schema-automator==0.5.1->cas-tools==0.0.1.dev47) (0.9.1)\n",
      "Requirement already satisfied: schemasheets>=0.1.24 in ./venv/lib/python3.9/site-packages (from schema-automator==0.5.1->cas-tools==0.0.1.dev47) (0.2.1)\n",
      "Requirement already satisfied: strsimpy>=0.2.1 in ./venv/lib/python3.9/site-packages (from schema-automator==0.5.1->cas-tools==0.0.1.dev47) (0.2.1)\n",
      "Requirement already satisfied: tomlkit>=0.11.4 in ./venv/lib/python3.9/site-packages (from schema-automator==0.5.1->cas-tools==0.0.1.dev47) (0.12.5)\n",
      "Requirement already satisfied: xmltodict<0.14.0,>=0.13.0 in ./venv/lib/python3.9/site-packages (from schema-automator==0.5.1->cas-tools==0.0.1.dev47) (0.13.0)\n",
      "Requirement already satisfied: importlib-metadata>3.6 in ./venv/lib/python3.9/site-packages (from class-resolver>=0.4.2->oaklib==0.6.4->cas-tools==0.0.1.dev47) (7.2.1)\n",
      "Requirement already satisfied: pytrie in ./venv/lib/python3.9/site-packages (from curies>=0.6.6->oaklib==0.6.4->cas-tools==0.0.1.dev47) (0.4.0)\n",
      "Requirement already satisfied: lxml in ./venv/lib/python3.9/site-packages (from eutils>=0.6.0->oaklib==0.6.4->cas-tools==0.0.1.dev47) (5.2.2)\n",
      "Requirement already satisfied: bcp47 in ./venv/lib/python3.9/site-packages (from funowl>=0.2.0->oaklib==0.6.4->cas-tools==0.0.1.dev47) (0.1.0)\n",
      "Requirement already satisfied: jsonasobj in ./venv/lib/python3.9/site-packages (from funowl>=0.2.0->oaklib==0.6.4->cas-tools==0.0.1.dev47) (1.3.1)\n",
      "Requirement already satisfied: rdflib-shim in ./venv/lib/python3.9/site-packages (from funowl>=0.2.0->oaklib==0.6.4->cas-tools==0.0.1.dev47) (1.0.3)\n",
      "Requirement already satisfied: rfc3987 in ./venv/lib/python3.9/site-packages (from funowl>=0.2.0->oaklib==0.6.4->cas-tools==0.0.1.dev47) (1.3.8)\n",
      "Requirement already satisfied: more-itertools in ./venv/lib/python3.9/site-packages (from inflect>=6.0.0->schema-automator==0.5.1->cas-tools==0.0.1.dev47) (10.3.0)\n",
      "Requirement already satisfied: typeguard>=4.0.1 in ./venv/lib/python3.9/site-packages (from inflect>=6.0.0->schema-automator==0.5.1->cas-tools==0.0.1.dev47) (4.3.0)\n",
      "Requirement already satisfied: MarkupSafe>=2.0 in ./venv/lib/python3.9/site-packages (from jinja2>=3.1.0->linkml==1.7.8->cas-tools==0.0.1.dev47) (2.1.5)\n",
      "Requirement already satisfied: jsonpointer>=1.9 in ./venv/lib/python3.9/site-packages (from jsonpatch>=1.32->schema-automator==0.5.1->cas-tools==0.0.1.dev47) (3.0.0)\n",
      "Requirement already satisfied: fqdn in ./venv/lib/python3.9/site-packages (from jsonschema[format]>=4.0.0->linkml==1.7.8->cas-tools==0.0.1.dev47) (1.5.1)\n",
      "Requirement already satisfied: isoduration in ./venv/lib/python3.9/site-packages (from jsonschema[format]>=4.0.0->linkml==1.7.8->cas-tools==0.0.1.dev47) (20.11.0)\n",
      "Requirement already satisfied: rfc3339-validator in ./venv/lib/python3.9/site-packages (from jsonschema[format]>=4.0.0->linkml==1.7.8->cas-tools==0.0.1.dev47) (0.1.4)\n",
      "Requirement already satisfied: uri-template in ./venv/lib/python3.9/site-packages (from jsonschema[format]>=4.0.0->linkml==1.7.8->cas-tools==0.0.1.dev47) (1.3.0)\n",
      "Requirement already satisfied: webcolors>=1.11 in ./venv/lib/python3.9/site-packages (from jsonschema[format]>=4.0.0->linkml==1.7.8->cas-tools==0.0.1.dev47) (24.6.0)\n",
      "Requirement already satisfied: lark>=1.1.2 in ./venv/lib/python3.9/site-packages (from kgcl-schema<0.7.0,>=0.6.8->oaklib==0.6.4->cas-tools==0.0.1.dev47) (1.1.9)\n",
      "Requirement already satisfied: deprecated in ./venv/lib/python3.9/site-packages (from linkml-runtime>=1.7.4->linkml==1.7.8->cas-tools==0.0.1.dev47) (1.2.14)\n",
      "Requirement already satisfied: json-flattener>=0.1.9 in ./venv/lib/python3.9/site-packages (from linkml-runtime>=1.7.4->linkml==1.7.8->cas-tools==0.0.1.dev47) (0.1.9)\n",
      "Requirement already satisfied: ghp-import>=1.0 in ./venv/lib/python3.9/site-packages (from mkdocs>=1.2.3->schema-automator==0.5.1->cas-tools==0.0.1.dev47) (2.1.0)\n",
      "Requirement already satisfied: markdown>=3.3.6 in ./venv/lib/python3.9/site-packages (from mkdocs>=1.2.3->schema-automator==0.5.1->cas-tools==0.0.1.dev47) (3.6)\n",
      "Requirement already satisfied: mergedeep>=1.3.4 in ./venv/lib/python3.9/site-packages (from mkdocs>=1.2.3->schema-automator==0.5.1->cas-tools==0.0.1.dev47) (1.3.4)\n",
      "Requirement already satisfied: mkdocs-get-deps>=0.2.0 in ./venv/lib/python3.9/site-packages (from mkdocs>=1.2.3->schema-automator==0.5.1->cas-tools==0.0.1.dev47) (0.2.0)\n",
      "Requirement already satisfied: pathspec>=0.11.1 in ./venv/lib/python3.9/site-packages (from mkdocs>=1.2.3->schema-automator==0.5.1->cas-tools==0.0.1.dev47) (0.12.1)\n",
      "Requirement already satisfied: pyyaml-env-tag>=0.1 in ./venv/lib/python3.9/site-packages (from mkdocs>=1.2.3->schema-automator==0.5.1->cas-tools==0.0.1.dev47) (0.1)\n",
      "Requirement already satisfied: ijson in ./venv/lib/python3.9/site-packages (from ndex2<4.0.0,>=3.5.0->oaklib==0.6.4->cas-tools==0.0.1.dev47) (3.3.0)\n",
      "Requirement already satisfied: requests-toolbelt in ./venv/lib/python3.9/site-packages (from ndex2<4.0.0,>=3.5.0->oaklib==0.6.4->cas-tools==0.0.1.dev47) (1.0.0)\n",
      "Requirement already satisfied: more-click in ./venv/lib/python3.9/site-packages (from ols-client>=0.1.1->oaklib==0.6.4->cas-tools==0.0.1.dev47) (0.1.2)\n",
      "Requirement already satisfied: multimethod<=1.10.0 in ./venv/lib/python3.9/site-packages (from pandera>=0.12.0->schema-automator==0.5.1->cas-tools==0.0.1.dev47) (1.10)\n",
      "Requirement already satisfied: wrapt in ./venv/lib/python3.9/site-packages (from pandera>=0.12.0->schema-automator==0.5.1->cas-tools==0.0.1.dev47) (1.16.0)\n",
      "Requirement already satisfied: pytest-logging<2016.0.0,>=2015.11.4 in ./venv/lib/python3.9/site-packages (from prefixcommons>=0.1.7->linkml==1.7.8->cas-tools==0.0.1.dev47) (2015.11.4)\n",
      "Requirement already satisfied: chardet~=5.0 in ./venv/lib/python3.9/site-packages (from pronto>=2.5.0->oaklib==0.6.4->cas-tools==0.0.1.dev47) (5.2.0)\n",
      "Requirement already satisfied: fastobo~=0.12.2 in ./venv/lib/python3.9/site-packages (from pronto>=2.5.0->oaklib==0.6.4->cas-tools==0.0.1.dev47) (0.12.3)\n",
      "Requirement already satisfied: annotated-types>=0.4.0 in ./venv/lib/python3.9/site-packages (from pydantic<3.0.0,>=1.0.0->linkml==1.7.8->cas-tools==0.0.1.dev47) (0.7.0)\n",
      "Requirement already satisfied: pydantic-core==2.18.4 in ./venv/lib/python3.9/site-packages (from pydantic<3.0.0,>=1.0.0->linkml==1.7.8->cas-tools==0.0.1.dev47) (2.18.4)\n",
      "Requirement already satisfied: cfgraph>=0.2.1 in ./venv/lib/python3.9/site-packages (from pyshex>=0.7.20->linkml==1.7.8->cas-tools==0.0.1.dev47) (0.2.1)\n",
      "Requirement already satisfied: shexjsg>=0.8.2 in ./venv/lib/python3.9/site-packages (from pyshex>=0.7.20->linkml==1.7.8->cas-tools==0.0.1.dev47) (0.8.2)\n",
      "Requirement already satisfied: sparqlslurper>=0.5.1 in ./venv/lib/python3.9/site-packages (from pyshex>=0.7.20->linkml==1.7.8->cas-tools==0.0.1.dev47) (0.5.1)\n",
      "Requirement already satisfied: tqdm in ./venv/lib/python3.9/site-packages (from pystow>=0.5.0->oaklib==0.6.4->cas-tools==0.0.1.dev47) (4.66.4)\n",
      "Requirement already satisfied: num2words in ./venv/lib/python3.9/site-packages (from quantulum3>=0.7.9->schema-automator==0.5.1->cas-tools==0.0.1.dev47) (0.5.13)\n",
      "Requirement already satisfied: cattrs>=22.2 in ./venv/lib/python3.9/site-packages (from requests-cache<2.0.0,>=1.0.1->oaklib==0.6.4->cas-tools==0.0.1.dev47) (23.2.3)\n",
      "Requirement already satisfied: platformdirs>=2.5 in ./venv/lib/python3.9/site-packages (from requests-cache<2.0.0,>=1.0.1->oaklib==0.6.4->cas-tools==0.0.1.dev47) (4.2.2)\n",
      "Requirement already satisfied: url-normalize>=1.4 in ./venv/lib/python3.9/site-packages (from requests-cache<2.0.0,>=1.0.1->oaklib==0.6.4->cas-tools==0.0.1.dev47) (1.4.3)\n",
      "Requirement already satisfied: aiobotocore<3.0.0,>=2.5.4 in ./venv/lib/python3.9/site-packages (from s3fs>=2021.06.1->cellxgene-census==1.10.2->cas-tools==0.0.1.dev47) (2.13.0)\n",
      "Requirement already satisfied: fsspec==2024.6.0.* in ./venv/lib/python3.9/site-packages (from s3fs>=2021.06.1->cellxgene-census==1.10.2->cas-tools==0.0.1.dev47) (2024.6.0)\n",
      "Requirement already satisfied: aiohttp!=4.0.0a0,!=4.0.0a1 in ./venv/lib/python3.9/site-packages (from s3fs>=2021.06.1->cellxgene-census==1.10.2->cas-tools==0.0.1.dev47) (3.9.5)\n",
      "Requirement already satisfied: bioregistry>0.5.0 in ./venv/lib/python3.9/site-packages (from schemasheets>=0.1.24->schema-automator==0.5.1->cas-tools==0.0.1.dev47) (0.11.10)\n",
      "Requirement already satisfied: ontodev-cogs<0.4.0,>=0.3.3 in ./venv/lib/python3.9/site-packages (from schemasheets>=0.1.24->schema-automator==0.5.1->cas-tools==0.0.1.dev47) (0.3.3)\n",
      "Requirement already satisfied: SQLAlchemy-Utils<0.39.0,>=0.38.2 in ./venv/lib/python3.9/site-packages (from semsql>=0.3.1->oaklib==0.6.4->cas-tools==0.0.1.dev47) (0.38.3)\n",
      "Requirement already satisfied: deprecation<3.0.0,>=2.1.0 in ./venv/lib/python3.9/site-packages (from sssom<0.5.0,>=0.4.4->oaklib==0.6.4->cas-tools==0.0.1.dev47) (2.1.0)\n",
      "Requirement already satisfied: importlib-resources<7.0.0,>=6.1.1 in ./venv/lib/python3.9/site-packages (from sssom<0.5.0,>=0.4.4->oaklib==0.6.4->cas-tools==0.0.1.dev47) (6.4.0)\n",
      "Requirement already satisfied: pansql>=0.0.1 in ./venv/lib/python3.9/site-packages (from pansql[pansql]>=0.0.1->sssom<0.5.0,>=0.4.4->oaklib==0.6.4->cas-tools==0.0.1.dev47) (0.0.1)\n",
      "Requirement already satisfied: sssom-schema<0.16.0,>=0.15.2 in ./venv/lib/python3.9/site-packages (from sssom<0.5.0,>=0.4.4->oaklib==0.6.4->cas-tools==0.0.1.dev47) (0.15.2)\n",
      "Requirement already satisfied: validators>=0.20.0 in ./venv/lib/python3.9/site-packages (from sssom<0.5.0,>=0.4.4->oaklib==0.6.4->cas-tools==0.0.1.dev47) (0.28.3)\n",
      "Requirement already satisfied: numba>=0.58.0 in ./venv/lib/python3.9/site-packages (from tiledbsoma~=1.7.0->cellxgene-census==1.10.2->cas-tools==0.0.1.dev47) (0.60.0)\n",
      "Requirement already satisfied: pyarrow-hotfix in ./venv/lib/python3.9/site-packages (from tiledbsoma~=1.7.0->cellxgene-census==1.10.2->cas-tools==0.0.1.dev47) (0.6)\n",
      "Requirement already satisfied: scanpy>=1.9.2 in ./venv/lib/python3.9/site-packages (from tiledbsoma~=1.7.0->cellxgene-census==1.10.2->cas-tools==0.0.1.dev47) (1.10.1)\n",
      "Requirement already satisfied: somacore==1.0.8 in ./venv/lib/python3.9/site-packages (from tiledbsoma~=1.7.0->cellxgene-census==1.10.2->cas-tools==0.0.1.dev47) (1.0.8)\n",
      "Requirement already satisfied: tiledb~=0.25.0 in ./venv/lib/python3.9/site-packages (from tiledbsoma~=1.7.0->cellxgene-census==1.10.2->cas-tools==0.0.1.dev47) (0.25.1)\n",
      "Requirement already satisfied: pyarrow<13.0.0,>=9.0.0 in ./venv/lib/python3.9/site-packages (from tiledbsoma~=1.7.0->cellxgene-census==1.10.2->cas-tools==0.0.1.dev47) (12.0.1)\n",
      "Requirement already satisfied: mypy-extensions>=0.3.0 in ./venv/lib/python3.9/site-packages (from typing-inspect<1,>=0.4.0->dataclasses-json==0.6.4->cas-tools==0.0.1.dev47) (1.0.0)\n",
      "Requirement already satisfied: jsonpath-ng in ./venv/lib/python3.9/site-packages (from linkml-dataops->linkml==1.7.8->cas-tools==0.0.1.dev47) (1.6.1)\n",
      "Requirement already satisfied: botocore<1.34.107,>=1.34.70 in ./venv/lib/python3.9/site-packages (from aiobotocore<3.0.0,>=2.5.4->s3fs>=2021.06.1->cellxgene-census==1.10.2->cas-tools==0.0.1.dev47) (1.34.106)\n",
      "Requirement already satisfied: aioitertools<1.0.0,>=0.5.1 in ./venv/lib/python3.9/site-packages (from aiobotocore<3.0.0,>=2.5.4->s3fs>=2021.06.1->cellxgene-census==1.10.2->cas-tools==0.0.1.dev47) (0.11.0)\n",
      "Requirement already satisfied: aiosignal>=1.1.2 in ./venv/lib/python3.9/site-packages (from aiohttp!=4.0.0a0,!=4.0.0a1->s3fs>=2021.06.1->cellxgene-census==1.10.2->cas-tools==0.0.1.dev47) (1.3.1)\n",
      "Requirement already satisfied: frozenlist>=1.1.1 in ./venv/lib/python3.9/site-packages (from aiohttp!=4.0.0a0,!=4.0.0a1->s3fs>=2021.06.1->cellxgene-census==1.10.2->cas-tools==0.0.1.dev47) (1.4.1)\n",
      "Requirement already satisfied: multidict<7.0,>=4.5 in ./venv/lib/python3.9/site-packages (from aiohttp!=4.0.0a0,!=4.0.0a1->s3fs>=2021.06.1->cellxgene-census==1.10.2->cas-tools==0.0.1.dev47) (6.0.5)\n",
      "Requirement already satisfied: yarl<2.0,>=1.0 in ./venv/lib/python3.9/site-packages (from aiohttp!=4.0.0a0,!=4.0.0a1->s3fs>=2021.06.1->cellxgene-census==1.10.2->cas-tools==0.0.1.dev47) (1.9.4)\n",
      "Requirement already satisfied: async-timeout<5.0,>=4.0 in ./venv/lib/python3.9/site-packages (from aiohttp!=4.0.0a0,!=4.0.0a1->s3fs>=2021.06.1->cellxgene-census==1.10.2->cas-tools==0.0.1.dev47) (4.0.3)\n",
      "Requirement already satisfied: zipp>=0.5 in ./venv/lib/python3.9/site-packages (from importlib-metadata>3.6->class-resolver>=0.4.2->oaklib==0.6.4->cas-tools==0.0.1.dev47) (3.19.2)\n",
      "\u001b[33mWARNING: networkx 3.2.1 does not provide the extra 'networkx'\u001b[0m\u001b[33m\n",
      "\u001b[0mRequirement already satisfied: llvmlite<0.44,>=0.43.0dev0 in ./venv/lib/python3.9/site-packages (from numba>=0.58.0->tiledbsoma~=1.7.0->cellxgene-census==1.10.2->cas-tools==0.0.1.dev47) (0.43.0)\n",
      "Requirement already satisfied: daff in ./venv/lib/python3.9/site-packages (from ontodev-cogs<0.4.0,>=0.3.3->schemasheets>=0.1.24->schema-automator==0.5.1->cas-tools==0.0.1.dev47) (1.3.46)\n",
      "Requirement already satisfied: google in ./venv/lib/python3.9/site-packages (from ontodev-cogs<0.4.0,>=0.3.3->schemasheets>=0.1.24->schema-automator==0.5.1->cas-tools==0.0.1.dev47) (3.0.0)\n",
      "Requirement already satisfied: google-api-python-client in ./venv/lib/python3.9/site-packages (from ontodev-cogs<0.4.0,>=0.3.3->schemasheets>=0.1.24->schema-automator==0.5.1->cas-tools==0.0.1.dev47) (2.134.0)\n",
      "Requirement already satisfied: gspread in ./venv/lib/python3.9/site-packages (from ontodev-cogs<0.4.0,>=0.3.3->schemasheets>=0.1.24->schema-automator==0.5.1->cas-tools==0.0.1.dev47) (6.1.2)\n",
      "Requirement already satisfied: gspread-formatting in ./venv/lib/python3.9/site-packages (from ontodev-cogs<0.4.0,>=0.3.3->schemasheets>=0.1.24->schema-automator==0.5.1->cas-tools==0.0.1.dev47) (1.2.0)\n",
      "Requirement already satisfied: tabulate in ./venv/lib/python3.9/site-packages (from ontodev-cogs<0.4.0,>=0.3.3->schemasheets>=0.1.24->schema-automator==0.5.1->cas-tools==0.0.1.dev47) (0.9.0)\n",
      "Requirement already satisfied: termcolor in ./venv/lib/python3.9/site-packages (from ontodev-cogs<0.4.0,>=0.3.3->schemasheets>=0.1.24->schema-automator==0.5.1->cas-tools==0.0.1.dev47) (2.4.0)\n",
      "\u001b[33mWARNING: pansql 0.0.1 does not provide the extra 'pansql'\u001b[0m\u001b[33m\n",
      "\u001b[0mRequirement already satisfied: pytest>=2.8.1 in ./venv/lib/python3.9/site-packages (from pytest-logging<2016.0.0,>=2015.11.4->prefixcommons>=0.1.7->linkml==1.7.8->cas-tools==0.0.1.dev47) (8.2.2)\n",
      "Requirement already satisfied: get-annotations in ./venv/lib/python3.9/site-packages (from scanpy>=1.9.2->tiledbsoma~=1.7.0->cellxgene-census==1.10.2->cas-tools==0.0.1.dev47) (0.1.2)\n",
      "Requirement already satisfied: joblib in ./venv/lib/python3.9/site-packages (from scanpy>=1.9.2->tiledbsoma~=1.7.0->cellxgene-census==1.10.2->cas-tools==0.0.1.dev47) (1.4.2)\n",
      "Requirement already satisfied: legacy-api-wrap>=1.4 in ./venv/lib/python3.9/site-packages (from scanpy>=1.9.2->tiledbsoma~=1.7.0->cellxgene-census==1.10.2->cas-tools==0.0.1.dev47) (1.4)\n",
      "Requirement already satisfied: matplotlib>=3.6 in ./venv/lib/python3.9/site-packages (from scanpy>=1.9.2->tiledbsoma~=1.7.0->cellxgene-census==1.10.2->cas-tools==0.0.1.dev47) (3.9.0)\n",
      "Requirement already satisfied: patsy in ./venv/lib/python3.9/site-packages (from scanpy>=1.9.2->tiledbsoma~=1.7.0->cellxgene-census==1.10.2->cas-tools==0.0.1.dev47) (0.5.6)\n",
      "Requirement already satisfied: pynndescent>=0.5 in ./venv/lib/python3.9/site-packages (from scanpy>=1.9.2->tiledbsoma~=1.7.0->cellxgene-census==1.10.2->cas-tools==0.0.1.dev47) (0.5.13)\n",
      "Requirement already satisfied: scikit-learn>=0.24 in ./venv/lib/python3.9/site-packages (from scanpy>=1.9.2->tiledbsoma~=1.7.0->cellxgene-census==1.10.2->cas-tools==0.0.1.dev47) (1.5.0)\n",
      "Requirement already satisfied: seaborn>=0.13 in ./venv/lib/python3.9/site-packages (from scanpy>=1.9.2->tiledbsoma~=1.7.0->cellxgene-census==1.10.2->cas-tools==0.0.1.dev47) (0.13.2)\n",
      "Requirement already satisfied: session-info in ./venv/lib/python3.9/site-packages (from scanpy>=1.9.2->tiledbsoma~=1.7.0->cellxgene-census==1.10.2->cas-tools==0.0.1.dev47) (1.0.0)\n",
      "Requirement already satisfied: statsmodels>=0.13 in ./venv/lib/python3.9/site-packages (from scanpy>=1.9.2->tiledbsoma~=1.7.0->cellxgene-census==1.10.2->cas-tools==0.0.1.dev47) (0.14.2)\n",
      "Requirement already satisfied: umap-learn!=0.5.0,>=0.5 in ./venv/lib/python3.9/site-packages (from scanpy>=1.9.2->tiledbsoma~=1.7.0->cellxgene-census==1.10.2->cas-tools==0.0.1.dev47) (0.5.6)\n",
      "Requirement already satisfied: arrow>=0.15.0 in ./venv/lib/python3.9/site-packages (from isoduration->jsonschema[format]>=4.0.0->linkml==1.7.8->cas-tools==0.0.1.dev47) (1.3.0)\n",
      "Requirement already satisfied: ply in ./venv/lib/python3.9/site-packages (from jsonpath-ng->linkml-dataops->linkml==1.7.8->cas-tools==0.0.1.dev47) (3.11)\n",
      "Requirement already satisfied: docopt>=0.6.2 in ./venv/lib/python3.9/site-packages (from num2words->quantulum3>=0.7.9->schema-automator==0.5.1->cas-tools==0.0.1.dev47) (0.6.2)\n",
      "Requirement already satisfied: sortedcontainers in ./venv/lib/python3.9/site-packages (from pytrie->curies>=0.6.6->oaklib==0.6.4->cas-tools==0.0.1.dev47) (2.4.0)\n",
      "Requirement already satisfied: rdflib-jsonld==0.6.1 in ./venv/lib/python3.9/site-packages (from rdflib-shim->funowl>=0.2.0->oaklib==0.6.4->cas-tools==0.0.1.dev47) (0.6.1)\n",
      "\u001b[33mWARNING: scipy 1.13.1 does not provide the extra 'scipy'\u001b[0m\u001b[33m\n",
      "\u001b[0mRequirement already satisfied: types-python-dateutil>=2.8.10 in ./venv/lib/python3.9/site-packages (from arrow>=0.15.0->isoduration->jsonschema[format]>=4.0.0->linkml==1.7.8->cas-tools==0.0.1.dev47) (2.9.0.20240316)\n",
      "Requirement already satisfied: jmespath<2.0.0,>=0.7.1 in ./venv/lib/python3.9/site-packages (from botocore<1.34.107,>=1.34.70->aiobotocore<3.0.0,>=2.5.4->s3fs>=2021.06.1->cellxgene-census==1.10.2->cas-tools==0.0.1.dev47) (1.0.1)\n",
      "Requirement already satisfied: contourpy>=1.0.1 in ./venv/lib/python3.9/site-packages (from matplotlib>=3.6->scanpy>=1.9.2->tiledbsoma~=1.7.0->cellxgene-census==1.10.2->cas-tools==0.0.1.dev47) (1.2.1)\n",
      "Requirement already satisfied: cycler>=0.10 in ./venv/lib/python3.9/site-packages (from matplotlib>=3.6->scanpy>=1.9.2->tiledbsoma~=1.7.0->cellxgene-census==1.10.2->cas-tools==0.0.1.dev47) (0.12.1)\n",
      "Requirement already satisfied: fonttools>=4.22.0 in ./venv/lib/python3.9/site-packages (from matplotlib>=3.6->scanpy>=1.9.2->tiledbsoma~=1.7.0->cellxgene-census==1.10.2->cas-tools==0.0.1.dev47) (4.53.0)\n",
      "Requirement already satisfied: kiwisolver>=1.3.1 in ./venv/lib/python3.9/site-packages (from matplotlib>=3.6->scanpy>=1.9.2->tiledbsoma~=1.7.0->cellxgene-census==1.10.2->cas-tools==0.0.1.dev47) (1.4.5)\n",
      "Requirement already satisfied: pillow>=8 in ./venv/lib/python3.9/site-packages (from matplotlib>=3.6->scanpy>=1.9.2->tiledbsoma~=1.7.0->cellxgene-census==1.10.2->cas-tools==0.0.1.dev47) (10.3.0)\n",
      "Requirement already satisfied: iniconfig in ./venv/lib/python3.9/site-packages (from pytest>=2.8.1->pytest-logging<2016.0.0,>=2015.11.4->prefixcommons>=0.1.7->linkml==1.7.8->cas-tools==0.0.1.dev47) (2.0.0)\n",
      "Requirement already satisfied: pluggy<2.0,>=1.5 in ./venv/lib/python3.9/site-packages (from pytest>=2.8.1->pytest-logging<2016.0.0,>=2015.11.4->prefixcommons>=0.1.7->linkml==1.7.8->cas-tools==0.0.1.dev47) (1.5.0)\n",
      "Requirement already satisfied: tomli>=1 in ./venv/lib/python3.9/site-packages (from pytest>=2.8.1->pytest-logging<2016.0.0,>=2015.11.4->prefixcommons>=0.1.7->linkml==1.7.8->cas-tools==0.0.1.dev47) (2.0.1)\n",
      "Requirement already satisfied: threadpoolctl>=3.1.0 in ./venv/lib/python3.9/site-packages (from scikit-learn>=0.24->scanpy>=1.9.2->tiledbsoma~=1.7.0->cellxgene-census==1.10.2->cas-tools==0.0.1.dev47) (3.5.0)\n",
      "Requirement already satisfied: beautifulsoup4 in ./venv/lib/python3.9/site-packages (from google->ontodev-cogs<0.4.0,>=0.3.3->schemasheets>=0.1.24->schema-automator==0.5.1->cas-tools==0.0.1.dev47) (4.12.3)\n",
      "Requirement already satisfied: httplib2<1.dev0,>=0.19.0 in ./venv/lib/python3.9/site-packages (from google-api-python-client->ontodev-cogs<0.4.0,>=0.3.3->schemasheets>=0.1.24->schema-automator==0.5.1->cas-tools==0.0.1.dev47) (0.22.0)\n",
      "Requirement already satisfied: google-auth!=2.24.0,!=2.25.0,<3.0.0.dev0,>=1.32.0 in ./venv/lib/python3.9/site-packages (from google-api-python-client->ontodev-cogs<0.4.0,>=0.3.3->schemasheets>=0.1.24->schema-automator==0.5.1->cas-tools==0.0.1.dev47) (2.30.0)\n",
      "Requirement already satisfied: google-auth-httplib2<1.0.0,>=0.2.0 in ./venv/lib/python3.9/site-packages (from google-api-python-client->ontodev-cogs<0.4.0,>=0.3.3->schemasheets>=0.1.24->schema-automator==0.5.1->cas-tools==0.0.1.dev47) (0.2.0)\n",
      "Requirement already satisfied: google-api-core!=2.0.*,!=2.1.*,!=2.2.*,!=2.3.0,<3.0.0.dev0,>=1.31.5 in ./venv/lib/python3.9/site-packages (from google-api-python-client->ontodev-cogs<0.4.0,>=0.3.3->schemasheets>=0.1.24->schema-automator==0.5.1->cas-tools==0.0.1.dev47) (2.19.0)\n",
      "Requirement already satisfied: uritemplate<5,>=3.0.1 in ./venv/lib/python3.9/site-packages (from google-api-python-client->ontodev-cogs<0.4.0,>=0.3.3->schemasheets>=0.1.24->schema-automator==0.5.1->cas-tools==0.0.1.dev47) (4.1.1)\n",
      "Requirement already satisfied: google-auth-oauthlib>=0.4.1 in ./venv/lib/python3.9/site-packages (from gspread->ontodev-cogs<0.4.0,>=0.3.3->schemasheets>=0.1.24->schema-automator==0.5.1->cas-tools==0.0.1.dev47) (1.2.0)\n",
      "Requirement already satisfied: stdlib-list in ./venv/lib/python3.9/site-packages (from session-info->scanpy>=1.9.2->tiledbsoma~=1.7.0->cellxgene-census==1.10.2->cas-tools==0.0.1.dev47) (0.10.0)\n",
      "Requirement already satisfied: googleapis-common-protos<2.0.dev0,>=1.56.2 in ./venv/lib/python3.9/site-packages (from google-api-core!=2.0.*,!=2.1.*,!=2.2.*,!=2.3.0,<3.0.0.dev0,>=1.31.5->google-api-python-client->ontodev-cogs<0.4.0,>=0.3.3->schemasheets>=0.1.24->schema-automator==0.5.1->cas-tools==0.0.1.dev47) (1.63.1)\n",
      "Requirement already satisfied: protobuf!=3.20.0,!=3.20.1,!=4.21.0,!=4.21.1,!=4.21.2,!=4.21.3,!=4.21.4,!=4.21.5,<5.0.0.dev0,>=3.19.5 in ./venv/lib/python3.9/site-packages (from google-api-core!=2.0.*,!=2.1.*,!=2.2.*,!=2.3.0,<3.0.0.dev0,>=1.31.5->google-api-python-client->ontodev-cogs<0.4.0,>=0.3.3->schemasheets>=0.1.24->schema-automator==0.5.1->cas-tools==0.0.1.dev47) (4.25.3)\n",
      "Requirement already satisfied: proto-plus<2.0.0dev,>=1.22.3 in ./venv/lib/python3.9/site-packages (from google-api-core!=2.0.*,!=2.1.*,!=2.2.*,!=2.3.0,<3.0.0.dev0,>=1.31.5->google-api-python-client->ontodev-cogs<0.4.0,>=0.3.3->schemasheets>=0.1.24->schema-automator==0.5.1->cas-tools==0.0.1.dev47) (1.24.0)\n",
      "Requirement already satisfied: cachetools<6.0,>=2.0.0 in ./venv/lib/python3.9/site-packages (from google-auth!=2.24.0,!=2.25.0,<3.0.0.dev0,>=1.32.0->google-api-python-client->ontodev-cogs<0.4.0,>=0.3.3->schemasheets>=0.1.24->schema-automator==0.5.1->cas-tools==0.0.1.dev47) (5.3.3)\n",
      "Requirement already satisfied: pyasn1-modules>=0.2.1 in ./venv/lib/python3.9/site-packages (from google-auth!=2.24.0,!=2.25.0,<3.0.0.dev0,>=1.32.0->google-api-python-client->ontodev-cogs<0.4.0,>=0.3.3->schemasheets>=0.1.24->schema-automator==0.5.1->cas-tools==0.0.1.dev47) (0.4.0)\n",
      "Requirement already satisfied: rsa<5,>=3.1.4 in ./venv/lib/python3.9/site-packages (from google-auth!=2.24.0,!=2.25.0,<3.0.0.dev0,>=1.32.0->google-api-python-client->ontodev-cogs<0.4.0,>=0.3.3->schemasheets>=0.1.24->schema-automator==0.5.1->cas-tools==0.0.1.dev47) (4.9)\n",
      "Requirement already satisfied: requests-oauthlib>=0.7.0 in ./venv/lib/python3.9/site-packages (from google-auth-oauthlib>=0.4.1->gspread->ontodev-cogs<0.4.0,>=0.3.3->schemasheets>=0.1.24->schema-automator==0.5.1->cas-tools==0.0.1.dev47) (2.0.0)\n",
      "Requirement already satisfied: soupsieve>1.2 in ./venv/lib/python3.9/site-packages (from beautifulsoup4->google->ontodev-cogs<0.4.0,>=0.3.3->schemasheets>=0.1.24->schema-automator==0.5.1->cas-tools==0.0.1.dev47) (2.5)\n",
      "Requirement already satisfied: pyasn1<0.7.0,>=0.4.6 in ./venv/lib/python3.9/site-packages (from pyasn1-modules>=0.2.1->google-auth!=2.24.0,!=2.25.0,<3.0.0.dev0,>=1.32.0->google-api-python-client->ontodev-cogs<0.4.0,>=0.3.3->schemasheets>=0.1.24->schema-automator==0.5.1->cas-tools==0.0.1.dev47) (0.6.0)\n",
      "Requirement already satisfied: oauthlib>=3.0.0 in ./venv/lib/python3.9/site-packages (from requests-oauthlib>=0.7.0->google-auth-oauthlib>=0.4.1->gspread->ontodev-cogs<0.4.0,>=0.3.3->schemasheets>=0.1.24->schema-automator==0.5.1->cas-tools==0.0.1.dev47) (3.2.2)\n",
      "Using cached jsonschema-4.4.0-py3-none-any.whl (72 kB)\n",
      "Installing collected packages: jsonschema\n",
      "  Attempting uninstall: jsonschema\n",
      "    Found existing installation: jsonschema 4.22.0\n",
      "    Uninstalling jsonschema-4.22.0:\n",
      "      Successfully uninstalled jsonschema-4.22.0\n",
      "\u001b[31mERROR: pip's dependency resolver does not currently take into account all the packages that are installed. This behaviour is the source of the following dependency conflicts.\n",
      "jupyter-events 0.10.0 requires jsonschema[format-nongpl]>=4.18.0, but you have jsonschema 4.4.0 which is incompatible.\n",
      "jupyterlab-server 2.27.2 requires jsonschema>=4.18.0, but you have jsonschema 4.4.0 which is incompatible.\u001b[0m\u001b[31m\n",
      "\u001b[0mSuccessfully installed jsonschema-4.4.0\n",
      "\n",
      "\u001b[1m[\u001b[0m\u001b[34;49mnotice\u001b[0m\u001b[1;39;49m]\u001b[0m\u001b[39;49m A new release of pip is available: \u001b[0m\u001b[31;49m24.1\u001b[0m\u001b[39;49m -> \u001b[0m\u001b[32;49m24.1.1\u001b[0m\n",
      "\u001b[1m[\u001b[0m\u001b[34;49mnotice\u001b[0m\u001b[1;39;49m]\u001b[0m\u001b[39;49m To update, run: \u001b[0m\u001b[32;49mpip install --upgrade pip\u001b[0m\n"
     ]
    }
   ],
   "source": [
    "# Install pip packages\n",
    "import sys\n",
    "!{sys.executable} -m pip install pandas\n",
    "!{sys.executable} -m pip install cas-tools==0.0.1.dev47"
   ]
  },
  {
   "cell_type": "code",
   "execution_count": 1,
   "id": "e6de0937-d7ae-4509-be36-02866d2ceb69",
   "metadata": {},
   "outputs": [
    {
     "ename": "SyntaxError",
     "evalue": "invalid syntax (3715948132.py, line 3)",
     "output_type": "error",
     "traceback": [
      "\u001b[0;36m  Cell \u001b[0;32mIn[1], line 3\u001b[0;36m\u001b[0m\n\u001b[0;31m    cas anndata2cas --anndata Anndata_source/Siletti_all_neurons.h5ad --labelsets subcluster_id --output intermediatte_files/Siletti_subclusters_neurons.json\u001b[0m\n\u001b[0m        ^\u001b[0m\n\u001b[0;31mSyntaxError\u001b[0m\u001b[0;31m:\u001b[0m invalid syntax\n"
     ]
    }
   ],
   "source": [
    "# convert Anndata files to cas\n",
    "\n",
    "cas anndata2cas --anndata Anndata_source/Siletti_all_neurons.h5ad --labelsets subcluster_id --output intermediatte_files/Siletti_subclusters_neurons.json"
   ]
  },
  {
   "cell_type": "code",
   "execution_count": 1,
   "id": "e33c5773-b79a-4034-b4c1-707f2029979c",
   "metadata": {},
   "outputs": [],
   "source": [
    "%%bash\n",
    "\n",
    "# convert Silletti in ABC to cas\n",
    "cas abc2cas --catset ABC_source/cluster_annotation_term_set.csv --cat ABC_source/cluster_annotation_term.csv --output intermediatte_files/Siletti_from_abc.json"
   ]
  },
  {
   "cell_type": "code",
   "execution_count": 41,
   "id": "7bc60e86-c25e-4783-9462-9721198a6353",
   "metadata": {},
   "outputs": [],
   "source": [
    "import json\n",
    "\n",
    "#  Open files\n",
    "\n",
    "with open('./intermediatte_files/Siletti_from_abc.json', 'r') as f:\n",
    "    Siletti_abc_cas = json.loads(f.read())\n",
    "\n",
    "with open('./cas_source/CS202210140_non_neuronal.json', 'r') as f:\n",
    "    nn = json.loads(f.read())\n",
    "with open('./cas_source/CS202210140_neurons.json', 'r') as f:\n",
    "    neurons = json.loads(f.read())\n",
    "\n",
    "#Generate lookups for accessions for nn and neuron clusters respectively\n",
    "neuron_clusters = { a['cell_set_accession'] for a in neurons['annotations'] \n",
    "                    if a['labelset'] == 'Cluster'}\n",
    "nn_clusters = { a['cell_set_accession'] for a in nn['annotations'] \n",
    "                    if a['labelset'] == 'Cluster'}\n",
    "\n",
    "# Make lists of subclusters from ABC that have a parent cluster in nn & neurons respectively\n",
    "nn_subclusters = [a for a in Siletti_abc_cas['annotations']\n",
    "                  if (a['labelset'] == 'subcluster') \n",
    "                  and (a['parent_cell_set_accession'] in nn_clusters)]\n",
    "neuron_subclusters = [a for a in Siletti_abc_cas['annotations']\n",
    "                  if (a['labelset'] == 'subcluster') \n",
    "                  and (a['parent_cell_set_accession'] in neuron_clusters)]\n",
    "\n",
    "# Merge in subclusters\n",
    "\n",
    "nn['annotations'].extend(nn_subclusters)\n",
    "neurons['annotations'].extend(neuron_subclusters)\n",
    "\n",
    "\n",
    "    "
   ]
  },
  {
   "cell_type": "code",
   "execution_count": 35,
   "id": "96cd1e73-04d4-42f7-afb3-f5c31f95288a",
   "metadata": {},
   "outputs": [],
   "source": [
    "#Commenting as depends on path to anndata file - not stored in repo\n",
    "#%%bash\n",
    "# Generate file of CAS files from subclusters in Siletti anndata files\n",
    "#cas anndata2cas --anndata Siletti_all_non_neuronal_cells.h5ad --labelsets subcluster_id --output intermediatte_files/Siletti_subclusters_from_anndata_cas.json\n"
   ]
  },
  {
   "cell_type": "code",
   "execution_count": 6,
   "id": "4c2dbd92-246d-43bb-9eea-b05371fb6604",
   "metadata": {},
   "outputs": [],
   "source": [
    "# Generate lookup for subcluster cell_ids, keyed on subclusters_id\n",
    "\n",
    "# Open files\n",
    "import json\n",
    "with open('./intermediatte_files/Siletti_subclusters_from_anndata_cas.json', 'r') as f:\n",
    "    Siletti_subclusters_from_ad = json.loads(f.read())\n",
    "\n",
    "subcluster_cell_id_lookup = { a['cell_label'] : a['cell_ids'] for a in Siletti_subclusters_from_ad['annotations']}"
   ]
  },
  {
   "cell_type": "code",
   "execution_count": 7,
   "id": "63f44288-b5fa-4039-b990-19998cb30d6c",
   "metadata": {},
   "outputs": [
    {
     "data": {
      "text/plain": [
       "297"
      ]
     },
     "execution_count": 7,
     "metadata": {},
     "output_type": "execute_result"
    }
   ],
   "source": [
    "# Check number of matches on both sides\n",
    "len(subcluster_cell_id_lookup.keys())"
   ]
  },
  {
   "cell_type": "code",
   "execution_count": 8,
   "id": "9a7cba90-4e7a-4605-aaf2-5b8a3271a84f",
   "metadata": {},
   "outputs": [
    {
     "data": {
      "text/plain": [
       "297"
      ]
     },
     "execution_count": 8,
     "metadata": {},
     "output_type": "execute_result"
    }
   ],
   "source": [
    "len(Siletti_subclusters_from_ad['annotations'])\n"
   ]
  },
  {
   "cell_type": "code",
   "execution_count": 9,
   "id": "984babcc-fdad-4292-9337-6d4f940f92c4",
   "metadata": {},
   "outputs": [
    {
     "data": {
      "text/plain": [
       "297"
      ]
     },
     "execution_count": 9,
     "metadata": {},
     "output_type": "execute_result"
    }
   ],
   "source": [
    "len(nn_subclusters)\n"
   ]
  },
  {
   "cell_type": "code",
   "execution_count": 10,
   "id": "ddeef193-bf7d-42fb-97f3-da513d8ae1f7",
   "metadata": {},
   "outputs": [
    {
     "data": {
      "text/plain": [
       "{'labelset': 'subcluster',\n",
       " 'cell_label': 'Oligo_50_2996',\n",
       " 'cell_set_accession': 'CS202210140_3490',\n",
       " 'parent_cell_set_accession': 'CS202210140_51'}"
      ]
     },
     "execution_count": 10,
     "metadata": {},
     "output_type": "execute_result"
    }
   ],
   "source": [
    "nn_subclusters[0]"
   ]
  },
  {
   "cell_type": "code",
   "execution_count": 11,
   "id": "88f36ce7-26b3-48c9-a045-aa0fe8f522e1",
   "metadata": {},
   "outputs": [],
   "source": [
    "import re\n",
    "# Testing regex pattern\n",
    "m = re.match('.+_(\\d+)', 'Oligo_50_2996')\n",
    "m.group(1)"
   ]
  },
  {
   "cell_type": "code",
   "execution_count": 12,
   "id": "d2dfaa2e-0a8b-4e4a-9491-a8c11d5856e3",
   "metadata": {},
   "outputs": [
    {
     "data": {
      "text/plain": [
       "'2996'"
      ]
     },
     "execution_count": 12,
     "metadata": {},
     "output_type": "execute_result"
    }
   ],
   "source": [
    "m.group(1)"
   ]
  },
  {
   "cell_type": "code",
   "execution_count": 13,
   "id": "41d4f31e-3466-4c93-9c78-297b5b4f3adf",
   "metadata": {},
   "outputs": [],
   "source": [
    "# Use regex matching ID -> label to attach cell_ids to subclusters\n",
    "for c in nn_subclusters:\n",
    "    m = re.match('.+_(\\d+)', c['cell_label'])\n",
    "    if int(m.group(1)) in subcluster_cell_id_lookup.keys():\n",
    "        c['cell_ids'] = subcluster_cell_id_lookup[int(m.group(1))]"
   ]
  },
  {
   "cell_type": "code",
   "execution_count": 29,
   "id": "4861cbb6-a284-4836-9e79-d7d37c921708",
   "metadata": {},
   "outputs": [
    {
     "data": {
      "text/plain": [
       "['10X362_3:TCAGTGAGTATTGACC',\n",
       " '10X362_5:TCCGTGTGTGAAAGTT',\n",
       " '10X362_5:CACGGGTAGAGCAGAA',\n",
       " '10X362_6:AGGACTTGTATCCTTT',\n",
       " '10X362_6:GCATTAGGTTGGACCC']"
      ]
     },
     "execution_count": 29,
     "metadata": {},
     "output_type": "execute_result"
    }
   ],
   "source": [
    "# Test addition cell_Ids has worked\n",
    "nn_subclusters[0]['cell_ids'][0:5]"
   ]
  },
  {
   "cell_type": "code",
   "execution_count": 30,
   "id": "75b243f7-950b-4a51-a03d-3ca65eb055f8",
   "metadata": {},
   "outputs": [],
   "source": [
    "import pandas as pd"
   ]
  },
  {
   "cell_type": "code",
   "execution_count": 16,
   "id": "b61fa1e1-dfee-41f8-afe9-552750355dbf",
   "metadata": {},
   "outputs": [],
   "source": [
    "AT = pd.read_csv('./Annotation_transfer/Clusters_AT_from_MTG.tsv', sep='\\t')\n"
   ]
  },
  {
   "cell_type": "code",
   "execution_count": 31,
   "id": "f828ab94-4229-4338-9dbc-719f8c32faed",
   "metadata": {
    "scrolled": true
   },
   "outputs": [
    {
     "data": {
      "text/html": [
       "<div>\n",
       "<style scoped>\n",
       "    .dataframe tbody tr th:only-of-type {\n",
       "        vertical-align: middle;\n",
       "    }\n",
       "\n",
       "    .dataframe tbody tr th {\n",
       "        vertical-align: top;\n",
       "    }\n",
       "\n",
       "    .dataframe thead th {\n",
       "        text-align: right;\n",
       "    }\n",
       "</style>\n",
       "<table border=\"1\" class=\"dataframe\">\n",
       "  <thead>\n",
       "    <tr style=\"text-align: right;\">\n",
       "      <th></th>\n",
       "      <th>cell_set_accession</th>\n",
       "      <th>cell_label</th>\n",
       "      <th>cell_fullname</th>\n",
       "      <th>parent_cell_set_accession</th>\n",
       "      <th>parent_cell_set_name</th>\n",
       "      <th>labelset</th>\n",
       "      <th>cell_ontology_term_id</th>\n",
       "      <th>cell_ontology_term</th>\n",
       "      <th>rationale</th>\n",
       "      <th>rationale_dois</th>\n",
       "      <th>marker_gene_evidence</th>\n",
       "      <th>synonyms</th>\n",
       "    </tr>\n",
       "  </thead>\n",
       "  <tbody>\n",
       "    <tr>\n",
       "      <th>0</th>\n",
       "      <td>b15b444731</td>\n",
       "      <td>Vip_2</td>\n",
       "      <td>Vip_2</td>\n",
       "      <td>082c817b6f</td>\n",
       "      <td>Vip</td>\n",
       "      <td>CrossArea_cluster</td>\n",
       "      <td>CL:4023016</td>\n",
       "      <td>vip GABAergic cortical interneuron</td>\n",
       "      <td>NaN</td>\n",
       "      <td>NaN</td>\n",
       "      <td>NaN</td>\n",
       "      <td>NaN</td>\n",
       "    </tr>\n",
       "    <tr>\n",
       "      <th>1</th>\n",
       "      <td>83796aa6d9</td>\n",
       "      <td>Sst_11</td>\n",
       "      <td>Sst_11</td>\n",
       "      <td>8fa477a378</td>\n",
       "      <td>Sst</td>\n",
       "      <td>CrossArea_cluster</td>\n",
       "      <td>CL:4023017</td>\n",
       "      <td>sst GABAergic cortical interneuron</td>\n",
       "      <td>NaN</td>\n",
       "      <td>NaN</td>\n",
       "      <td>NaN</td>\n",
       "      <td>NaN</td>\n",
       "    </tr>\n",
       "    <tr>\n",
       "      <th>2</th>\n",
       "      <td>8c25f3eded</td>\n",
       "      <td>Sst_31</td>\n",
       "      <td>Sst_31</td>\n",
       "      <td>8fa477a378</td>\n",
       "      <td>Sst</td>\n",
       "      <td>CrossArea_cluster</td>\n",
       "      <td>CL:4023017</td>\n",
       "      <td>sst GABAergic cortical interneuron</td>\n",
       "      <td>NaN</td>\n",
       "      <td>NaN</td>\n",
       "      <td>NaN</td>\n",
       "      <td>NaN</td>\n",
       "    </tr>\n",
       "    <tr>\n",
       "      <th>3</th>\n",
       "      <td>319ad7ab6a</td>\n",
       "      <td>Sst_37</td>\n",
       "      <td>Sst_37</td>\n",
       "      <td>8fa477a378</td>\n",
       "      <td>Sst</td>\n",
       "      <td>CrossArea_cluster</td>\n",
       "      <td>CL:4023017</td>\n",
       "      <td>sst GABAergic cortical interneuron</td>\n",
       "      <td>NaN</td>\n",
       "      <td>NaN</td>\n",
       "      <td>NaN</td>\n",
       "      <td>NaN</td>\n",
       "    </tr>\n",
       "    <tr>\n",
       "      <th>4</th>\n",
       "      <td>51b6c3ddc3</td>\n",
       "      <td>L6 CT_3</td>\n",
       "      <td>L6 CT_3</td>\n",
       "      <td>d4ee4a2c4c</td>\n",
       "      <td>L6 CT</td>\n",
       "      <td>CrossArea_cluster</td>\n",
       "      <td>CL:4023013</td>\n",
       "      <td>corticothalamic-projecting glutamatergic corti...</td>\n",
       "      <td>NaN</td>\n",
       "      <td>NaN</td>\n",
       "      <td>NaN</td>\n",
       "      <td>NaN</td>\n",
       "    </tr>\n",
       "  </tbody>\n",
       "</table>\n",
       "</div>"
      ],
      "text/plain": [
       "  cell_set_accession cell_label cell_fullname parent_cell_set_accession  \\\n",
       "0         b15b444731      Vip_2         Vip_2                082c817b6f   \n",
       "1         83796aa6d9     Sst_11        Sst_11                8fa477a378   \n",
       "2         8c25f3eded     Sst_31        Sst_31                8fa477a378   \n",
       "3         319ad7ab6a     Sst_37        Sst_37                8fa477a378   \n",
       "4         51b6c3ddc3    L6 CT_3       L6 CT_3                d4ee4a2c4c   \n",
       "\n",
       "  parent_cell_set_name           labelset cell_ontology_term_id  \\\n",
       "0                  Vip  CrossArea_cluster            CL:4023016   \n",
       "1                  Sst  CrossArea_cluster            CL:4023017   \n",
       "2                  Sst  CrossArea_cluster            CL:4023017   \n",
       "3                  Sst  CrossArea_cluster            CL:4023017   \n",
       "4                L6 CT  CrossArea_cluster            CL:4023013   \n",
       "\n",
       "                                  cell_ontology_term  rationale  \\\n",
       "0                 vip GABAergic cortical interneuron        NaN   \n",
       "1                 sst GABAergic cortical interneuron        NaN   \n",
       "2                 sst GABAergic cortical interneuron        NaN   \n",
       "3                 sst GABAergic cortical interneuron        NaN   \n",
       "4  corticothalamic-projecting glutamatergic corti...        NaN   \n",
       "\n",
       "   rationale_dois  marker_gene_evidence  synonyms  \n",
       "0             NaN                   NaN       NaN  \n",
       "1             NaN                   NaN       NaN  \n",
       "2             NaN                   NaN       NaN  \n",
       "3             NaN                   NaN       NaN  \n",
       "4             NaN                   NaN       NaN  "
      ]
     },
     "execution_count": 31,
     "metadata": {},
     "output_type": "execute_result"
    }
   ],
   "source": [
    "MTG_annotations = pd.read_csv('./MTG_cas/CCN20240304_annotations.tsv', sep='\\t')\n",
    "MTG_annotations[0:5]"
   ]
  },
  {
   "cell_type": "code",
   "execution_count": 32,
   "id": "532b6d56-abff-4194-9613-667cfc0ddbd8",
   "metadata": {},
   "outputs": [],
   "source": [
    "# Aim \n",
    "# Look up transfered MTG names (in MT) in MTG cell_label var - MT - & link Siletti Cell label to MTG annotation object\n",
    "\n",
    "# 1. Make template for annotation transfer objects\n",
    "# 2. Iterate over annotatoin transfer labels, matching to cluster labels & using this to generate annotation transfer objects.\n",
    "# 3. Attach annotation transfer objects to annotatinons\n",
    "\n"
   ]
  },
  {
   "cell_type": "code",
   "execution_count": 20,
   "id": "22ad75c1-8a73-4740-bfa7-e9a43f98885e",
   "metadata": {},
   "outputs": [],
   "source": [
    "MTG_annotation_lookup = MTG_annotations.set_index(\"cell_label\").to_dict(orient='index')"
   ]
  },
  {
   "cell_type": "code",
   "execution_count": 21,
   "id": "6a32521d-f6a5-49de-bef5-9ecc2f8e8055",
   "metadata": {},
   "outputs": [
    {
     "data": {
      "text/plain": [
       "{'Astro',\n",
       " 'Chandelier',\n",
       " 'Endo',\n",
       " 'L2/3 IT',\n",
       " 'L4 IT',\n",
       " 'L5 IT',\n",
       " 'L5/6 NP',\n",
       " 'L6 CT',\n",
       " 'L6 IT',\n",
       " 'L6 IT Car3',\n",
       " 'L6b',\n",
       " 'Lamp5',\n",
       " 'Lamp5 Lhx6',\n",
       " 'OPC',\n",
       " 'Oligo',\n",
       " 'Pax6',\n",
       " 'Pvalb',\n",
       " 'Sncg',\n",
       " 'Sst',\n",
       " 'VLMC',\n",
       " 'Vip'}"
      ]
     },
     "execution_count": 21,
     "metadata": {},
     "output_type": "execute_result"
    }
   ],
   "source": [
    "# What matches?\n",
    "set(MTG_annotation_lookup.keys()).intersection(set(AT['Transferred MTG Label']))"
   ]
  },
  {
   "cell_type": "code",
   "execution_count": 34,
   "id": "21358315-ba39-4530-9934-60090d2f9585",
   "metadata": {},
   "outputs": [
    {
     "data": {
      "text/plain": [
       "{'Micro-PVM', nan}"
      ]
     },
     "execution_count": 34,
     "metadata": {},
     "output_type": "execute_result"
    }
   ],
   "source": [
    "# What doesn't match?  - Can we match this by hand?\n",
    "(set(AT['Transferred MTG Label']))-set(MTG_annotation_lookup.keys())"
   ]
  },
  {
   "cell_type": "code",
   "execution_count": 23,
   "id": "64d6065c-599b-4299-82ec-668d90c982ff",
   "metadata": {},
   "outputs": [],
   "source": [
    "# Dict comp => Dict keyed on Siletti Cluster_name (=cell_label) with value = MTG annotation transfer object\n",
    "# Iterate over Transferred annotations (AT)\n",
    "out = {}\n",
    "comment = \"We performed PCA (50 components) on our full dataset, trained a random forest classifier (scikit-learn, class_ weight=‘balanced’, max_depth=50) on the MTG labels, and then predicted labels for all cells. We labeled each cluster with the mode of its constituent cells if two conditions were met: more than 0.8 of predicted labels matched the mode, and the mean probability of these pre- dictions was greater than 0.8.\"\n",
    "for i,r in AT.iterrows(): \n",
    "    if r['Transferred MTG Label'] in MTG_annotation_lookup.keys():\n",
    "        MTG_ann =  MTG_annotation_lookup[r['Transferred MTG Label']]\n",
    "        out[r['Cluster name']]= { \"transferred_cell_label\" : r['Transferred MTG Label'], \n",
    "                                  \"source_node_accession\": MTG_ann['labelset'] + '_' + MTG_ann['cell_set_accession'],\n",
    "                                  \"source_taxonomy\": \"https://purl.brain-bican.org/taxonomy/AIT_MTG/AIT_MTG.json\",\n",
    "                                  \"comment\": comment }\n",
    "\n",
    "                                 \n",
    "\n",
    "                                 \n",
    " "
   ]
  },
  {
   "cell_type": "code",
   "execution_count": 27,
   "id": "94452350-74bb-4256-a4e6-d5043709946f",
   "metadata": {},
   "outputs": [],
   "source": [
    "# Test\n",
    "out['Amex_175']"
   ]
  },
  {
   "cell_type": "code",
   "execution_count": 28,
   "id": "514cafaf-301a-4771-aca3-7b7ea034ebb4",
   "metadata": {},
   "outputs": [
    {
     "data": {
      "text/plain": [
       "{'transferred_cell_label': 'L2/3 IT',\n",
       " 'source_node_accession': 'CrossArea_subclass_58570ade17',\n",
       " 'source_taxonomy': 'https://purl.brain-bican.org/taxonomy/AIT_MTG/AIT_MTG.json',\n",
       " 'comment': 'We performed PCA (50 components) on our full dataset, trained a random forest classifier (scikit-learn, class_ weight=‘balanced’, max_depth=50) on the MTG labels, and then predicted labels for all cells. We labeled each cluster with the mode of its constituent cells if two conditions were met: more than 0.8 of predicted labels matched the mode, and the mean probability of these pre- dictions was greater than 0.8.'}"
      ]
     },
     "execution_count": 28,
     "metadata": {},
     "output_type": "execute_result"
    }
   ],
   "source": []
  },
  {
   "cell_type": "code",
   "execution_count": 45,
   "id": "6f32a70e-5ee9-4193-bd08-0b498bf38d1a",
   "metadata": {},
   "outputs": [],
   "source": [
    "# Attach Annotation transfers to CAS for nn & neurons matching on names\n",
    "\n",
    "for a in nn['annotations']:\n",
    "    if a['cell_label'] in out.keys():\n",
    "        a['annotation_transfer'] = [out[a['cell_label']]]\n",
    "        "
   ]
  },
  {
   "cell_type": "code",
   "execution_count": 46,
   "id": "62c08e5b-7e4f-4743-8cd9-abcd7806a623",
   "metadata": {},
   "outputs": [
    {
     "data": {
      "text/plain": [
       "[{'transferred_cell_label': 'Endo',\n",
       "  'source_node_accession': 'CrossArea_subclass_48e48631ba',\n",
       "  'source_taxonomy': 'https://purl.brain-bican.org/taxonomy/AIT_MTG/AIT_MTG.json',\n",
       "  'comment': 'We performed PCA (50 components) on our full dataset, trained a random forest classifier (scikit-learn, class_ weight=‘balanced’, max_depth=50) on the MTG labels, and then predicted labels for all cells. We labeled each cluster with the mode of its constituent cells if two conditions were met: more than 0.8 of predicted labels matched the mode, and the mean probability of these pre- dictions was greater than 0.8.'}]"
      ]
     },
     "execution_count": 46,
     "metadata": {},
     "output_type": "execute_result"
    }
   ],
   "source": [
    "# Testing\n",
    "[a['annotation_transfer'] for a in nn['annotations'] if 'annotation_transfer' in a.keys()][0]"
   ]
  },
  {
   "cell_type": "code",
   "execution_count": null,
   "id": "9753d307-441b-4cca-8004-96d9fc01f462",
   "metadata": {},
   "outputs": [],
   "source": [
    "# TODO - repeat for Neurons. Save and test CAS.json"
   ]
  }
 ],
 "metadata": {
  "kernelspec": {
   "display_name": "venv",
   "language": "python",
   "name": "venv"
  },
  "language_info": {
   "codemirror_mode": {
    "name": "ipython",
    "version": 3
   },
   "file_extension": ".py",
   "mimetype": "text/x-python",
   "name": "python",
   "nbconvert_exporter": "python",
   "pygments_lexer": "ipython3",
   "version": "3.9.19"
  }
 },
 "nbformat": 4,
 "nbformat_minor": 5
}
