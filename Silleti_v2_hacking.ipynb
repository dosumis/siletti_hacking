{
 "cells": [
  {
   "cell_type": "code",
   "execution_count": 1,
   "id": "e33c5773-b79a-4034-b4c1-707f2029979c",
   "metadata": {},
   "outputs": [],
   "source": [
    "%%bash\n",
    "\n",
    "# convert Silletti in ABC to cas\n",
    "cas abc2cas --catset ABC_source/cluster_annotation_term_set.csv --cat ABC_source/cluster_annotation_term.csv --output intermediatte_files/Siletti_from_abc.json"
   ]
  },
  {
   "cell_type": "code",
   "execution_count": 41,
   "id": "7bc60e86-c25e-4783-9462-9721198a6353",
   "metadata": {},
   "outputs": [],
   "source": [
    "import json\n",
    "\n",
    "#  Open files\n",
    "\n",
    "with open('./intermediatte_files/Siletti_from_abc.json', 'r') as f:\n",
    "    Siletti_abc_cas = json.loads(f.read())\n",
    "\n",
    "with open('./cas_source/CS202210140_non_neuronal.json', 'r') as f:\n",
    "    nn = json.loads(f.read())\n",
    "with open('./cas_source/CS202210140_neurons.json', 'r') as f:\n",
    "    neurons = json.loads(f.read())\n",
    "\n",
    "#Generate lookups for accessions for nn and neuron clusters respectively\n",
    "neuron_clusters = { a['cell_set_accession'] for a in neurons['annotations'] \n",
    "                    if a['labelset'] == 'Cluster'}\n",
    "nn_clusters = { a['cell_set_accession'] for a in nn['annotations'] \n",
    "                    if a['labelset'] == 'Cluster'}\n",
    "\n",
    "# Make lists of subclusters from ABC that have a parent cluster in nn & neurons respectively\n",
    "nn_subclusters = [a for a in Siletti_abc_cas['annotations']\n",
    "                  if (a['labelset'] == 'subcluster') \n",
    "                  and (a['parent_cell_set_accession'] in nn_clusters)]\n",
    "neuron_subclusters = [a for a in Siletti_abc_cas['annotations']\n",
    "                  if (a['labelset'] == 'subcluster') \n",
    "                  and (a['parent_cell_set_accession'] in neuron_clusters)]\n",
    "\n",
    "# Merge in subclusters\n",
    "\n",
    "nn['annotations'].extend(nn_subclusters)\n",
    "neurons['annotations'].extend(neuron_subclusters)\n",
    "\n",
    "\n",
    "    "
   ]
  },
  {
   "cell_type": "code",
   "execution_count": 35,
   "id": "96cd1e73-04d4-42f7-afb3-f5c31f95288a",
   "metadata": {},
   "outputs": [],
   "source": [
    "#Commenting as depends on path to anndata file - not stored in repo\n",
    "#%%bash\n",
    "# Generate file of CAS files from subclusters in Siletti anndata files\n",
    "#cas anndata2cas --anndata Siletti_all_non_neuronal_cells.h5ad --labelsets subcluster_id --output intermediatte_files/Siletti_subclusters_from_anndata_cas.json\n"
   ]
  },
  {
   "cell_type": "code",
   "execution_count": 6,
   "id": "4c2dbd92-246d-43bb-9eea-b05371fb6604",
   "metadata": {},
   "outputs": [],
   "source": [
    "# Generate lookup for subcluster cell_ids, keyed on subclusters_id\n",
    "\n",
    "# Open files\n",
    "import json\n",
    "with open('./intermediatte_files/Siletti_subclusters_from_anndata_cas.json', 'r') as f:\n",
    "    Siletti_subclusters_from_ad = json.loads(f.read())\n",
    "\n",
    "subcluster_cell_id_lookup = { a['cell_label'] : a['cell_ids'] for a in Siletti_subclusters_from_ad['annotations']}"
   ]
  },
  {
   "cell_type": "code",
   "execution_count": 7,
   "id": "63f44288-b5fa-4039-b990-19998cb30d6c",
   "metadata": {},
   "outputs": [
    {
     "data": {
      "text/plain": [
       "297"
      ]
     },
     "execution_count": 7,
     "metadata": {},
     "output_type": "execute_result"
    }
   ],
   "source": [
    "# Check number of matches on both sides\n",
    "len(subcluster_cell_id_lookup.keys())"
   ]
  },
  {
   "cell_type": "code",
   "execution_count": 8,
   "id": "9a7cba90-4e7a-4605-aaf2-5b8a3271a84f",
   "metadata": {},
   "outputs": [
    {
     "data": {
      "text/plain": [
       "297"
      ]
     },
     "execution_count": 8,
     "metadata": {},
     "output_type": "execute_result"
    }
   ],
   "source": [
    "len(Siletti_subclusters_from_ad['annotations'])\n"
   ]
  },
  {
   "cell_type": "code",
   "execution_count": 9,
   "id": "984babcc-fdad-4292-9337-6d4f940f92c4",
   "metadata": {},
   "outputs": [
    {
     "data": {
      "text/plain": [
       "297"
      ]
     },
     "execution_count": 9,
     "metadata": {},
     "output_type": "execute_result"
    }
   ],
   "source": [
    "len(nn_subclusters)\n"
   ]
  },
  {
   "cell_type": "code",
   "execution_count": 10,
   "id": "ddeef193-bf7d-42fb-97f3-da513d8ae1f7",
   "metadata": {},
   "outputs": [
    {
     "data": {
      "text/plain": [
       "{'labelset': 'subcluster',\n",
       " 'cell_label': 'Oligo_50_2996',\n",
       " 'cell_set_accession': 'CS202210140_3490',\n",
       " 'parent_cell_set_accession': 'CS202210140_51'}"
      ]
     },
     "execution_count": 10,
     "metadata": {},
     "output_type": "execute_result"
    }
   ],
   "source": [
    "nn_subclusters[0]"
   ]
  },
  {
   "cell_type": "code",
   "execution_count": 11,
   "id": "88f36ce7-26b3-48c9-a045-aa0fe8f522e1",
   "metadata": {},
   "outputs": [],
   "source": [
    "import re\n",
    "# Testing regex pattern\n",
    "m = re.match('.+_(\\d+)', 'Oligo_50_2996')\n",
    "m.group(1)"
   ]
  },
  {
   "cell_type": "code",
   "execution_count": 12,
   "id": "d2dfaa2e-0a8b-4e4a-9491-a8c11d5856e3",
   "metadata": {},
   "outputs": [
    {
     "data": {
      "text/plain": [
       "'2996'"
      ]
     },
     "execution_count": 12,
     "metadata": {},
     "output_type": "execute_result"
    }
   ],
   "source": [
    "m.group(1)"
   ]
  },
  {
   "cell_type": "code",
   "execution_count": 13,
   "id": "41d4f31e-3466-4c93-9c78-297b5b4f3adf",
   "metadata": {},
   "outputs": [],
   "source": [
    "# Use regex matching ID -> label to attach cell_ids to subclusters\n",
    "for c in nn_subclusters:\n",
    "    m = re.match('.+_(\\d+)', c['cell_label'])\n",
    "    if int(m.group(1)) in subcluster_cell_id_lookup.keys():\n",
    "        c['cell_ids'] = subcluster_cell_id_lookup[int(m.group(1))]"
   ]
  },
  {
   "cell_type": "code",
   "execution_count": 29,
   "id": "4861cbb6-a284-4836-9e79-d7d37c921708",
   "metadata": {},
   "outputs": [
    {
     "data": {
      "text/plain": [
       "['10X362_3:TCAGTGAGTATTGACC',\n",
       " '10X362_5:TCCGTGTGTGAAAGTT',\n",
       " '10X362_5:CACGGGTAGAGCAGAA',\n",
       " '10X362_6:AGGACTTGTATCCTTT',\n",
       " '10X362_6:GCATTAGGTTGGACCC']"
      ]
     },
     "execution_count": 29,
     "metadata": {},
     "output_type": "execute_result"
    }
   ],
   "source": [
    "# Test addition cell_Ids has worked\n",
    "nn_subclusters[0]['cell_ids'][0:5]"
   ]
  },
  {
   "cell_type": "code",
   "execution_count": 30,
   "id": "75b243f7-950b-4a51-a03d-3ca65eb055f8",
   "metadata": {},
   "outputs": [],
   "source": [
    "import pandas as pd"
   ]
  },
  {
   "cell_type": "code",
   "execution_count": 16,
   "id": "b61fa1e1-dfee-41f8-afe9-552750355dbf",
   "metadata": {},
   "outputs": [],
   "source": [
    "AT = pd.read_csv('./Annotation_transfer/Clusters_AT_from_MTG.tsv', sep='\\t')\n"
   ]
  },
  {
   "cell_type": "code",
   "execution_count": 31,
   "id": "f828ab94-4229-4338-9dbc-719f8c32faed",
   "metadata": {},
   "outputs": [
    {
     "data": {
      "text/html": [
       "<div>\n",
       "<style scoped>\n",
       "    .dataframe tbody tr th:only-of-type {\n",
       "        vertical-align: middle;\n",
       "    }\n",
       "\n",
       "    .dataframe tbody tr th {\n",
       "        vertical-align: top;\n",
       "    }\n",
       "\n",
       "    .dataframe thead th {\n",
       "        text-align: right;\n",
       "    }\n",
       "</style>\n",
       "<table border=\"1\" class=\"dataframe\">\n",
       "  <thead>\n",
       "    <tr style=\"text-align: right;\">\n",
       "      <th></th>\n",
       "      <th>cell_set_accession</th>\n",
       "      <th>cell_label</th>\n",
       "      <th>cell_fullname</th>\n",
       "      <th>parent_cell_set_accession</th>\n",
       "      <th>parent_cell_set_name</th>\n",
       "      <th>labelset</th>\n",
       "      <th>cell_ontology_term_id</th>\n",
       "      <th>cell_ontology_term</th>\n",
       "      <th>rationale</th>\n",
       "      <th>rationale_dois</th>\n",
       "      <th>marker_gene_evidence</th>\n",
       "      <th>synonyms</th>\n",
       "    </tr>\n",
       "  </thead>\n",
       "  <tbody>\n",
       "    <tr>\n",
       "      <th>0</th>\n",
       "      <td>b15b444731</td>\n",
       "      <td>Vip_2</td>\n",
       "      <td>Vip_2</td>\n",
       "      <td>082c817b6f</td>\n",
       "      <td>Vip</td>\n",
       "      <td>CrossArea_cluster</td>\n",
       "      <td>CL:4023016</td>\n",
       "      <td>vip GABAergic cortical interneuron</td>\n",
       "      <td>NaN</td>\n",
       "      <td>NaN</td>\n",
       "      <td>NaN</td>\n",
       "      <td>NaN</td>\n",
       "    </tr>\n",
       "    <tr>\n",
       "      <th>1</th>\n",
       "      <td>83796aa6d9</td>\n",
       "      <td>Sst_11</td>\n",
       "      <td>Sst_11</td>\n",
       "      <td>8fa477a378</td>\n",
       "      <td>Sst</td>\n",
       "      <td>CrossArea_cluster</td>\n",
       "      <td>CL:4023017</td>\n",
       "      <td>sst GABAergic cortical interneuron</td>\n",
       "      <td>NaN</td>\n",
       "      <td>NaN</td>\n",
       "      <td>NaN</td>\n",
       "      <td>NaN</td>\n",
       "    </tr>\n",
       "    <tr>\n",
       "      <th>2</th>\n",
       "      <td>8c25f3eded</td>\n",
       "      <td>Sst_31</td>\n",
       "      <td>Sst_31</td>\n",
       "      <td>8fa477a378</td>\n",
       "      <td>Sst</td>\n",
       "      <td>CrossArea_cluster</td>\n",
       "      <td>CL:4023017</td>\n",
       "      <td>sst GABAergic cortical interneuron</td>\n",
       "      <td>NaN</td>\n",
       "      <td>NaN</td>\n",
       "      <td>NaN</td>\n",
       "      <td>NaN</td>\n",
       "    </tr>\n",
       "    <tr>\n",
       "      <th>3</th>\n",
       "      <td>319ad7ab6a</td>\n",
       "      <td>Sst_37</td>\n",
       "      <td>Sst_37</td>\n",
       "      <td>8fa477a378</td>\n",
       "      <td>Sst</td>\n",
       "      <td>CrossArea_cluster</td>\n",
       "      <td>CL:4023017</td>\n",
       "      <td>sst GABAergic cortical interneuron</td>\n",
       "      <td>NaN</td>\n",
       "      <td>NaN</td>\n",
       "      <td>NaN</td>\n",
       "      <td>NaN</td>\n",
       "    </tr>\n",
       "    <tr>\n",
       "      <th>4</th>\n",
       "      <td>51b6c3ddc3</td>\n",
       "      <td>L6 CT_3</td>\n",
       "      <td>L6 CT_3</td>\n",
       "      <td>d4ee4a2c4c</td>\n",
       "      <td>L6 CT</td>\n",
       "      <td>CrossArea_cluster</td>\n",
       "      <td>CL:4023013</td>\n",
       "      <td>corticothalamic-projecting glutamatergic corti...</td>\n",
       "      <td>NaN</td>\n",
       "      <td>NaN</td>\n",
       "      <td>NaN</td>\n",
       "      <td>NaN</td>\n",
       "    </tr>\n",
       "  </tbody>\n",
       "</table>\n",
       "</div>"
      ],
      "text/plain": [
       "  cell_set_accession cell_label cell_fullname parent_cell_set_accession  \\\n",
       "0         b15b444731      Vip_2         Vip_2                082c817b6f   \n",
       "1         83796aa6d9     Sst_11        Sst_11                8fa477a378   \n",
       "2         8c25f3eded     Sst_31        Sst_31                8fa477a378   \n",
       "3         319ad7ab6a     Sst_37        Sst_37                8fa477a378   \n",
       "4         51b6c3ddc3    L6 CT_3       L6 CT_3                d4ee4a2c4c   \n",
       "\n",
       "  parent_cell_set_name           labelset cell_ontology_term_id  \\\n",
       "0                  Vip  CrossArea_cluster            CL:4023016   \n",
       "1                  Sst  CrossArea_cluster            CL:4023017   \n",
       "2                  Sst  CrossArea_cluster            CL:4023017   \n",
       "3                  Sst  CrossArea_cluster            CL:4023017   \n",
       "4                L6 CT  CrossArea_cluster            CL:4023013   \n",
       "\n",
       "                                  cell_ontology_term  rationale  \\\n",
       "0                 vip GABAergic cortical interneuron        NaN   \n",
       "1                 sst GABAergic cortical interneuron        NaN   \n",
       "2                 sst GABAergic cortical interneuron        NaN   \n",
       "3                 sst GABAergic cortical interneuron        NaN   \n",
       "4  corticothalamic-projecting glutamatergic corti...        NaN   \n",
       "\n",
       "   rationale_dois  marker_gene_evidence  synonyms  \n",
       "0             NaN                   NaN       NaN  \n",
       "1             NaN                   NaN       NaN  \n",
       "2             NaN                   NaN       NaN  \n",
       "3             NaN                   NaN       NaN  \n",
       "4             NaN                   NaN       NaN  "
      ]
     },
     "execution_count": 31,
     "metadata": {},
     "output_type": "execute_result"
    }
   ],
   "source": [
    "MTG_annotations = pd.read_csv('./MTG_cas/CCN20240304_annotations.tsv', sep='\\t')\n",
    "MTG_annotations[0:5]"
   ]
  },
  {
   "cell_type": "code",
   "execution_count": 32,
   "id": "532b6d56-abff-4194-9613-667cfc0ddbd8",
   "metadata": {},
   "outputs": [],
   "source": [
    "# Aim \n",
    "# Look up transfered MTG names (in MT) in MTG cell_label var - MT - & link Siletti Cell label to MTG annotation object\n",
    "\n",
    "# 1. Make template for annotation transfer objects\n",
    "# 2. Iterate over annotatoin transfer labels, matching to cluster labels & using this to generate annotation transfer objects.\n",
    "# 3. Attach annotation transfer objects to annotatinons\n",
    "\n"
   ]
  },
  {
   "cell_type": "code",
   "execution_count": 20,
   "id": "22ad75c1-8a73-4740-bfa7-e9a43f98885e",
   "metadata": {},
   "outputs": [],
   "source": [
    "MTG_annotation_lookup = MTG_annotations.set_index(\"cell_label\").to_dict(orient='index')"
   ]
  },
  {
   "cell_type": "code",
   "execution_count": 21,
   "id": "6a32521d-f6a5-49de-bef5-9ecc2f8e8055",
   "metadata": {},
   "outputs": [
    {
     "data": {
      "text/plain": [
       "{'Astro',\n",
       " 'Chandelier',\n",
       " 'Endo',\n",
       " 'L2/3 IT',\n",
       " 'L4 IT',\n",
       " 'L5 IT',\n",
       " 'L5/6 NP',\n",
       " 'L6 CT',\n",
       " 'L6 IT',\n",
       " 'L6 IT Car3',\n",
       " 'L6b',\n",
       " 'Lamp5',\n",
       " 'Lamp5 Lhx6',\n",
       " 'OPC',\n",
       " 'Oligo',\n",
       " 'Pax6',\n",
       " 'Pvalb',\n",
       " 'Sncg',\n",
       " 'Sst',\n",
       " 'VLMC',\n",
       " 'Vip'}"
      ]
     },
     "execution_count": 21,
     "metadata": {},
     "output_type": "execute_result"
    }
   ],
   "source": [
    "# What matches?\n",
    "set(MTG_annotation_lookup.keys()).intersection(set(AT['Transferred MTG Label']))"
   ]
  },
  {
   "cell_type": "code",
   "execution_count": 34,
   "id": "21358315-ba39-4530-9934-60090d2f9585",
   "metadata": {},
   "outputs": [
    {
     "data": {
      "text/plain": [
       "{'Micro-PVM', nan}"
      ]
     },
     "execution_count": 34,
     "metadata": {},
     "output_type": "execute_result"
    }
   ],
   "source": [
    "# What doesn't match?  - Can we match this by hand?\n",
    "(set(AT['Transferred MTG Label']))-set(MTG_annotation_lookup.keys())"
   ]
  },
  {
   "cell_type": "code",
   "execution_count": 23,
   "id": "64d6065c-599b-4299-82ec-668d90c982ff",
   "metadata": {},
   "outputs": [],
   "source": [
    "# Dict comp => Dict keyed on Siletti Cluster_name (=cell_label) with value = MTG annotation transfer object\n",
    "# Iterate over Transferred annotations (AT)\n",
    "out = {}\n",
    "comment = \"We performed PCA (50 components) on our full dataset, trained a random forest classifier (scikit-learn, class_ weight=‘balanced’, max_depth=50) on the MTG labels, and then predicted labels for all cells. We labeled each cluster with the mode of its constituent cells if two conditions were met: more than 0.8 of predicted labels matched the mode, and the mean probability of these pre- dictions was greater than 0.8.\"\n",
    "for i,r in AT.iterrows(): \n",
    "    if r['Transferred MTG Label'] in MTG_annotation_lookup.keys():\n",
    "        MTG_ann =  MTG_annotation_lookup[r['Transferred MTG Label']]\n",
    "        out[r['Cluster name']]= { \"transferred_cell_label\" : r['Transferred MTG Label'], \n",
    "                                  \"source_node_accession\": MTG_ann['labelset'] + '_' + MTG_ann['cell_set_accession'],\n",
    "                                  \"source_taxonomy\": \"https://purl.brain-bican.org/taxonomy/AIT_MTG/AIT_MTG.json\",\n",
    "                                  \"comment\": comment }\n",
    "\n",
    "                                 \n",
    "\n",
    "                                 \n",
    " "
   ]
  },
  {
   "cell_type": "code",
   "execution_count": 27,
   "id": "94452350-74bb-4256-a4e6-d5043709946f",
   "metadata": {},
   "outputs": [],
   "source": [
    "# Test\n",
    "out['Amex_175']"
   ]
  },
  {
   "cell_type": "code",
   "execution_count": 28,
   "id": "514cafaf-301a-4771-aca3-7b7ea034ebb4",
   "metadata": {},
   "outputs": [
    {
     "data": {
      "text/plain": [
       "{'transferred_cell_label': 'L2/3 IT',\n",
       " 'source_node_accession': 'CrossArea_subclass_58570ade17',\n",
       " 'source_taxonomy': 'https://purl.brain-bican.org/taxonomy/AIT_MTG/AIT_MTG.json',\n",
       " 'comment': 'We performed PCA (50 components) on our full dataset, trained a random forest classifier (scikit-learn, class_ weight=‘balanced’, max_depth=50) on the MTG labels, and then predicted labels for all cells. We labeled each cluster with the mode of its constituent cells if two conditions were met: more than 0.8 of predicted labels matched the mode, and the mean probability of these pre- dictions was greater than 0.8.'}"
      ]
     },
     "execution_count": 28,
     "metadata": {},
     "output_type": "execute_result"
    }
   ],
   "source": []
  },
  {
   "cell_type": "code",
   "execution_count": 45,
   "id": "6f32a70e-5ee9-4193-bd08-0b498bf38d1a",
   "metadata": {},
   "outputs": [],
   "source": [
    "# Attach Annotation transfers to CAS for nn & neurons matching on names\n",
    "\n",
    "for a in nn['annotations']:\n",
    "    if a['cell_label'] in out.keys():\n",
    "        a['annotation_transfer'] = [out[a['cell_label']]]\n",
    "        "
   ]
  },
  {
   "cell_type": "code",
   "execution_count": 46,
   "id": "62c08e5b-7e4f-4743-8cd9-abcd7806a623",
   "metadata": {},
   "outputs": [
    {
     "data": {
      "text/plain": [
       "[{'transferred_cell_label': 'Endo',\n",
       "  'source_node_accession': 'CrossArea_subclass_48e48631ba',\n",
       "  'source_taxonomy': 'https://purl.brain-bican.org/taxonomy/AIT_MTG/AIT_MTG.json',\n",
       "  'comment': 'We performed PCA (50 components) on our full dataset, trained a random forest classifier (scikit-learn, class_ weight=‘balanced’, max_depth=50) on the MTG labels, and then predicted labels for all cells. We labeled each cluster with the mode of its constituent cells if two conditions were met: more than 0.8 of predicted labels matched the mode, and the mean probability of these pre- dictions was greater than 0.8.'}]"
      ]
     },
     "execution_count": 46,
     "metadata": {},
     "output_type": "execute_result"
    }
   ],
   "source": [
    "# Testing\n",
    "[a['annotation_transfer'] for a in nn['annotations'] if 'annotation_transfer' in a.keys()][0]"
   ]
  },
  {
   "cell_type": "code",
   "execution_count": null,
   "id": "9753d307-441b-4cca-8004-96d9fc01f462",
   "metadata": {},
   "outputs": [],
   "source": [
    "# TODO - repeat for Neurons. Save and test CAS.json"
   ]
  }
 ],
 "metadata": {
  "kernelspec": {
   "display_name": "Python 3 (ipykernel)",
   "language": "python",
   "name": "python3"
  },
  "language_info": {
   "codemirror_mode": {
    "name": "ipython",
    "version": 3
   },
   "file_extension": ".py",
   "mimetype": "text/x-python",
   "name": "python",
   "nbconvert_exporter": "python",
   "pygments_lexer": "ipython3",
   "version": "3.9.6"
  }
 },
 "nbformat": 4,
 "nbformat_minor": 5
}
