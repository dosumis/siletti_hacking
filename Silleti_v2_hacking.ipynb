{
 "cells": [
  {
   "cell_type": "code",
   "execution_count": 39,
   "id": "7057bcef-7fbe-4dad-924f-02cf067ab76a",
   "metadata": {},
   "outputs": [
    {
     "name": "stdout",
     "output_type": "stream",
     "text": [
      "Requirement already satisfied: pandas in ./venv/lib/python3.9/site-packages (2.2.1)\n",
      "Requirement already satisfied: numpy<2,>=1.22.4 in ./venv/lib/python3.9/site-packages (from pandas) (1.26.4)\n",
      "Requirement already satisfied: python-dateutil>=2.8.2 in ./venv/lib/python3.9/site-packages (from pandas) (2.9.0)\n",
      "Requirement already satisfied: pytz>=2020.1 in ./venv/lib/python3.9/site-packages (from pandas) (2024.1)\n",
      "Requirement already satisfied: tzdata>=2022.7 in ./venv/lib/python3.9/site-packages (from pandas) (2024.1)\n",
      "Requirement already satisfied: six>=1.5 in ./venv/lib/python3.9/site-packages (from python-dateutil>=2.8.2->pandas) (1.16.0)\n",
      "\n",
      "\u001b[1m[\u001b[0m\u001b[34;49mnotice\u001b[0m\u001b[1;39;49m]\u001b[0m\u001b[39;49m A new release of pip is available: \u001b[0m\u001b[31;49m24.1\u001b[0m\u001b[39;49m -> \u001b[0m\u001b[32;49m24.1.1\u001b[0m\n",
      "\u001b[1m[\u001b[0m\u001b[34;49mnotice\u001b[0m\u001b[1;39;49m]\u001b[0m\u001b[39;49m To update, run: \u001b[0m\u001b[32;49m/Users/aa37/Documents/GitHub/siletti_hacking/venv/bin/python3 -m pip install --upgrade pip\u001b[0m\n",
      "Requirement already satisfied: cas-tools==0.0.1.dev47 in ./venv/lib/python3.9/site-packages (0.0.1.dev47)\n",
      "Requirement already satisfied: anndata==0.10.3 in ./venv/lib/python3.9/site-packages (from cas-tools==0.0.1.dev47) (0.10.3)\n",
      "Requirement already satisfied: cellxgene-census==1.10.2 in ./venv/lib/python3.9/site-packages (from cas-tools==0.0.1.dev47) (1.10.2)\n",
      "Requirement already satisfied: openpyxl==3.1.2 in ./venv/lib/python3.9/site-packages (from cas-tools==0.0.1.dev47) (3.1.2)\n",
      "Requirement already satisfied: dataclasses-json==0.6.4 in ./venv/lib/python3.9/site-packages (from cas-tools==0.0.1.dev47) (0.6.4)\n",
      "Requirement already satisfied: pandas==2.2.1 in ./venv/lib/python3.9/site-packages (from cas-tools==0.0.1.dev47) (2.2.1)\n",
      "Requirement already satisfied: ruamel.yaml==0.18.6 in ./venv/lib/python3.9/site-packages (from cas-tools==0.0.1.dev47) (0.18.6)\n",
      "Requirement already satisfied: jsonschema==4.4.0 in ./venv/lib/python3.9/site-packages (from cas-tools==0.0.1.dev47) (4.4.0)\n",
      "Requirement already satisfied: ordered-set==4.1.0 in ./venv/lib/python3.9/site-packages (from cas-tools==0.0.1.dev47) (4.1.0)\n",
      "Requirement already satisfied: deepmerge==1.1.0 in ./venv/lib/python3.9/site-packages (from cas-tools==0.0.1.dev47) (1.1.0)\n",
      "Requirement already satisfied: cell-annotation-schema==0.2b0 in ./venv/lib/python3.9/site-packages (from cas-tools==0.0.1.dev47) (0.2b0)\n",
      "Requirement already satisfied: h5py==3.10.0 in ./venv/lib/python3.9/site-packages (from cas-tools==0.0.1.dev47) (3.10.0)\n",
      "Requirement already satisfied: numpy==1.26.4 in ./venv/lib/python3.9/site-packages (from cas-tools==0.0.1.dev47) (1.26.4)\n",
      "Requirement already satisfied: marshmallow==3.21.1 in ./venv/lib/python3.9/site-packages (from cas-tools==0.0.1.dev47) (3.21.1)\n",
      "Requirement already satisfied: python-dateutil==2.9.0 in ./venv/lib/python3.9/site-packages (from cas-tools==0.0.1.dev47) (2.9.0)\n",
      "Requirement already satisfied: schema-automator==0.5.1 in ./venv/lib/python3.9/site-packages (from cas-tools==0.0.1.dev47) (0.5.1)\n",
      "Requirement already satisfied: linkml==1.7.8 in ./venv/lib/python3.9/site-packages (from cas-tools==0.0.1.dev47) (1.7.8)\n",
      "Requirement already satisfied: oaklib==0.6.4 in ./venv/lib/python3.9/site-packages (from cas-tools==0.0.1.dev47) (0.6.4)\n",
      "Requirement already satisfied: defusedxml==0.7.1 in ./venv/lib/python3.9/site-packages (from cas-tools==0.0.1.dev47) (0.7.1)\n",
      "Requirement already satisfied: rdflib==7.0.0 in ./venv/lib/python3.9/site-packages (from cas-tools==0.0.1.dev47) (7.0.0)\n",
      "Requirement already satisfied: requests==2.32.0 in ./venv/lib/python3.9/site-packages (from cas-tools==0.0.1.dev47) (2.32.0)\n",
      "Requirement already satisfied: array-api-compat in ./venv/lib/python3.9/site-packages (from anndata==0.10.3->cas-tools==0.0.1.dev47) (1.7.1)\n",
      "Requirement already satisfied: exceptiongroup in ./venv/lib/python3.9/site-packages (from anndata==0.10.3->cas-tools==0.0.1.dev47) (1.2.1)\n",
      "Requirement already satisfied: natsort in ./venv/lib/python3.9/site-packages (from anndata==0.10.3->cas-tools==0.0.1.dev47) (8.4.0)\n",
      "Requirement already satisfied: packaging>=20 in ./venv/lib/python3.9/site-packages (from anndata==0.10.3->cas-tools==0.0.1.dev47) (24.1)\n",
      "Requirement already satisfied: scipy>1.4 in ./venv/lib/python3.9/site-packages (from anndata==0.10.3->cas-tools==0.0.1.dev47) (1.13.1)\n",
      "Requirement already satisfied: tiledbsoma~=1.7.0 in ./venv/lib/python3.9/site-packages (from cellxgene-census==1.10.2->cas-tools==0.0.1.dev47) (1.7.3)\n",
      "Requirement already satisfied: typing-extensions in ./venv/lib/python3.9/site-packages (from cellxgene-census==1.10.2->cas-tools==0.0.1.dev47) (4.12.2)\n",
      "Requirement already satisfied: s3fs>=2021.06.1 in ./venv/lib/python3.9/site-packages (from cellxgene-census==1.10.2->cas-tools==0.0.1.dev47) (2024.6.0)\n",
      "Requirement already satisfied: typing-inspect<1,>=0.4.0 in ./venv/lib/python3.9/site-packages (from dataclasses-json==0.6.4->cas-tools==0.0.1.dev47) (0.9.0)\n",
      "Requirement already satisfied: attrs>=17.4.0 in ./venv/lib/python3.9/site-packages (from jsonschema==4.4.0->cas-tools==0.0.1.dev47) (23.2.0)\n",
      "Requirement already satisfied: pyrsistent!=0.17.0,!=0.17.1,!=0.17.2,>=0.14.0 in ./venv/lib/python3.9/site-packages (from jsonschema==4.4.0->cas-tools==0.0.1.dev47) (0.20.0)\n",
      "Requirement already satisfied: antlr4-python3-runtime<4.10,>=4.9.0 in ./venv/lib/python3.9/site-packages (from linkml==1.7.8->cas-tools==0.0.1.dev47) (4.9.3)\n",
      "Requirement already satisfied: click>=7.0 in ./venv/lib/python3.9/site-packages (from linkml==1.7.8->cas-tools==0.0.1.dev47) (8.1.7)\n",
      "Requirement already satisfied: graphviz>=0.10.1 in ./venv/lib/python3.9/site-packages (from linkml==1.7.8->cas-tools==0.0.1.dev47) (0.20.3)\n",
      "Requirement already satisfied: hbreader in ./venv/lib/python3.9/site-packages (from linkml==1.7.8->cas-tools==0.0.1.dev47) (0.9.1)\n",
      "Requirement already satisfied: isodate>=0.6.0 in ./venv/lib/python3.9/site-packages (from linkml==1.7.8->cas-tools==0.0.1.dev47) (0.6.1)\n",
      "Requirement already satisfied: jinja2>=3.1.0 in ./venv/lib/python3.9/site-packages (from linkml==1.7.8->cas-tools==0.0.1.dev47) (3.1.4)\n",
      "Requirement already satisfied: jsonasobj2<2.0.0,>=1.0.3 in ./venv/lib/python3.9/site-packages (from linkml==1.7.8->cas-tools==0.0.1.dev47) (1.0.4)\n",
      "Requirement already satisfied: linkml-dataops in ./venv/lib/python3.9/site-packages (from linkml==1.7.8->cas-tools==0.0.1.dev47) (0.1.0)\n",
      "Requirement already satisfied: linkml-runtime>=1.7.4 in ./venv/lib/python3.9/site-packages (from linkml==1.7.8->cas-tools==0.0.1.dev47) (1.7.7)\n",
      "Requirement already satisfied: parse in ./venv/lib/python3.9/site-packages (from linkml==1.7.8->cas-tools==0.0.1.dev47) (1.20.2)\n",
      "Requirement already satisfied: prefixcommons>=0.1.7 in ./venv/lib/python3.9/site-packages (from linkml==1.7.8->cas-tools==0.0.1.dev47) (0.1.12)\n",
      "Requirement already satisfied: prefixmaps>=0.2.2 in ./venv/lib/python3.9/site-packages (from linkml==1.7.8->cas-tools==0.0.1.dev47) (0.2.4)\n",
      "Requirement already satisfied: pydantic<3.0.0,>=1.0.0 in ./venv/lib/python3.9/site-packages (from linkml==1.7.8->cas-tools==0.0.1.dev47) (2.7.4)\n",
      "Requirement already satisfied: pyjsg>=0.11.6 in ./venv/lib/python3.9/site-packages (from linkml==1.7.8->cas-tools==0.0.1.dev47) (0.11.10)\n",
      "Requirement already satisfied: pyshex>=0.7.20 in ./venv/lib/python3.9/site-packages (from linkml==1.7.8->cas-tools==0.0.1.dev47) (0.8.1)\n",
      "Requirement already satisfied: pyshexc>=0.8.3 in ./venv/lib/python3.9/site-packages (from linkml==1.7.8->cas-tools==0.0.1.dev47) (0.9.1)\n",
      "Requirement already satisfied: pyyaml in ./venv/lib/python3.9/site-packages (from linkml==1.7.8->cas-tools==0.0.1.dev47) (6.0.1)\n",
      "Requirement already satisfied: sqlalchemy>=1.4.31 in ./venv/lib/python3.9/site-packages (from linkml==1.7.8->cas-tools==0.0.1.dev47) (2.0.31)\n",
      "Requirement already satisfied: watchdog>=0.9.0 in ./venv/lib/python3.9/site-packages (from linkml==1.7.8->cas-tools==0.0.1.dev47) (4.0.1)\n",
      "Requirement already satisfied: SPARQLWrapper in ./venv/lib/python3.9/site-packages (from oaklib==0.6.4->cas-tools==0.0.1.dev47) (2.0.0)\n",
      "Requirement already satisfied: airium>=0.2.5 in ./venv/lib/python3.9/site-packages (from oaklib==0.6.4->cas-tools==0.0.1.dev47) (0.2.6)\n",
      "Requirement already satisfied: appdirs>=1.4.4 in ./venv/lib/python3.9/site-packages (from oaklib==0.6.4->cas-tools==0.0.1.dev47) (1.4.4)\n",
      "Requirement already satisfied: class-resolver>=0.4.2 in ./venv/lib/python3.9/site-packages (from oaklib==0.6.4->cas-tools==0.0.1.dev47) (0.4.3)\n",
      "Requirement already satisfied: curies>=0.6.6 in ./venv/lib/python3.9/site-packages (from oaklib==0.6.4->cas-tools==0.0.1.dev47) (0.7.9)\n",
      "Requirement already satisfied: eutils>=0.6.0 in ./venv/lib/python3.9/site-packages (from oaklib==0.6.4->cas-tools==0.0.1.dev47) (0.6.0)\n",
      "Requirement already satisfied: funowl>=0.2.0 in ./venv/lib/python3.9/site-packages (from oaklib==0.6.4->cas-tools==0.0.1.dev47) (0.2.3)\n",
      "Requirement already satisfied: jsonlines<5.0.0,>=4.0.0 in ./venv/lib/python3.9/site-packages (from oaklib==0.6.4->cas-tools==0.0.1.dev47) (4.0.0)\n",
      "Requirement already satisfied: kgcl-rdflib==0.5.0 in ./venv/lib/python3.9/site-packages (from oaklib==0.6.4->cas-tools==0.0.1.dev47) (0.5.0)\n",
      "Requirement already satisfied: kgcl-schema<0.7.0,>=0.6.8 in ./venv/lib/python3.9/site-packages (from oaklib==0.6.4->cas-tools==0.0.1.dev47) (0.6.8)\n",
      "Requirement already satisfied: linkml-renderer>=0.3.0 in ./venv/lib/python3.9/site-packages (from oaklib==0.6.4->cas-tools==0.0.1.dev47) (0.3.0)\n",
      "Requirement already satisfied: ndex2<4.0.0,>=3.5.0 in ./venv/lib/python3.9/site-packages (from oaklib==0.6.4->cas-tools==0.0.1.dev47) (3.9.0)\n",
      "Requirement already satisfied: networkx>=2.7.1 in ./venv/lib/python3.9/site-packages (from oaklib==0.6.4->cas-tools==0.0.1.dev47) (3.2.1)\n",
      "Requirement already satisfied: ols-client>=0.1.1 in ./venv/lib/python3.9/site-packages (from oaklib==0.6.4->cas-tools==0.0.1.dev47) (0.1.4)\n",
      "Requirement already satisfied: ontoportal-client>=0.0.3 in ./venv/lib/python3.9/site-packages (from oaklib==0.6.4->cas-tools==0.0.1.dev47) (0.0.4)\n",
      "Requirement already satisfied: pronto>=2.5.0 in ./venv/lib/python3.9/site-packages (from oaklib==0.6.4->cas-tools==0.0.1.dev47) (2.5.7)\n",
      "Requirement already satisfied: pysolr<4.0.0,>=3.9.0 in ./venv/lib/python3.9/site-packages (from oaklib==0.6.4->cas-tools==0.0.1.dev47) (3.9.0)\n",
      "Requirement already satisfied: pystow>=0.5.0 in ./venv/lib/python3.9/site-packages (from oaklib==0.6.4->cas-tools==0.0.1.dev47) (0.5.4)\n",
      "Requirement already satisfied: ratelimit>=2.2.1 in ./venv/lib/python3.9/site-packages (from oaklib==0.6.4->cas-tools==0.0.1.dev47) (2.2.1)\n",
      "Requirement already satisfied: requests-cache<2.0.0,>=1.0.1 in ./venv/lib/python3.9/site-packages (from oaklib==0.6.4->cas-tools==0.0.1.dev47) (1.2.1)\n",
      "Requirement already satisfied: semsql>=0.3.1 in ./venv/lib/python3.9/site-packages (from oaklib==0.6.4->cas-tools==0.0.1.dev47) (0.3.3)\n",
      "Requirement already satisfied: sssom<0.5.0,>=0.4.4 in ./venv/lib/python3.9/site-packages (from oaklib==0.6.4->cas-tools==0.0.1.dev47) (0.4.9)\n",
      "Requirement already satisfied: tenacity<9.0.0,>=8.2.3 in ./venv/lib/python3.9/site-packages (from oaklib==0.6.4->cas-tools==0.0.1.dev47) (8.4.1)\n",
      "Requirement already satisfied: et-xmlfile in ./venv/lib/python3.9/site-packages (from openpyxl==3.1.2->cas-tools==0.0.1.dev47) (1.1.0)\n",
      "Requirement already satisfied: pytz>=2020.1 in ./venv/lib/python3.9/site-packages (from pandas==2.2.1->cas-tools==0.0.1.dev47) (2024.1)\n",
      "Requirement already satisfied: tzdata>=2022.7 in ./venv/lib/python3.9/site-packages (from pandas==2.2.1->cas-tools==0.0.1.dev47) (2024.1)\n",
      "Requirement already satisfied: six>=1.5 in ./venv/lib/python3.9/site-packages (from python-dateutil==2.9.0->cas-tools==0.0.1.dev47) (1.16.0)\n",
      "Requirement already satisfied: pyparsing<4,>=2.1.0 in ./venv/lib/python3.9/site-packages (from rdflib==7.0.0->cas-tools==0.0.1.dev47) (3.1.2)\n",
      "Requirement already satisfied: charset-normalizer<4,>=2 in ./venv/lib/python3.9/site-packages (from requests==2.32.0->cas-tools==0.0.1.dev47) (3.3.2)\n",
      "Requirement already satisfied: idna<4,>=2.5 in ./venv/lib/python3.9/site-packages (from requests==2.32.0->cas-tools==0.0.1.dev47) (3.7)\n",
      "Requirement already satisfied: urllib3<3,>=1.21.1 in ./venv/lib/python3.9/site-packages (from requests==2.32.0->cas-tools==0.0.1.dev47) (1.26.19)\n",
      "Requirement already satisfied: certifi>=2017.4.17 in ./venv/lib/python3.9/site-packages (from requests==2.32.0->cas-tools==0.0.1.dev47) (2024.6.2)\n",
      "Requirement already satisfied: ruamel.yaml.clib>=0.2.7 in ./venv/lib/python3.9/site-packages (from ruamel.yaml==0.18.6->cas-tools==0.0.1.dev47) (0.2.8)\n",
      "Requirement already satisfied: click-default-group<2.0.0,>=1.2.4 in ./venv/lib/python3.9/site-packages (from schema-automator==0.5.1->cas-tools==0.0.1.dev47) (1.2.4)\n",
      "Requirement already satisfied: click-log>=0.4.0 in ./venv/lib/python3.9/site-packages (from schema-automator==0.5.1->cas-tools==0.0.1.dev47) (0.4.0)\n",
      "Requirement already satisfied: duckdb<0.11.0,>=0.10.1 in ./venv/lib/python3.9/site-packages (from schema-automator==0.5.1->cas-tools==0.0.1.dev47) (0.10.3)\n",
      "Requirement already satisfied: inflect>=6.0.0 in ./venv/lib/python3.9/site-packages (from schema-automator==0.5.1->cas-tools==0.0.1.dev47) (7.3.0)\n",
      "Requirement already satisfied: jsonpatch>=1.32 in ./venv/lib/python3.9/site-packages (from schema-automator==0.5.1->cas-tools==0.0.1.dev47) (1.33)\n",
      "Requirement already satisfied: mkdocs>=1.2.3 in ./venv/lib/python3.9/site-packages (from schema-automator==0.5.1->cas-tools==0.0.1.dev47) (1.6.0)\n",
      "Requirement already satisfied: pandera>=0.12.0 in ./venv/lib/python3.9/site-packages (from schema-automator==0.5.1->cas-tools==0.0.1.dev47) (0.19.3)\n",
      "Requirement already satisfied: psycopg2-binary<3.0.0,>=2.9.2 in ./venv/lib/python3.9/site-packages (from schema-automator==0.5.1->cas-tools==0.0.1.dev47) (2.9.9)\n",
      "Requirement already satisfied: quantulum3>=0.7.9 in ./venv/lib/python3.9/site-packages (from schema-automator==0.5.1->cas-tools==0.0.1.dev47) (0.9.1)\n",
      "Requirement already satisfied: schemasheets>=0.1.24 in ./venv/lib/python3.9/site-packages (from schema-automator==0.5.1->cas-tools==0.0.1.dev47) (0.2.1)\n",
      "Requirement already satisfied: strsimpy>=0.2.1 in ./venv/lib/python3.9/site-packages (from schema-automator==0.5.1->cas-tools==0.0.1.dev47) (0.2.1)\n",
      "Requirement already satisfied: tomlkit>=0.11.4 in ./venv/lib/python3.9/site-packages (from schema-automator==0.5.1->cas-tools==0.0.1.dev47) (0.12.5)\n",
      "Requirement already satisfied: xmltodict<0.14.0,>=0.13.0 in ./venv/lib/python3.9/site-packages (from schema-automator==0.5.1->cas-tools==0.0.1.dev47) (0.13.0)\n",
      "Requirement already satisfied: importlib-metadata>3.6 in ./venv/lib/python3.9/site-packages (from class-resolver>=0.4.2->oaklib==0.6.4->cas-tools==0.0.1.dev47) (7.2.1)\n",
      "Requirement already satisfied: pytrie in ./venv/lib/python3.9/site-packages (from curies>=0.6.6->oaklib==0.6.4->cas-tools==0.0.1.dev47) (0.4.0)\n",
      "Requirement already satisfied: lxml in ./venv/lib/python3.9/site-packages (from eutils>=0.6.0->oaklib==0.6.4->cas-tools==0.0.1.dev47) (5.2.2)\n",
      "Requirement already satisfied: bcp47 in ./venv/lib/python3.9/site-packages (from funowl>=0.2.0->oaklib==0.6.4->cas-tools==0.0.1.dev47) (0.1.0)\n",
      "Requirement already satisfied: jsonasobj in ./venv/lib/python3.9/site-packages (from funowl>=0.2.0->oaklib==0.6.4->cas-tools==0.0.1.dev47) (1.3.1)\n",
      "Requirement already satisfied: rdflib-shim in ./venv/lib/python3.9/site-packages (from funowl>=0.2.0->oaklib==0.6.4->cas-tools==0.0.1.dev47) (1.0.3)\n",
      "Requirement already satisfied: rfc3987 in ./venv/lib/python3.9/site-packages (from funowl>=0.2.0->oaklib==0.6.4->cas-tools==0.0.1.dev47) (1.3.8)\n",
      "Requirement already satisfied: more-itertools in ./venv/lib/python3.9/site-packages (from inflect>=6.0.0->schema-automator==0.5.1->cas-tools==0.0.1.dev47) (10.3.0)\n",
      "Requirement already satisfied: typeguard>=4.0.1 in ./venv/lib/python3.9/site-packages (from inflect>=6.0.0->schema-automator==0.5.1->cas-tools==0.0.1.dev47) (4.3.0)\n",
      "Requirement already satisfied: MarkupSafe>=2.0 in ./venv/lib/python3.9/site-packages (from jinja2>=3.1.0->linkml==1.7.8->cas-tools==0.0.1.dev47) (2.1.5)\n",
      "Requirement already satisfied: jsonpointer>=1.9 in ./venv/lib/python3.9/site-packages (from jsonpatch>=1.32->schema-automator==0.5.1->cas-tools==0.0.1.dev47) (3.0.0)\n",
      "Requirement already satisfied: fqdn in ./venv/lib/python3.9/site-packages (from jsonschema[format]>=4.0.0->linkml==1.7.8->cas-tools==0.0.1.dev47) (1.5.1)\n",
      "Requirement already satisfied: isoduration in ./venv/lib/python3.9/site-packages (from jsonschema[format]>=4.0.0->linkml==1.7.8->cas-tools==0.0.1.dev47) (20.11.0)\n",
      "Requirement already satisfied: rfc3339-validator in ./venv/lib/python3.9/site-packages (from jsonschema[format]>=4.0.0->linkml==1.7.8->cas-tools==0.0.1.dev47) (0.1.4)\n",
      "Requirement already satisfied: uri-template in ./venv/lib/python3.9/site-packages (from jsonschema[format]>=4.0.0->linkml==1.7.8->cas-tools==0.0.1.dev47) (1.3.0)\n",
      "Requirement already satisfied: webcolors>=1.11 in ./venv/lib/python3.9/site-packages (from jsonschema[format]>=4.0.0->linkml==1.7.8->cas-tools==0.0.1.dev47) (24.6.0)\n",
      "Requirement already satisfied: lark>=1.1.2 in ./venv/lib/python3.9/site-packages (from kgcl-schema<0.7.0,>=0.6.8->oaklib==0.6.4->cas-tools==0.0.1.dev47) (1.1.9)\n",
      "Requirement already satisfied: deprecated in ./venv/lib/python3.9/site-packages (from linkml-runtime>=1.7.4->linkml==1.7.8->cas-tools==0.0.1.dev47) (1.2.14)\n",
      "Requirement already satisfied: json-flattener>=0.1.9 in ./venv/lib/python3.9/site-packages (from linkml-runtime>=1.7.4->linkml==1.7.8->cas-tools==0.0.1.dev47) (0.1.9)\n",
      "Requirement already satisfied: ghp-import>=1.0 in ./venv/lib/python3.9/site-packages (from mkdocs>=1.2.3->schema-automator==0.5.1->cas-tools==0.0.1.dev47) (2.1.0)\n",
      "Requirement already satisfied: markdown>=3.3.6 in ./venv/lib/python3.9/site-packages (from mkdocs>=1.2.3->schema-automator==0.5.1->cas-tools==0.0.1.dev47) (3.6)\n",
      "Requirement already satisfied: mergedeep>=1.3.4 in ./venv/lib/python3.9/site-packages (from mkdocs>=1.2.3->schema-automator==0.5.1->cas-tools==0.0.1.dev47) (1.3.4)\n",
      "Requirement already satisfied: mkdocs-get-deps>=0.2.0 in ./venv/lib/python3.9/site-packages (from mkdocs>=1.2.3->schema-automator==0.5.1->cas-tools==0.0.1.dev47) (0.2.0)\n",
      "Requirement already satisfied: pathspec>=0.11.1 in ./venv/lib/python3.9/site-packages (from mkdocs>=1.2.3->schema-automator==0.5.1->cas-tools==0.0.1.dev47) (0.12.1)\n",
      "Requirement already satisfied: pyyaml-env-tag>=0.1 in ./venv/lib/python3.9/site-packages (from mkdocs>=1.2.3->schema-automator==0.5.1->cas-tools==0.0.1.dev47) (0.1)\n",
      "Requirement already satisfied: ijson in ./venv/lib/python3.9/site-packages (from ndex2<4.0.0,>=3.5.0->oaklib==0.6.4->cas-tools==0.0.1.dev47) (3.3.0)\n",
      "Requirement already satisfied: requests-toolbelt in ./venv/lib/python3.9/site-packages (from ndex2<4.0.0,>=3.5.0->oaklib==0.6.4->cas-tools==0.0.1.dev47) (1.0.0)\n",
      "Requirement already satisfied: more-click in ./venv/lib/python3.9/site-packages (from ols-client>=0.1.1->oaklib==0.6.4->cas-tools==0.0.1.dev47) (0.1.2)\n",
      "Requirement already satisfied: multimethod<=1.10.0 in ./venv/lib/python3.9/site-packages (from pandera>=0.12.0->schema-automator==0.5.1->cas-tools==0.0.1.dev47) (1.10)\n",
      "Requirement already satisfied: wrapt in ./venv/lib/python3.9/site-packages (from pandera>=0.12.0->schema-automator==0.5.1->cas-tools==0.0.1.dev47) (1.16.0)\n",
      "Requirement already satisfied: pytest-logging<2016.0.0,>=2015.11.4 in ./venv/lib/python3.9/site-packages (from prefixcommons>=0.1.7->linkml==1.7.8->cas-tools==0.0.1.dev47) (2015.11.4)\n",
      "Requirement already satisfied: chardet~=5.0 in ./venv/lib/python3.9/site-packages (from pronto>=2.5.0->oaklib==0.6.4->cas-tools==0.0.1.dev47) (5.2.0)\n",
      "Requirement already satisfied: fastobo~=0.12.2 in ./venv/lib/python3.9/site-packages (from pronto>=2.5.0->oaklib==0.6.4->cas-tools==0.0.1.dev47) (0.12.3)\n",
      "Requirement already satisfied: annotated-types>=0.4.0 in ./venv/lib/python3.9/site-packages (from pydantic<3.0.0,>=1.0.0->linkml==1.7.8->cas-tools==0.0.1.dev47) (0.7.0)\n",
      "Requirement already satisfied: pydantic-core==2.18.4 in ./venv/lib/python3.9/site-packages (from pydantic<3.0.0,>=1.0.0->linkml==1.7.8->cas-tools==0.0.1.dev47) (2.18.4)\n",
      "Requirement already satisfied: cfgraph>=0.2.1 in ./venv/lib/python3.9/site-packages (from pyshex>=0.7.20->linkml==1.7.8->cas-tools==0.0.1.dev47) (0.2.1)\n",
      "Requirement already satisfied: shexjsg>=0.8.2 in ./venv/lib/python3.9/site-packages (from pyshex>=0.7.20->linkml==1.7.8->cas-tools==0.0.1.dev47) (0.8.2)\n",
      "Requirement already satisfied: sparqlslurper>=0.5.1 in ./venv/lib/python3.9/site-packages (from pyshex>=0.7.20->linkml==1.7.8->cas-tools==0.0.1.dev47) (0.5.1)\n",
      "Requirement already satisfied: tqdm in ./venv/lib/python3.9/site-packages (from pystow>=0.5.0->oaklib==0.6.4->cas-tools==0.0.1.dev47) (4.66.4)\n",
      "Requirement already satisfied: num2words in ./venv/lib/python3.9/site-packages (from quantulum3>=0.7.9->schema-automator==0.5.1->cas-tools==0.0.1.dev47) (0.5.13)\n",
      "Requirement already satisfied: cattrs>=22.2 in ./venv/lib/python3.9/site-packages (from requests-cache<2.0.0,>=1.0.1->oaklib==0.6.4->cas-tools==0.0.1.dev47) (23.2.3)\n",
      "Requirement already satisfied: platformdirs>=2.5 in ./venv/lib/python3.9/site-packages (from requests-cache<2.0.0,>=1.0.1->oaklib==0.6.4->cas-tools==0.0.1.dev47) (4.2.2)\n",
      "Requirement already satisfied: url-normalize>=1.4 in ./venv/lib/python3.9/site-packages (from requests-cache<2.0.0,>=1.0.1->oaklib==0.6.4->cas-tools==0.0.1.dev47) (1.4.3)\n",
      "Requirement already satisfied: aiobotocore<3.0.0,>=2.5.4 in ./venv/lib/python3.9/site-packages (from s3fs>=2021.06.1->cellxgene-census==1.10.2->cas-tools==0.0.1.dev47) (2.13.0)\n",
      "Requirement already satisfied: fsspec==2024.6.0.* in ./venv/lib/python3.9/site-packages (from s3fs>=2021.06.1->cellxgene-census==1.10.2->cas-tools==0.0.1.dev47) (2024.6.0)\n",
      "Requirement already satisfied: aiohttp!=4.0.0a0,!=4.0.0a1 in ./venv/lib/python3.9/site-packages (from s3fs>=2021.06.1->cellxgene-census==1.10.2->cas-tools==0.0.1.dev47) (3.9.5)\n",
      "Requirement already satisfied: bioregistry>0.5.0 in ./venv/lib/python3.9/site-packages (from schemasheets>=0.1.24->schema-automator==0.5.1->cas-tools==0.0.1.dev47) (0.11.10)\n",
      "Requirement already satisfied: ontodev-cogs<0.4.0,>=0.3.3 in ./venv/lib/python3.9/site-packages (from schemasheets>=0.1.24->schema-automator==0.5.1->cas-tools==0.0.1.dev47) (0.3.3)\n",
      "Requirement already satisfied: SQLAlchemy-Utils<0.39.0,>=0.38.2 in ./venv/lib/python3.9/site-packages (from semsql>=0.3.1->oaklib==0.6.4->cas-tools==0.0.1.dev47) (0.38.3)\n",
      "Requirement already satisfied: deprecation<3.0.0,>=2.1.0 in ./venv/lib/python3.9/site-packages (from sssom<0.5.0,>=0.4.4->oaklib==0.6.4->cas-tools==0.0.1.dev47) (2.1.0)\n",
      "Requirement already satisfied: importlib-resources<7.0.0,>=6.1.1 in ./venv/lib/python3.9/site-packages (from sssom<0.5.0,>=0.4.4->oaklib==0.6.4->cas-tools==0.0.1.dev47) (6.4.0)\n",
      "Requirement already satisfied: pansql>=0.0.1 in ./venv/lib/python3.9/site-packages (from pansql[pansql]>=0.0.1->sssom<0.5.0,>=0.4.4->oaklib==0.6.4->cas-tools==0.0.1.dev47) (0.0.1)\n",
      "Requirement already satisfied: sssom-schema<0.16.0,>=0.15.2 in ./venv/lib/python3.9/site-packages (from sssom<0.5.0,>=0.4.4->oaklib==0.6.4->cas-tools==0.0.1.dev47) (0.15.2)\n",
      "Requirement already satisfied: validators>=0.20.0 in ./venv/lib/python3.9/site-packages (from sssom<0.5.0,>=0.4.4->oaklib==0.6.4->cas-tools==0.0.1.dev47) (0.28.3)\n",
      "Requirement already satisfied: numba>=0.58.0 in ./venv/lib/python3.9/site-packages (from tiledbsoma~=1.7.0->cellxgene-census==1.10.2->cas-tools==0.0.1.dev47) (0.60.0)\n",
      "Requirement already satisfied: pyarrow-hotfix in ./venv/lib/python3.9/site-packages (from tiledbsoma~=1.7.0->cellxgene-census==1.10.2->cas-tools==0.0.1.dev47) (0.6)\n",
      "Requirement already satisfied: scanpy>=1.9.2 in ./venv/lib/python3.9/site-packages (from tiledbsoma~=1.7.0->cellxgene-census==1.10.2->cas-tools==0.0.1.dev47) (1.10.1)\n",
      "Requirement already satisfied: somacore==1.0.8 in ./venv/lib/python3.9/site-packages (from tiledbsoma~=1.7.0->cellxgene-census==1.10.2->cas-tools==0.0.1.dev47) (1.0.8)\n",
      "Requirement already satisfied: tiledb~=0.25.0 in ./venv/lib/python3.9/site-packages (from tiledbsoma~=1.7.0->cellxgene-census==1.10.2->cas-tools==0.0.1.dev47) (0.25.1)\n",
      "Requirement already satisfied: pyarrow<13.0.0,>=9.0.0 in ./venv/lib/python3.9/site-packages (from tiledbsoma~=1.7.0->cellxgene-census==1.10.2->cas-tools==0.0.1.dev47) (12.0.1)\n",
      "Requirement already satisfied: mypy-extensions>=0.3.0 in ./venv/lib/python3.9/site-packages (from typing-inspect<1,>=0.4.0->dataclasses-json==0.6.4->cas-tools==0.0.1.dev47) (1.0.0)\n",
      "Requirement already satisfied: jsonpath-ng in ./venv/lib/python3.9/site-packages (from linkml-dataops->linkml==1.7.8->cas-tools==0.0.1.dev47) (1.6.1)\n",
      "Requirement already satisfied: botocore<1.34.107,>=1.34.70 in ./venv/lib/python3.9/site-packages (from aiobotocore<3.0.0,>=2.5.4->s3fs>=2021.06.1->cellxgene-census==1.10.2->cas-tools==0.0.1.dev47) (1.34.106)\n",
      "Requirement already satisfied: aioitertools<1.0.0,>=0.5.1 in ./venv/lib/python3.9/site-packages (from aiobotocore<3.0.0,>=2.5.4->s3fs>=2021.06.1->cellxgene-census==1.10.2->cas-tools==0.0.1.dev47) (0.11.0)\n",
      "Requirement already satisfied: aiosignal>=1.1.2 in ./venv/lib/python3.9/site-packages (from aiohttp!=4.0.0a0,!=4.0.0a1->s3fs>=2021.06.1->cellxgene-census==1.10.2->cas-tools==0.0.1.dev47) (1.3.1)\n",
      "Requirement already satisfied: frozenlist>=1.1.1 in ./venv/lib/python3.9/site-packages (from aiohttp!=4.0.0a0,!=4.0.0a1->s3fs>=2021.06.1->cellxgene-census==1.10.2->cas-tools==0.0.1.dev47) (1.4.1)\n",
      "Requirement already satisfied: multidict<7.0,>=4.5 in ./venv/lib/python3.9/site-packages (from aiohttp!=4.0.0a0,!=4.0.0a1->s3fs>=2021.06.1->cellxgene-census==1.10.2->cas-tools==0.0.1.dev47) (6.0.5)\n",
      "Requirement already satisfied: yarl<2.0,>=1.0 in ./venv/lib/python3.9/site-packages (from aiohttp!=4.0.0a0,!=4.0.0a1->s3fs>=2021.06.1->cellxgene-census==1.10.2->cas-tools==0.0.1.dev47) (1.9.4)\n",
      "Requirement already satisfied: async-timeout<5.0,>=4.0 in ./venv/lib/python3.9/site-packages (from aiohttp!=4.0.0a0,!=4.0.0a1->s3fs>=2021.06.1->cellxgene-census==1.10.2->cas-tools==0.0.1.dev47) (4.0.3)\n",
      "Requirement already satisfied: zipp>=0.5 in ./venv/lib/python3.9/site-packages (from importlib-metadata>3.6->class-resolver>=0.4.2->oaklib==0.6.4->cas-tools==0.0.1.dev47) (3.19.2)\n",
      "\u001b[33mWARNING: networkx 3.2.1 does not provide the extra 'networkx'\u001b[0m\u001b[33m\n",
      "\u001b[0mRequirement already satisfied: llvmlite<0.44,>=0.43.0dev0 in ./venv/lib/python3.9/site-packages (from numba>=0.58.0->tiledbsoma~=1.7.0->cellxgene-census==1.10.2->cas-tools==0.0.1.dev47) (0.43.0)\n",
      "Requirement already satisfied: daff in ./venv/lib/python3.9/site-packages (from ontodev-cogs<0.4.0,>=0.3.3->schemasheets>=0.1.24->schema-automator==0.5.1->cas-tools==0.0.1.dev47) (1.3.46)\n",
      "Requirement already satisfied: google in ./venv/lib/python3.9/site-packages (from ontodev-cogs<0.4.0,>=0.3.3->schemasheets>=0.1.24->schema-automator==0.5.1->cas-tools==0.0.1.dev47) (3.0.0)\n",
      "Requirement already satisfied: google-api-python-client in ./venv/lib/python3.9/site-packages (from ontodev-cogs<0.4.0,>=0.3.3->schemasheets>=0.1.24->schema-automator==0.5.1->cas-tools==0.0.1.dev47) (2.134.0)\n",
      "Requirement already satisfied: gspread in ./venv/lib/python3.9/site-packages (from ontodev-cogs<0.4.0,>=0.3.3->schemasheets>=0.1.24->schema-automator==0.5.1->cas-tools==0.0.1.dev47) (6.1.2)\n",
      "Requirement already satisfied: gspread-formatting in ./venv/lib/python3.9/site-packages (from ontodev-cogs<0.4.0,>=0.3.3->schemasheets>=0.1.24->schema-automator==0.5.1->cas-tools==0.0.1.dev47) (1.2.0)\n",
      "Requirement already satisfied: tabulate in ./venv/lib/python3.9/site-packages (from ontodev-cogs<0.4.0,>=0.3.3->schemasheets>=0.1.24->schema-automator==0.5.1->cas-tools==0.0.1.dev47) (0.9.0)\n",
      "Requirement already satisfied: termcolor in ./venv/lib/python3.9/site-packages (from ontodev-cogs<0.4.0,>=0.3.3->schemasheets>=0.1.24->schema-automator==0.5.1->cas-tools==0.0.1.dev47) (2.4.0)\n",
      "\u001b[33mWARNING: pansql 0.0.1 does not provide the extra 'pansql'\u001b[0m\u001b[33m\n",
      "\u001b[0mRequirement already satisfied: pytest>=2.8.1 in ./venv/lib/python3.9/site-packages (from pytest-logging<2016.0.0,>=2015.11.4->prefixcommons>=0.1.7->linkml==1.7.8->cas-tools==0.0.1.dev47) (8.2.2)\n",
      "Requirement already satisfied: get-annotations in ./venv/lib/python3.9/site-packages (from scanpy>=1.9.2->tiledbsoma~=1.7.0->cellxgene-census==1.10.2->cas-tools==0.0.1.dev47) (0.1.2)\n",
      "Requirement already satisfied: joblib in ./venv/lib/python3.9/site-packages (from scanpy>=1.9.2->tiledbsoma~=1.7.0->cellxgene-census==1.10.2->cas-tools==0.0.1.dev47) (1.4.2)\n",
      "Requirement already satisfied: legacy-api-wrap>=1.4 in ./venv/lib/python3.9/site-packages (from scanpy>=1.9.2->tiledbsoma~=1.7.0->cellxgene-census==1.10.2->cas-tools==0.0.1.dev47) (1.4)\n",
      "Requirement already satisfied: matplotlib>=3.6 in ./venv/lib/python3.9/site-packages (from scanpy>=1.9.2->tiledbsoma~=1.7.0->cellxgene-census==1.10.2->cas-tools==0.0.1.dev47) (3.9.0)\n",
      "Requirement already satisfied: patsy in ./venv/lib/python3.9/site-packages (from scanpy>=1.9.2->tiledbsoma~=1.7.0->cellxgene-census==1.10.2->cas-tools==0.0.1.dev47) (0.5.6)\n",
      "Requirement already satisfied: pynndescent>=0.5 in ./venv/lib/python3.9/site-packages (from scanpy>=1.9.2->tiledbsoma~=1.7.0->cellxgene-census==1.10.2->cas-tools==0.0.1.dev47) (0.5.13)\n",
      "Requirement already satisfied: scikit-learn>=0.24 in ./venv/lib/python3.9/site-packages (from scanpy>=1.9.2->tiledbsoma~=1.7.0->cellxgene-census==1.10.2->cas-tools==0.0.1.dev47) (1.5.0)\n",
      "Requirement already satisfied: seaborn>=0.13 in ./venv/lib/python3.9/site-packages (from scanpy>=1.9.2->tiledbsoma~=1.7.0->cellxgene-census==1.10.2->cas-tools==0.0.1.dev47) (0.13.2)\n",
      "Requirement already satisfied: session-info in ./venv/lib/python3.9/site-packages (from scanpy>=1.9.2->tiledbsoma~=1.7.0->cellxgene-census==1.10.2->cas-tools==0.0.1.dev47) (1.0.0)\n",
      "Requirement already satisfied: statsmodels>=0.13 in ./venv/lib/python3.9/site-packages (from scanpy>=1.9.2->tiledbsoma~=1.7.0->cellxgene-census==1.10.2->cas-tools==0.0.1.dev47) (0.14.2)\n",
      "Requirement already satisfied: umap-learn!=0.5.0,>=0.5 in ./venv/lib/python3.9/site-packages (from scanpy>=1.9.2->tiledbsoma~=1.7.0->cellxgene-census==1.10.2->cas-tools==0.0.1.dev47) (0.5.6)\n",
      "Requirement already satisfied: arrow>=0.15.0 in ./venv/lib/python3.9/site-packages (from isoduration->jsonschema[format]>=4.0.0->linkml==1.7.8->cas-tools==0.0.1.dev47) (1.3.0)\n",
      "Requirement already satisfied: ply in ./venv/lib/python3.9/site-packages (from jsonpath-ng->linkml-dataops->linkml==1.7.8->cas-tools==0.0.1.dev47) (3.11)\n",
      "Requirement already satisfied: docopt>=0.6.2 in ./venv/lib/python3.9/site-packages (from num2words->quantulum3>=0.7.9->schema-automator==0.5.1->cas-tools==0.0.1.dev47) (0.6.2)\n",
      "Requirement already satisfied: sortedcontainers in ./venv/lib/python3.9/site-packages (from pytrie->curies>=0.6.6->oaklib==0.6.4->cas-tools==0.0.1.dev47) (2.4.0)\n",
      "Requirement already satisfied: rdflib-jsonld==0.6.1 in ./venv/lib/python3.9/site-packages (from rdflib-shim->funowl>=0.2.0->oaklib==0.6.4->cas-tools==0.0.1.dev47) (0.6.1)\n",
      "\u001b[33mWARNING: scipy 1.13.1 does not provide the extra 'scipy'\u001b[0m\u001b[33m\n",
      "\u001b[0mRequirement already satisfied: types-python-dateutil>=2.8.10 in ./venv/lib/python3.9/site-packages (from arrow>=0.15.0->isoduration->jsonschema[format]>=4.0.0->linkml==1.7.8->cas-tools==0.0.1.dev47) (2.9.0.20240316)\n",
      "Requirement already satisfied: jmespath<2.0.0,>=0.7.1 in ./venv/lib/python3.9/site-packages (from botocore<1.34.107,>=1.34.70->aiobotocore<3.0.0,>=2.5.4->s3fs>=2021.06.1->cellxgene-census==1.10.2->cas-tools==0.0.1.dev47) (1.0.1)\n",
      "Requirement already satisfied: contourpy>=1.0.1 in ./venv/lib/python3.9/site-packages (from matplotlib>=3.6->scanpy>=1.9.2->tiledbsoma~=1.7.0->cellxgene-census==1.10.2->cas-tools==0.0.1.dev47) (1.2.1)\n",
      "Requirement already satisfied: cycler>=0.10 in ./venv/lib/python3.9/site-packages (from matplotlib>=3.6->scanpy>=1.9.2->tiledbsoma~=1.7.0->cellxgene-census==1.10.2->cas-tools==0.0.1.dev47) (0.12.1)\n",
      "Requirement already satisfied: fonttools>=4.22.0 in ./venv/lib/python3.9/site-packages (from matplotlib>=3.6->scanpy>=1.9.2->tiledbsoma~=1.7.0->cellxgene-census==1.10.2->cas-tools==0.0.1.dev47) (4.53.0)\n",
      "Requirement already satisfied: kiwisolver>=1.3.1 in ./venv/lib/python3.9/site-packages (from matplotlib>=3.6->scanpy>=1.9.2->tiledbsoma~=1.7.0->cellxgene-census==1.10.2->cas-tools==0.0.1.dev47) (1.4.5)\n",
      "Requirement already satisfied: pillow>=8 in ./venv/lib/python3.9/site-packages (from matplotlib>=3.6->scanpy>=1.9.2->tiledbsoma~=1.7.0->cellxgene-census==1.10.2->cas-tools==0.0.1.dev47) (10.3.0)\n",
      "Requirement already satisfied: iniconfig in ./venv/lib/python3.9/site-packages (from pytest>=2.8.1->pytest-logging<2016.0.0,>=2015.11.4->prefixcommons>=0.1.7->linkml==1.7.8->cas-tools==0.0.1.dev47) (2.0.0)\n",
      "Requirement already satisfied: pluggy<2.0,>=1.5 in ./venv/lib/python3.9/site-packages (from pytest>=2.8.1->pytest-logging<2016.0.0,>=2015.11.4->prefixcommons>=0.1.7->linkml==1.7.8->cas-tools==0.0.1.dev47) (1.5.0)\n",
      "Requirement already satisfied: tomli>=1 in ./venv/lib/python3.9/site-packages (from pytest>=2.8.1->pytest-logging<2016.0.0,>=2015.11.4->prefixcommons>=0.1.7->linkml==1.7.8->cas-tools==0.0.1.dev47) (2.0.1)\n",
      "Requirement already satisfied: threadpoolctl>=3.1.0 in ./venv/lib/python3.9/site-packages (from scikit-learn>=0.24->scanpy>=1.9.2->tiledbsoma~=1.7.0->cellxgene-census==1.10.2->cas-tools==0.0.1.dev47) (3.5.0)\n",
      "Requirement already satisfied: beautifulsoup4 in ./venv/lib/python3.9/site-packages (from google->ontodev-cogs<0.4.0,>=0.3.3->schemasheets>=0.1.24->schema-automator==0.5.1->cas-tools==0.0.1.dev47) (4.12.3)\n",
      "Requirement already satisfied: httplib2<1.dev0,>=0.19.0 in ./venv/lib/python3.9/site-packages (from google-api-python-client->ontodev-cogs<0.4.0,>=0.3.3->schemasheets>=0.1.24->schema-automator==0.5.1->cas-tools==0.0.1.dev47) (0.22.0)\n",
      "Requirement already satisfied: google-auth!=2.24.0,!=2.25.0,<3.0.0.dev0,>=1.32.0 in ./venv/lib/python3.9/site-packages (from google-api-python-client->ontodev-cogs<0.4.0,>=0.3.3->schemasheets>=0.1.24->schema-automator==0.5.1->cas-tools==0.0.1.dev47) (2.30.0)\n",
      "Requirement already satisfied: google-auth-httplib2<1.0.0,>=0.2.0 in ./venv/lib/python3.9/site-packages (from google-api-python-client->ontodev-cogs<0.4.0,>=0.3.3->schemasheets>=0.1.24->schema-automator==0.5.1->cas-tools==0.0.1.dev47) (0.2.0)\n",
      "Requirement already satisfied: google-api-core!=2.0.*,!=2.1.*,!=2.2.*,!=2.3.0,<3.0.0.dev0,>=1.31.5 in ./venv/lib/python3.9/site-packages (from google-api-python-client->ontodev-cogs<0.4.0,>=0.3.3->schemasheets>=0.1.24->schema-automator==0.5.1->cas-tools==0.0.1.dev47) (2.19.0)\n",
      "Requirement already satisfied: uritemplate<5,>=3.0.1 in ./venv/lib/python3.9/site-packages (from google-api-python-client->ontodev-cogs<0.4.0,>=0.3.3->schemasheets>=0.1.24->schema-automator==0.5.1->cas-tools==0.0.1.dev47) (4.1.1)\n",
      "Requirement already satisfied: google-auth-oauthlib>=0.4.1 in ./venv/lib/python3.9/site-packages (from gspread->ontodev-cogs<0.4.0,>=0.3.3->schemasheets>=0.1.24->schema-automator==0.5.1->cas-tools==0.0.1.dev47) (1.2.0)\n",
      "Requirement already satisfied: stdlib-list in ./venv/lib/python3.9/site-packages (from session-info->scanpy>=1.9.2->tiledbsoma~=1.7.0->cellxgene-census==1.10.2->cas-tools==0.0.1.dev47) (0.10.0)\n",
      "Requirement already satisfied: googleapis-common-protos<2.0.dev0,>=1.56.2 in ./venv/lib/python3.9/site-packages (from google-api-core!=2.0.*,!=2.1.*,!=2.2.*,!=2.3.0,<3.0.0.dev0,>=1.31.5->google-api-python-client->ontodev-cogs<0.4.0,>=0.3.3->schemasheets>=0.1.24->schema-automator==0.5.1->cas-tools==0.0.1.dev47) (1.63.1)\n",
      "Requirement already satisfied: protobuf!=3.20.0,!=3.20.1,!=4.21.0,!=4.21.1,!=4.21.2,!=4.21.3,!=4.21.4,!=4.21.5,<5.0.0.dev0,>=3.19.5 in ./venv/lib/python3.9/site-packages (from google-api-core!=2.0.*,!=2.1.*,!=2.2.*,!=2.3.0,<3.0.0.dev0,>=1.31.5->google-api-python-client->ontodev-cogs<0.4.0,>=0.3.3->schemasheets>=0.1.24->schema-automator==0.5.1->cas-tools==0.0.1.dev47) (4.25.3)\n",
      "Requirement already satisfied: proto-plus<2.0.0dev,>=1.22.3 in ./venv/lib/python3.9/site-packages (from google-api-core!=2.0.*,!=2.1.*,!=2.2.*,!=2.3.0,<3.0.0.dev0,>=1.31.5->google-api-python-client->ontodev-cogs<0.4.0,>=0.3.3->schemasheets>=0.1.24->schema-automator==0.5.1->cas-tools==0.0.1.dev47) (1.24.0)\n",
      "Requirement already satisfied: cachetools<6.0,>=2.0.0 in ./venv/lib/python3.9/site-packages (from google-auth!=2.24.0,!=2.25.0,<3.0.0.dev0,>=1.32.0->google-api-python-client->ontodev-cogs<0.4.0,>=0.3.3->schemasheets>=0.1.24->schema-automator==0.5.1->cas-tools==0.0.1.dev47) (5.3.3)\n",
      "Requirement already satisfied: pyasn1-modules>=0.2.1 in ./venv/lib/python3.9/site-packages (from google-auth!=2.24.0,!=2.25.0,<3.0.0.dev0,>=1.32.0->google-api-python-client->ontodev-cogs<0.4.0,>=0.3.3->schemasheets>=0.1.24->schema-automator==0.5.1->cas-tools==0.0.1.dev47) (0.4.0)\n",
      "Requirement already satisfied: rsa<5,>=3.1.4 in ./venv/lib/python3.9/site-packages (from google-auth!=2.24.0,!=2.25.0,<3.0.0.dev0,>=1.32.0->google-api-python-client->ontodev-cogs<0.4.0,>=0.3.3->schemasheets>=0.1.24->schema-automator==0.5.1->cas-tools==0.0.1.dev47) (4.9)\n",
      "Requirement already satisfied: requests-oauthlib>=0.7.0 in ./venv/lib/python3.9/site-packages (from google-auth-oauthlib>=0.4.1->gspread->ontodev-cogs<0.4.0,>=0.3.3->schemasheets>=0.1.24->schema-automator==0.5.1->cas-tools==0.0.1.dev47) (2.0.0)\n",
      "Requirement already satisfied: soupsieve>1.2 in ./venv/lib/python3.9/site-packages (from beautifulsoup4->google->ontodev-cogs<0.4.0,>=0.3.3->schemasheets>=0.1.24->schema-automator==0.5.1->cas-tools==0.0.1.dev47) (2.5)\n",
      "Requirement already satisfied: pyasn1<0.7.0,>=0.4.6 in ./venv/lib/python3.9/site-packages (from pyasn1-modules>=0.2.1->google-auth!=2.24.0,!=2.25.0,<3.0.0.dev0,>=1.32.0->google-api-python-client->ontodev-cogs<0.4.0,>=0.3.3->schemasheets>=0.1.24->schema-automator==0.5.1->cas-tools==0.0.1.dev47) (0.6.0)\n",
      "Requirement already satisfied: oauthlib>=3.0.0 in ./venv/lib/python3.9/site-packages (from requests-oauthlib>=0.7.0->google-auth-oauthlib>=0.4.1->gspread->ontodev-cogs<0.4.0,>=0.3.3->schemasheets>=0.1.24->schema-automator==0.5.1->cas-tools==0.0.1.dev47) (3.2.2)\n",
      "\n",
      "\u001b[1m[\u001b[0m\u001b[34;49mnotice\u001b[0m\u001b[1;39;49m]\u001b[0m\u001b[39;49m A new release of pip is available: \u001b[0m\u001b[31;49m24.1\u001b[0m\u001b[39;49m -> \u001b[0m\u001b[32;49m24.1.1\u001b[0m\n",
      "\u001b[1m[\u001b[0m\u001b[34;49mnotice\u001b[0m\u001b[1;39;49m]\u001b[0m\u001b[39;49m To update, run: \u001b[0m\u001b[32;49m/Users/aa37/Documents/GitHub/siletti_hacking/venv/bin/python3 -m pip install --upgrade pip\u001b[0m\n"
     ]
    }
   ],
   "source": [
    "# Install pip packages\n",
    "import sys\n",
    "!{sys.executable} -m pip install pandas\n",
    "!{sys.executable} -m pip install cas-tools==0.0.1.dev47"
   ]
  },
  {
   "cell_type": "code",
   "execution_count": 8,
   "id": "e6de0937-d7ae-4509-be36-02866d2ceb69",
   "metadata": {},
   "outputs": [],
   "source": [
    "# convert Anndata files to cas\n",
    "\n",
    "#cas anndata2cas --anndata Anndata_source/Siletti_all_neurons.h5ad --labelsets subcluster_id --output intermediatte_files/Siletti_subclusters_neurons.json"
   ]
  },
  {
   "cell_type": "code",
   "execution_count": 9,
   "id": "e33c5773-b79a-4034-b4c1-707f2029979c",
   "metadata": {},
   "outputs": [],
   "source": [
    "#%%bash\n",
    "\n",
    "# convert Silletti in ABC to cas\n",
    "#cas abc2cas --catset ABC_source/cluster_annotation_term_set.csv --cat ABC_source/cluster_annotation_term.csv --output intermediatte_files/Siletti_from_abc.json"
   ]
  },
  {
   "cell_type": "code",
   "execution_count": 40,
   "id": "7bc60e86-c25e-4783-9462-9721198a6353",
   "metadata": {},
   "outputs": [],
   "source": [
    "import json\n",
    "\n",
    "#  Open files\n",
    "\n",
    "with open('./intermediatte_files/Siletti_from_abc.json', 'r') as f:\n",
    "    Siletti_abc_cas = json.loads(f.read())\n",
    "\n",
    "with open('./cas_source/CS202210140_non_neuronal.json', 'r') as f:\n",
    "    nn = json.loads(f.read())\n",
    "with open('./cas_source/CS202210140_neurons.json', 'r') as f:\n",
    "    neurons = json.loads(f.read())\n",
    "\n",
    "#Generate lookups for accessions for nn and neuron clusters respectively\n",
    "neuron_clusters = { a['cell_set_accession'] for a in neurons['annotations'] \n",
    "                    if a['labelset'] == 'Cluster'}\n",
    "nn_clusters = { a['cell_set_accession'] for a in nn['annotations'] \n",
    "                    if a['labelset'] == 'Cluster'}\n",
    "\n",
    "# Make lists of subclusters from ABC that have a parent cluster in nn & neurons respectively\n",
    "nn_subclusters = [a for a in Siletti_abc_cas['annotations']\n",
    "                  if (a['labelset'] == 'subcluster') \n",
    "                  and (a['parent_cell_set_accession'] in nn_clusters)]\n",
    "neuron_subclusters = [a for a in Siletti_abc_cas['annotations']\n",
    "                  if (a['labelset'] == 'subcluster') \n",
    "                  and (a['parent_cell_set_accession'] in neuron_clusters)]\n",
    "\n",
    "# Merge in subclusters\n",
    "\n",
    "nn['annotations'].extend(nn_subclusters)\n",
    "neurons['annotations'].extend(neuron_subclusters)"
   ]
  },
  {
   "cell_type": "code",
   "execution_count": 11,
   "id": "96cd1e73-04d4-42f7-afb3-f5c31f95288a",
   "metadata": {},
   "outputs": [],
   "source": [
    "#Commenting as depends on path to anndata file - not stored in repo\n",
    "#%%bash\n",
    "# Generate file of CAS files from subclusters in Siletti anndata files\n",
    "#cas anndata2cas --anndata Siletti_all_non_neuronal_cells.h5ad --labelsets subcluster_id --output intermediatte_files/Siletti_subclusters_from_anndata_cas.json\n"
   ]
  },
  {
   "cell_type": "code",
   "execution_count": 41,
   "id": "4c2dbd92-246d-43bb-9eea-b05371fb6604",
   "metadata": {},
   "outputs": [],
   "source": [
    "# Generate lookup for subcluster cell_ids, keyed on subclusters_id\n",
    "\n",
    "# Open files\n",
    "import json\n",
    "with open('./intermediatte_files/Siletti_subclusters_from_anndata_cas.json', 'r') as f:\n",
    "    Siletti_subclusters_from_ad = json.loads(f.read())\n",
    "\n",
    "subcluster_cell_id_lookup = { a['cell_label'] : a['cell_ids'] for a in Siletti_subclusters_from_ad['annotations']}"
   ]
  },
  {
   "cell_type": "code",
   "execution_count": 42,
   "id": "63f44288-b5fa-4039-b990-19998cb30d6c",
   "metadata": {},
   "outputs": [
    {
     "data": {
      "text/plain": [
       "297"
      ]
     },
     "execution_count": 42,
     "metadata": {},
     "output_type": "execute_result"
    }
   ],
   "source": [
    "# Check number of matches on both sides\n",
    "len(subcluster_cell_id_lookup.keys())"
   ]
  },
  {
   "cell_type": "code",
   "execution_count": 43,
   "id": "9a7cba90-4e7a-4605-aaf2-5b8a3271a84f",
   "metadata": {},
   "outputs": [
    {
     "data": {
      "text/plain": [
       "297"
      ]
     },
     "execution_count": 43,
     "metadata": {},
     "output_type": "execute_result"
    }
   ],
   "source": [
    "len(Siletti_subclusters_from_ad['annotations'])\n"
   ]
  },
  {
   "cell_type": "code",
   "execution_count": 44,
   "id": "984babcc-fdad-4292-9337-6d4f940f92c4",
   "metadata": {},
   "outputs": [
    {
     "data": {
      "text/plain": [
       "297"
      ]
     },
     "execution_count": 44,
     "metadata": {},
     "output_type": "execute_result"
    }
   ],
   "source": [
    "len(nn_subclusters)\n"
   ]
  },
  {
   "cell_type": "code",
   "execution_count": 45,
   "id": "ddeef193-bf7d-42fb-97f3-da513d8ae1f7",
   "metadata": {},
   "outputs": [
    {
     "data": {
      "text/plain": [
       "{'labelset': 'subcluster',\n",
       " 'cell_label': 'Oligo_50_2996',\n",
       " 'cell_set_accession': 'CS202210140_3490',\n",
       " 'parent_cell_set_accession': 'CS202210140_51'}"
      ]
     },
     "execution_count": 45,
     "metadata": {},
     "output_type": "execute_result"
    }
   ],
   "source": [
    "nn_subclusters[0]"
   ]
  },
  {
   "cell_type": "code",
   "execution_count": 46,
   "id": "88f36ce7-26b3-48c9-a045-aa0fe8f522e1",
   "metadata": {},
   "outputs": [
    {
     "data": {
      "text/plain": [
       "'2996'"
      ]
     },
     "execution_count": 46,
     "metadata": {},
     "output_type": "execute_result"
    }
   ],
   "source": [
    "import re\n",
    "# Testing regex pattern\n",
    "m = re.match('.+_(\\d+)', 'Oligo_50_2996')\n",
    "m.group(1)"
   ]
  },
  {
   "cell_type": "code",
   "execution_count": 47,
   "id": "d2dfaa2e-0a8b-4e4a-9491-a8c11d5856e3",
   "metadata": {},
   "outputs": [
    {
     "data": {
      "text/plain": [
       "'2996'"
      ]
     },
     "execution_count": 47,
     "metadata": {},
     "output_type": "execute_result"
    }
   ],
   "source": [
    "m.group(1)"
   ]
  },
  {
   "cell_type": "code",
   "execution_count": 48,
   "id": "41d4f31e-3466-4c93-9c78-297b5b4f3adf",
   "metadata": {},
   "outputs": [],
   "source": [
    "# Use regex matching ID -> label to attach cell_ids to subclusters\n",
    "for c in nn_subclusters:\n",
    "    m = re.match('.+_(\\d+)', c['cell_label'])\n",
    "    if int(m.group(1)) in subcluster_cell_id_lookup.keys():\n",
    "        c['cell_ids'] = subcluster_cell_id_lookup[int(m.group(1))]"
   ]
  },
  {
   "cell_type": "code",
   "execution_count": 49,
   "id": "4861cbb6-a284-4836-9e79-d7d37c921708",
   "metadata": {},
   "outputs": [
    {
     "data": {
      "text/plain": [
       "['10X362_3:TCAGTGAGTATTGACC',\n",
       " '10X362_5:TCCGTGTGTGAAAGTT',\n",
       " '10X362_5:CACGGGTAGAGCAGAA',\n",
       " '10X362_6:AGGACTTGTATCCTTT',\n",
       " '10X362_6:GCATTAGGTTGGACCC']"
      ]
     },
     "execution_count": 49,
     "metadata": {},
     "output_type": "execute_result"
    }
   ],
   "source": [
    "# Test addition cell_Ids has worked\n",
    "nn_subclusters[0]['cell_ids'][0:5]"
   ]
  },
  {
   "cell_type": "code",
   "execution_count": 50,
   "id": "75b243f7-950b-4a51-a03d-3ca65eb055f8",
   "metadata": {},
   "outputs": [],
   "source": [
    "import pandas as pd"
   ]
  },
  {
   "cell_type": "code",
   "execution_count": 51,
   "id": "b61fa1e1-dfee-41f8-afe9-552750355dbf",
   "metadata": {},
   "outputs": [],
   "source": [
    "AT = pd.read_csv('./Annotation_transfer/Clusters_AT_from_MTG.tsv', sep='\\t')\n"
   ]
  },
  {
   "cell_type": "code",
   "execution_count": 52,
   "id": "f828ab94-4229-4338-9dbc-719f8c32faed",
   "metadata": {
    "scrolled": true
   },
   "outputs": [
    {
     "data": {
      "text/html": [
       "<div>\n",
       "<style scoped>\n",
       "    .dataframe tbody tr th:only-of-type {\n",
       "        vertical-align: middle;\n",
       "    }\n",
       "\n",
       "    .dataframe tbody tr th {\n",
       "        vertical-align: top;\n",
       "    }\n",
       "\n",
       "    .dataframe thead th {\n",
       "        text-align: right;\n",
       "    }\n",
       "</style>\n",
       "<table border=\"1\" class=\"dataframe\">\n",
       "  <thead>\n",
       "    <tr style=\"text-align: right;\">\n",
       "      <th></th>\n",
       "      <th>cell_set_accession</th>\n",
       "      <th>cell_label</th>\n",
       "      <th>cell_fullname</th>\n",
       "      <th>parent_cell_set_accession</th>\n",
       "      <th>parent_cell_set_name</th>\n",
       "      <th>labelset</th>\n",
       "      <th>cell_ontology_term_id</th>\n",
       "      <th>cell_ontology_term</th>\n",
       "      <th>rationale</th>\n",
       "      <th>rationale_dois</th>\n",
       "      <th>marker_gene_evidence</th>\n",
       "      <th>synonyms</th>\n",
       "    </tr>\n",
       "  </thead>\n",
       "  <tbody>\n",
       "    <tr>\n",
       "      <th>0</th>\n",
       "      <td>b15b444731</td>\n",
       "      <td>Vip_2</td>\n",
       "      <td>Vip_2</td>\n",
       "      <td>082c817b6f</td>\n",
       "      <td>Vip</td>\n",
       "      <td>CrossArea_cluster</td>\n",
       "      <td>CL:4023016</td>\n",
       "      <td>vip GABAergic cortical interneuron</td>\n",
       "      <td>NaN</td>\n",
       "      <td>NaN</td>\n",
       "      <td>NaN</td>\n",
       "      <td>NaN</td>\n",
       "    </tr>\n",
       "    <tr>\n",
       "      <th>1</th>\n",
       "      <td>83796aa6d9</td>\n",
       "      <td>Sst_11</td>\n",
       "      <td>Sst_11</td>\n",
       "      <td>8fa477a378</td>\n",
       "      <td>Sst</td>\n",
       "      <td>CrossArea_cluster</td>\n",
       "      <td>CL:4023017</td>\n",
       "      <td>sst GABAergic cortical interneuron</td>\n",
       "      <td>NaN</td>\n",
       "      <td>NaN</td>\n",
       "      <td>NaN</td>\n",
       "      <td>NaN</td>\n",
       "    </tr>\n",
       "    <tr>\n",
       "      <th>2</th>\n",
       "      <td>8c25f3eded</td>\n",
       "      <td>Sst_31</td>\n",
       "      <td>Sst_31</td>\n",
       "      <td>8fa477a378</td>\n",
       "      <td>Sst</td>\n",
       "      <td>CrossArea_cluster</td>\n",
       "      <td>CL:4023017</td>\n",
       "      <td>sst GABAergic cortical interneuron</td>\n",
       "      <td>NaN</td>\n",
       "      <td>NaN</td>\n",
       "      <td>NaN</td>\n",
       "      <td>NaN</td>\n",
       "    </tr>\n",
       "    <tr>\n",
       "      <th>3</th>\n",
       "      <td>319ad7ab6a</td>\n",
       "      <td>Sst_37</td>\n",
       "      <td>Sst_37</td>\n",
       "      <td>8fa477a378</td>\n",
       "      <td>Sst</td>\n",
       "      <td>CrossArea_cluster</td>\n",
       "      <td>CL:4023017</td>\n",
       "      <td>sst GABAergic cortical interneuron</td>\n",
       "      <td>NaN</td>\n",
       "      <td>NaN</td>\n",
       "      <td>NaN</td>\n",
       "      <td>NaN</td>\n",
       "    </tr>\n",
       "    <tr>\n",
       "      <th>4</th>\n",
       "      <td>51b6c3ddc3</td>\n",
       "      <td>L6 CT_3</td>\n",
       "      <td>L6 CT_3</td>\n",
       "      <td>d4ee4a2c4c</td>\n",
       "      <td>L6 CT</td>\n",
       "      <td>CrossArea_cluster</td>\n",
       "      <td>CL:4023013</td>\n",
       "      <td>corticothalamic-projecting glutamatergic corti...</td>\n",
       "      <td>NaN</td>\n",
       "      <td>NaN</td>\n",
       "      <td>NaN</td>\n",
       "      <td>NaN</td>\n",
       "    </tr>\n",
       "  </tbody>\n",
       "</table>\n",
       "</div>"
      ],
      "text/plain": [
       "  cell_set_accession cell_label cell_fullname parent_cell_set_accession  \\\n",
       "0         b15b444731      Vip_2         Vip_2                082c817b6f   \n",
       "1         83796aa6d9     Sst_11        Sst_11                8fa477a378   \n",
       "2         8c25f3eded     Sst_31        Sst_31                8fa477a378   \n",
       "3         319ad7ab6a     Sst_37        Sst_37                8fa477a378   \n",
       "4         51b6c3ddc3    L6 CT_3       L6 CT_3                d4ee4a2c4c   \n",
       "\n",
       "  parent_cell_set_name           labelset cell_ontology_term_id  \\\n",
       "0                  Vip  CrossArea_cluster            CL:4023016   \n",
       "1                  Sst  CrossArea_cluster            CL:4023017   \n",
       "2                  Sst  CrossArea_cluster            CL:4023017   \n",
       "3                  Sst  CrossArea_cluster            CL:4023017   \n",
       "4                L6 CT  CrossArea_cluster            CL:4023013   \n",
       "\n",
       "                                  cell_ontology_term  rationale  \\\n",
       "0                 vip GABAergic cortical interneuron        NaN   \n",
       "1                 sst GABAergic cortical interneuron        NaN   \n",
       "2                 sst GABAergic cortical interneuron        NaN   \n",
       "3                 sst GABAergic cortical interneuron        NaN   \n",
       "4  corticothalamic-projecting glutamatergic corti...        NaN   \n",
       "\n",
       "   rationale_dois  marker_gene_evidence  synonyms  \n",
       "0             NaN                   NaN       NaN  \n",
       "1             NaN                   NaN       NaN  \n",
       "2             NaN                   NaN       NaN  \n",
       "3             NaN                   NaN       NaN  \n",
       "4             NaN                   NaN       NaN  "
      ]
     },
     "execution_count": 52,
     "metadata": {},
     "output_type": "execute_result"
    }
   ],
   "source": [
    "MTG_annotations = pd.read_csv('./MTG_cas/CCN20240304_annotations.tsv', sep='\\t')\n",
    "MTG_annotations[0:5]"
   ]
  },
  {
   "cell_type": "code",
   "execution_count": 24,
   "id": "532b6d56-abff-4194-9613-667cfc0ddbd8",
   "metadata": {},
   "outputs": [],
   "source": [
    "# Aim \n",
    "# Look up transfered MTG names (in MT) in MTG cell_label var - MT - & link Siletti Cell label to MTG annotation object\n",
    "\n",
    "# 1. Make template for annotation transfer objects\n",
    "# 2. Iterate over annotatoin transfer labels, matching to cluster labels & using this to generate annotation transfer objects.\n",
    "# 3. Attach annotation transfer objects to annotatinons\n",
    "\n"
   ]
  },
  {
   "cell_type": "code",
   "execution_count": 53,
   "id": "22ad75c1-8a73-4740-bfa7-e9a43f98885e",
   "metadata": {},
   "outputs": [],
   "source": [
    "MTG_annotation_lookup = MTG_annotations.set_index(\"cell_label\").to_dict(orient='index')"
   ]
  },
  {
   "cell_type": "code",
   "execution_count": 54,
   "id": "6a32521d-f6a5-49de-bef5-9ecc2f8e8055",
   "metadata": {},
   "outputs": [
    {
     "data": {
      "text/plain": [
       "{'Astro',\n",
       " 'Chandelier',\n",
       " 'Endo',\n",
       " 'L2/3 IT',\n",
       " 'L4 IT',\n",
       " 'L5 IT',\n",
       " 'L5/6 NP',\n",
       " 'L6 CT',\n",
       " 'L6 IT',\n",
       " 'L6 IT Car3',\n",
       " 'L6b',\n",
       " 'Lamp5',\n",
       " 'Lamp5 Lhx6',\n",
       " 'OPC',\n",
       " 'Oligo',\n",
       " 'Pax6',\n",
       " 'Pvalb',\n",
       " 'Sncg',\n",
       " 'Sst',\n",
       " 'VLMC',\n",
       " 'Vip'}"
      ]
     },
     "execution_count": 54,
     "metadata": {},
     "output_type": "execute_result"
    }
   ],
   "source": [
    "# What matches?\n",
    "set(MTG_annotation_lookup.keys()).intersection(set(AT['Transferred MTG Label']))"
   ]
  },
  {
   "cell_type": "code",
   "execution_count": 55,
   "id": "21358315-ba39-4530-9934-60090d2f9585",
   "metadata": {},
   "outputs": [
    {
     "data": {
      "text/plain": [
       "{'Micro-PVM', nan}"
      ]
     },
     "execution_count": 55,
     "metadata": {},
     "output_type": "execute_result"
    }
   ],
   "source": [
    "# What doesn't match?  - Can we match this by hand?\n",
    "(set(AT['Transferred MTG Label']))-set(MTG_annotation_lookup.keys())"
   ]
  },
  {
   "cell_type": "code",
   "execution_count": 56,
   "id": "64d6065c-599b-4299-82ec-668d90c982ff",
   "metadata": {},
   "outputs": [],
   "source": [
    "# Dict comp => Dict keyed on Siletti Cluster_name (=cell_label) with value = MTG annotation transfer object\n",
    "# Iterate over Transferred annotations (AT)\n",
    "out = {}\n",
    "comment = \"We performed PCA (50 components) on our full dataset, trained a random forest classifier (scikit-learn, class_ weight=‘balanced’, max_depth=50) on the MTG labels, and then predicted labels for all cells. We labeled each cluster with the mode of its constituent cells if two conditions were met: more than 0.8 of predicted labels matched the mode, and the mean probability of these pre- dictions was greater than 0.8.\"\n",
    "for i,r in AT.iterrows(): \n",
    "    if r['Transferred MTG Label'] in MTG_annotation_lookup.keys():\n",
    "        MTG_ann =  MTG_annotation_lookup[r['Transferred MTG Label']]\n",
    "        out[r['Cluster name']]= { \"transferred_cell_label\" : r['Transferred MTG Label'], \n",
    "                                  \"source_node_accession\": MTG_ann['labelset'] + '_' + MTG_ann['cell_set_accession'],\n",
    "                                  \"source_taxonomy\": \"https://purl.brain-bican.org/taxonomy/AIT_MTG/AIT_MTG.json\",\n",
    "                                  \"comment\": comment }\n",
    "\n",
    "                                 \n",
    "\n",
    "                                 \n",
    " "
   ]
  },
  {
   "cell_type": "code",
   "execution_count": 57,
   "id": "94452350-74bb-4256-a4e6-d5043709946f",
   "metadata": {},
   "outputs": [
    {
     "data": {
      "text/plain": [
       "{'transferred_cell_label': 'L2/3 IT',\n",
       " 'source_node_accession': 'CrossArea_subclass_58570ade17',\n",
       " 'source_taxonomy': 'https://purl.brain-bican.org/taxonomy/AIT_MTG/AIT_MTG.json',\n",
       " 'comment': 'We performed PCA (50 components) on our full dataset, trained a random forest classifier (scikit-learn, class_ weight=‘balanced’, max_depth=50) on the MTG labels, and then predicted labels for all cells. We labeled each cluster with the mode of its constituent cells if two conditions were met: more than 0.8 of predicted labels matched the mode, and the mean probability of these pre- dictions was greater than 0.8.'}"
      ]
     },
     "execution_count": 57,
     "metadata": {},
     "output_type": "execute_result"
    }
   ],
   "source": [
    "# Test\n",
    "out['Amex_175']"
   ]
  },
  {
   "cell_type": "code",
   "execution_count": 58,
   "id": "6f32a70e-5ee9-4193-bd08-0b498bf38d1a",
   "metadata": {},
   "outputs": [],
   "source": [
    "# Attach Annotation transfers to CAS for nn & neurons matching on names\n",
    "\n",
    "for a in nn['annotations']:\n",
    "    if a['cell_label'] in out.keys():\n",
    "        a['annotation_transfer'] = [out[a['cell_label']]]\n",
    "        "
   ]
  },
  {
   "cell_type": "code",
   "execution_count": 59,
   "id": "62c08e5b-7e4f-4743-8cd9-abcd7806a623",
   "metadata": {},
   "outputs": [
    {
     "data": {
      "text/plain": [
       "[{'transferred_cell_label': 'Endo',\n",
       "  'source_node_accession': 'CrossArea_subclass_48e48631ba',\n",
       "  'source_taxonomy': 'https://purl.brain-bican.org/taxonomy/AIT_MTG/AIT_MTG.json',\n",
       "  'comment': 'We performed PCA (50 components) on our full dataset, trained a random forest classifier (scikit-learn, class_ weight=‘balanced’, max_depth=50) on the MTG labels, and then predicted labels for all cells. We labeled each cluster with the mode of its constituent cells if two conditions were met: more than 0.8 of predicted labels matched the mode, and the mean probability of these pre- dictions was greater than 0.8.'}]"
      ]
     },
     "execution_count": 59,
     "metadata": {},
     "output_type": "execute_result"
    }
   ],
   "source": [
    "# Testing\n",
    "[a['annotation_transfer'] for a in nn['annotations'] if 'annotation_transfer' in a.keys()][0]"
   ]
  },
  {
   "cell_type": "code",
   "execution_count": 32,
   "id": "9753d307-441b-4cca-8004-96d9fc01f462",
   "metadata": {},
   "outputs": [],
   "source": [
    "import os\n",
    "import json\n",
    "import random\n",
    "import anndata\n",
    "import pandas as pd\n",
    "import urllib.request as request\n",
    "\n",
    "from cas.file_utils import read_json_file, write_dict_to_json_file\n",
    "from cas.add_author_annotations import add_author_annotations"
   ]
  },
  {
   "cell_type": "code",
   "execution_count": 33,
   "id": "a1e45065-a1d5-4cf9-9528-73a4a7a2fd31",
   "metadata": {},
   "outputs": [
    {
     "data": {
      "text/html": [
       "<div>\n",
       "<style scoped>\n",
       "    .dataframe tbody tr th:only-of-type {\n",
       "        vertical-align: middle;\n",
       "    }\n",
       "\n",
       "    .dataframe tbody tr th {\n",
       "        vertical-align: top;\n",
       "    }\n",
       "\n",
       "    .dataframe thead th {\n",
       "        text-align: right;\n",
       "    }\n",
       "</style>\n",
       "<table border=\"1\" class=\"dataframe\">\n",
       "  <thead>\n",
       "    <tr style=\"text-align: right;\">\n",
       "      <th></th>\n",
       "      <th>Cluster ID</th>\n",
       "      <th>cell_label</th>\n",
       "      <th>Supercluster</th>\n",
       "      <th>Class auto-annotation</th>\n",
       "      <th>Neurotransmitter auto-annotation</th>\n",
       "      <th>Neuropeptide auto-annotation</th>\n",
       "      <th>Subtype auto-annotation</th>\n",
       "      <th>Transferred MTG Label</th>\n",
       "      <th>Top three regions</th>\n",
       "      <th>Top three dissections</th>\n",
       "      <th>...</th>\n",
       "      <th>DoubletFinder score</th>\n",
       "      <th>Total UMI</th>\n",
       "      <th>Fraction unspliced</th>\n",
       "      <th>Fraction mitochondrial</th>\n",
       "      <th>H19.30.002</th>\n",
       "      <th>H19.30.001</th>\n",
       "      <th>H18.30.002</th>\n",
       "      <th>H18.30.001</th>\n",
       "      <th>Fraction cells from top donor</th>\n",
       "      <th>Number of donors</th>\n",
       "    </tr>\n",
       "  </thead>\n",
       "  <tbody>\n",
       "    <tr>\n",
       "      <th>0</th>\n",
       "      <td>0.0</td>\n",
       "      <td>Bcell_0</td>\n",
       "      <td>Miscellaneous</td>\n",
       "      <td>BCELL</td>\n",
       "      <td>NaN</td>\n",
       "      <td>NaN</td>\n",
       "      <td>NaN</td>\n",
       "      <td>NaN</td>\n",
       "      <td>Midbrain: 21.0%, Basal forebrain: 19.0%, Pons:...</td>\n",
       "      <td>Human GPi: 11.4%, Human SN: 11.4%, Human SN-RN...</td>\n",
       "      <td>...</td>\n",
       "      <td>0.013358</td>\n",
       "      <td>2258.866667</td>\n",
       "      <td>0.608113</td>\n",
       "      <td>0.020989</td>\n",
       "      <td>58.0</td>\n",
       "      <td>20.0</td>\n",
       "      <td>27.0</td>\n",
       "      <td>0.0</td>\n",
       "      <td>0.552381</td>\n",
       "      <td>3.0</td>\n",
       "    </tr>\n",
       "    <tr>\n",
       "      <th>1</th>\n",
       "      <td>1.0</td>\n",
       "      <td>Tcell_1</td>\n",
       "      <td>Miscellaneous</td>\n",
       "      <td>TCELL</td>\n",
       "      <td>NaN</td>\n",
       "      <td>NaN</td>\n",
       "      <td>NaN</td>\n",
       "      <td>NaN</td>\n",
       "      <td>Midbrain: 15.0%, Basal forebrain: 14.0%, Pons:...</td>\n",
       "      <td>Human SpC: 8.2%, Human CbDN: 7.6%, Human SN: 7.4%</td>\n",
       "      <td>...</td>\n",
       "      <td>0.022371</td>\n",
       "      <td>2184.314470</td>\n",
       "      <td>0.582884</td>\n",
       "      <td>0.021212</td>\n",
       "      <td>708.0</td>\n",
       "      <td>400.0</td>\n",
       "      <td>1364.0</td>\n",
       "      <td>2.0</td>\n",
       "      <td>0.551334</td>\n",
       "      <td>4.0</td>\n",
       "    </tr>\n",
       "    <tr>\n",
       "      <th>2</th>\n",
       "      <td>2.0</td>\n",
       "      <td>Nkcell_2</td>\n",
       "      <td>Miscellaneous</td>\n",
       "      <td>NK</td>\n",
       "      <td>NaN</td>\n",
       "      <td>NaN</td>\n",
       "      <td>NaN</td>\n",
       "      <td>NaN</td>\n",
       "      <td>Thalamus: 17.6%, Cerebral cortex: 15.5%, Basal...</td>\n",
       "      <td>Human GPe: 5.7%, Human GPi: 5.5%, Human CbDN: ...</td>\n",
       "      <td>...</td>\n",
       "      <td>0.023788</td>\n",
       "      <td>2263.348733</td>\n",
       "      <td>0.558228</td>\n",
       "      <td>0.020093</td>\n",
       "      <td>245.0</td>\n",
       "      <td>126.0</td>\n",
       "      <td>300.0</td>\n",
       "      <td>0.0</td>\n",
       "      <td>0.447094</td>\n",
       "      <td>3.0</td>\n",
       "    </tr>\n",
       "  </tbody>\n",
       "</table>\n",
       "<p>3 rows × 22 columns</p>\n",
       "</div>"
      ],
      "text/plain": [
       "   Cluster ID cell_label   Supercluster Class auto-annotation  \\\n",
       "0         0.0    Bcell_0  Miscellaneous                 BCELL   \n",
       "1         1.0    Tcell_1  Miscellaneous                 TCELL   \n",
       "2         2.0   Nkcell_2  Miscellaneous                    NK   \n",
       "\n",
       "  Neurotransmitter auto-annotation Neuropeptide auto-annotation  \\\n",
       "0                              NaN                          NaN   \n",
       "1                              NaN                          NaN   \n",
       "2                              NaN                          NaN   \n",
       "\n",
       "  Subtype auto-annotation Transferred MTG Label  \\\n",
       "0                     NaN                   NaN   \n",
       "1                     NaN                   NaN   \n",
       "2                     NaN                   NaN   \n",
       "\n",
       "                                   Top three regions  \\\n",
       "0  Midbrain: 21.0%, Basal forebrain: 19.0%, Pons:...   \n",
       "1  Midbrain: 15.0%, Basal forebrain: 14.0%, Pons:...   \n",
       "2  Thalamus: 17.6%, Cerebral cortex: 15.5%, Basal...   \n",
       "\n",
       "                               Top three dissections  ... DoubletFinder score  \\\n",
       "0  Human GPi: 11.4%, Human SN: 11.4%, Human SN-RN...  ...            0.013358   \n",
       "1  Human SpC: 8.2%, Human CbDN: 7.6%, Human SN: 7.4%  ...            0.022371   \n",
       "2  Human GPe: 5.7%, Human GPi: 5.5%, Human CbDN: ...  ...            0.023788   \n",
       "\n",
       "     Total UMI  Fraction unspliced  Fraction mitochondrial  H19.30.002  \\\n",
       "0  2258.866667            0.608113                0.020989        58.0   \n",
       "1  2184.314470            0.582884                0.021212       708.0   \n",
       "2  2263.348733            0.558228                0.020093       245.0   \n",
       "\n",
       "   H19.30.001  H18.30.002  H18.30.001  Fraction cells from top donor  \\\n",
       "0        20.0        27.0         0.0                       0.552381   \n",
       "1       400.0      1364.0         2.0                       0.551334   \n",
       "2       126.0       300.0         0.0                       0.447094   \n",
       "\n",
       "   Number of donors  \n",
       "0               3.0  \n",
       "1               4.0  \n",
       "2               3.0  \n",
       "\n",
       "[3 rows x 22 columns]"
      ]
     },
     "execution_count": 33,
     "metadata": {},
     "output_type": "execute_result"
    }
   ],
   "source": [
    "# Load the CSV file\n",
    "csv_df = pd.read_csv('./Author_cathegories/science.add7046_table_s3.csv')\n",
    "# filter empty rows\n",
    "csv_df = csv_df[csv_df['cell_label'].notna()]\n",
    "csv_df.head(3)"
   ]
  },
  {
   "cell_type": "code",
   "execution_count": 34,
   "id": "3968705e-dd71-4fcb-8bd4-a3ad3671865e",
   "metadata": {},
   "outputs": [
    {
     "data": {
      "text/plain": [
       "['Class auto-annotation',\n",
       " 'Neurotransmitter auto-annotation',\n",
       " 'Neuropeptide auto-annotation',\n",
       " 'Subtype auto-annotation',\n",
       " 'Transferred MTG Label',\n",
       " 'Top three regions',\n",
       " 'Top three dissections',\n",
       " 'Top Enriched Genes',\n",
       " 'Number of cells',\n",
       " 'DoubletFinder score',\n",
       " 'Total UMI',\n",
       " 'Fraction unspliced',\n",
       " 'Fraction mitochondrial',\n",
       " 'H19.30.002',\n",
       " 'H19.30.001',\n",
       " 'H18.30.002',\n",
       " 'H18.30.001',\n",
       " 'Fraction cells from top donor',\n",
       " 'Number of donors']"
      ]
     },
     "execution_count": 34,
     "metadata": {},
     "output_type": "execute_result"
    }
   ],
   "source": [
    "csv_columns = csv_df.columns.tolist()\n",
    "exclude_columns = [\"Cluster ID\", \"cell_label\", \"Supercluster\"]\n",
    "columns_to_ingest = [column for column in csv_columns if column not in exclude_columns]\n",
    "columns_to_ingest"
   ]
  },
  {
   "cell_type": "code",
   "execution_count": 35,
   "id": "5ed4c900-b0bb-4bc5-bb08-d3add6412811",
   "metadata": {},
   "outputs": [],
   "source": [
    "# cell_label is required, add it forcefully if not exist\n",
    "for annotation in nn[\"annotations\"]:\n",
    "    if \"cell_label\" not in annotation:\n",
    "        print(annotation)\n",
    "        annotation[\"cell_label\"] = \"NA\""
   ]
  },
  {
   "cell_type": "code",
   "execution_count": 36,
   "id": "71e68f37-0e37-4d56-b617-adb6be585de1",
   "metadata": {},
   "outputs": [],
   "source": [
    "cellset_labels = [annotation[\"cell_label\"] for annotation in neurons[\"annotations\"]]\n",
    "csv_df = csv_df[csv_df['cell_label'].isin(cellset_labels)]"
   ]
  },
  {
   "cell_type": "code",
   "execution_count": 38,
   "id": "03a9513d-8489-4d17-9640-d7c3d63e1b3f",
   "metadata": {},
   "outputs": [
    {
     "ename": "ValueError",
     "evalue": "Extra keys in DataFrame that are not in CAS data: ['Bcell_0', 'Tcell_1', 'Nkcell_2', 'Mono_3', 'DLNP_83', 'DLCT6b_84', 'DLNP_85', 'DLNP_86', 'DLNP_87', 'DLNP_88', 'DLNP_89', 'DLNP_90', 'DLNP_91', 'DLNP_92', 'DLNP_93', 'DLNP_94', 'DLNP_95', 'DLNP_96', 'DLCT6b_97', 'DLCT6b_98', 'DLCT6b_99', 'DLCT6b_100', 'DLCT6b_101', 'DLCT6b_102', 'DLCT6b_103', 'DLCT6b_104', 'DLCT6b_105', 'DLCT6b_106', 'DLCT6b_107', 'DLCT6b_108', 'DLCT6b_109', 'DLCT6b_110', 'DLCT6b_111', 'DLCT6b_112', 'L5ET_113', 'L5ET_114', 'L5ET_115', 'Misc_116', 'L5ET_117', 'L5ET_118', 'CA13_119', 'ULIT_120', 'ULIT_121', 'ULIT_122', 'ULIT_123', 'ULIT_124', 'ULIT_125', 'ULIT_126', 'ULIT_127', 'ULIT_128', 'ULIT_129', 'ULIT_130', 'ULIT_131', 'Misc_132', 'ULIT_133', 'ULIT_134', 'ULIT_135', 'DLIT_136', 'DLIT_137', 'ULIT_138', 'DLIT_139', 'DLIT_140', 'DLIT_141', 'DLIT_142', 'DLIT_143', 'DLIT_144', 'DLIT_145', 'DLIT_146', 'DLIT_147', 'DLIT_148', 'DLIT_149', 'DLIT_150', 'DLIT_151', 'DLIT_152', 'Amex_153', 'Amex_154', 'Amex_155', 'Amex_156', 'Amex_157', 'Amex_158', 'Amex_159', 'Amex_160', 'Amex_161', 'Amex_162', 'CA13_163', 'Misc_164', 'Misc_165', 'Misc_166', 'Misc_167', 'Misc_168', 'CA13_169', 'Misc_170', 'Amex_171', 'Amex_172', 'Amex_173', 'Amex_174', 'Amex_175', 'Misc_176', 'Misc_177', 'Misc_178', 'CA13_179', 'CA13_180', 'CA13_181', 'CA13_182', 'CA13_183', 'CA13_184', 'CA13_185', 'CA13_186', 'CA13_187', 'CA13_188', 'CA13_189', 'CA4_190', 'CA4_191', 'CA4_192', 'CA4_193', 'CA4_194', 'CA4_195', 'CA4_196', 'CA4_197', 'CA4_198', 'DG_199', 'DG_200', 'DG_201', 'DG_202', 'DG_203', 'DG_204', 'DG_205', 'MSN_206', 'MSN_207', 'MSN_208', 'MSN_209', 'MSN_210', 'MSN_211', 'MSN_212', 'MSN_213', 'MSN_214', 'MSN_215', 'MSN_216', 'MSN_217', 'MSN_218', 'MSN_219', 'MSN_220', 'MSN_221', 'EMSN_222', 'EMSN_223', 'EMSN_224', 'EMSN_225', 'EMSN_226', 'EMSN_227', 'EMSN_228', 'EMSN_229', 'EMSN_230', 'EMSN_231', 'EMSN_232', 'EMSN_233', 'EMSN_234', 'Splat_235', 'MGE_236', 'Splat_237', 'Splat_238', 'MGE_239', 'MGE_240', 'MGE_241', 'MGE_242', 'MGE_243', 'MGE_244', 'MGE_245', 'MGE_246', 'MGE_247', 'MGE_248', 'MGE_249', 'MGE_250', 'MGE_251', 'MGE_252', 'MGE_253', 'MGE_254', 'MGE_255', 'MGE_256', 'MGE_257', 'MGE_258', 'MGE_259', 'MGE_260', 'MGE_261', 'MGE_262', 'MGE_263', 'LLC_264', 'LLC_265', 'LLC_266', 'LLC_267', 'LLC_268', 'LLC_269', 'LLC_270', 'LLC_271', 'LLC_272', 'LLC_273', 'LLC_274', 'LLC_275', 'CGE_276', 'CGE_277', 'CGE_278', 'CGE_279', 'CGE_280', 'CGE_281', 'CGE_282', 'CGE_283', 'CGE_284', 'CGE_285', 'CGE_286', 'CGE_287', 'CGE_288', 'CGE_289', 'CGE_290', 'CGE_291', 'CGE_292', 'CGE_293', 'CGE_294', 'CGE_295', 'CGE_296', 'URL_297', 'CBI_298', 'CBI_299', 'CBI_300', 'CBI_301', 'CBI_302', 'CBI_303', 'CBI_304', 'CBI_305', 'CBI_306', 'CBI_307', 'URL_308', 'URL_309', 'URL_310', 'URL_311', 'URL_312', 'Splat_313', 'Misc_314', 'LRL_315', 'LRL_316', 'LRL_317', 'LRL_318', 'LRL_319', 'LRL_320', 'LRL_321', 'LRL_322', 'Mmb_323', 'Mmb_324', 'Mmb_325', 'Mmb_326', 'Mmb_327', 'Mmb_328', 'Mmb_329', 'Mmb_330', 'Mmb_331', 'Mmb_332', 'Mmb_333', 'Splat_334', 'Splat_335', 'Splat_336', 'Splat_337', 'Splat_338', 'Splat_339', 'Splat_340', 'Splat_341', 'Splat_342', 'Splat_343', 'Splat_344', 'Splat_345', 'Splat_346', 'Splat_347', 'Splat_348', 'Splat_349', 'Splat_350', 'Splat_351', 'Splat_352', 'Splat_353', 'Splat_354', 'Splat_355', 'Splat_356', 'Splat_357', 'Splat_358', 'Splat_359', 'Splat_360', 'Splat_361', 'Splat_362', 'Splat_363', 'Splat_364', 'Splat_365', 'Splat_366', 'Splat_367', 'Splat_368', 'Splat_369', 'Splat_370', 'Splat_371', 'Thex_372', 'Splat_373', 'Splat_374', 'Splat_375', 'Splat_376', 'Splat_377', 'Splat_378', 'Splat_379', 'Splat_380', 'Splat_381', 'Splat_382', 'Splat_383', 'Splat_384', 'Splat_385', 'Splat_386', 'Splat_387', 'Splat_388', 'Splat_389', 'Splat_390', 'Splat_391', 'Splat_392', 'Splat_393', 'Splat_394', 'Splat_395', 'Splat_396', 'Splat_397', 'Splat_398', 'Splat_399', 'Splat_400', 'Misc_401', 'Splat_402', 'Splat_403', 'Misc_404', 'Amex_405', 'Amex_406', 'Amex_407', 'Amex_408', 'Splat_409', 'Splat_410', 'Splat_411', 'Splat_412', 'Splat_413', 'Splat_414', 'Splat_415', 'Splat_416', 'Splat_417', 'Splat_418', 'Amex_419', 'Splat_420', 'Splat_421', 'Splat_422', 'Splat_423', 'Splat_424', 'Splat_425', 'EMSN_426', 'MSN_427', 'Splat_428', 'Splat_429', 'MSN_430', 'Splat_431', 'Splat_432', 'Midi_433', 'Midi_434', 'Midi_435', 'Midi_436', 'Midi_437', 'Midi_438', 'Midi_439', 'Midi_440', 'Midi_441', 'Midi_442', 'Midi_443', 'Midi_444', 'Thex_445', 'Thex_446', 'Thex_447', 'Thex_448', 'Thex_449', 'Thex_450', 'Thex_451', 'Thex_452', 'Thex_453', 'Thex_454', 'Thex_455', 'Thex_456', 'Thex_457', 'Thex_458', 'Thex_459', 'Thex_460']",
     "output_type": "error",
     "traceback": [
      "\u001b[0;31m---------------------------------------------------------------------------\u001b[0m",
      "\u001b[0;31mValueError\u001b[0m                                Traceback (most recent call last)",
      "Cell \u001b[0;32mIn[38], line 1\u001b[0m\n\u001b[0;32m----> 1\u001b[0m updated_nn \u001b[38;5;241m=\u001b[39m \u001b[43madd_author_annotations\u001b[49m\u001b[43m(\u001b[49m\u001b[43mnn\u001b[49m\u001b[43m,\u001b[49m\u001b[43m \u001b[49m\u001b[43mcsv_df\u001b[49m\u001b[43m,\u001b[49m\u001b[43m \u001b[49m\u001b[38;5;124;43m\"\u001b[39;49m\u001b[38;5;124;43mcell_label\u001b[39;49m\u001b[38;5;124;43m\"\u001b[39;49m\u001b[43m,\u001b[49m\u001b[43m \u001b[49m\u001b[43mcolumns_to_ingest\u001b[49m\u001b[43m)\u001b[49m\n",
      "File \u001b[0;32m~/Documents/GitHub/siletti_hacking/venv/lib/python3.9/site-packages/cas/add_author_annotations.py:37\u001b[0m, in \u001b[0;36madd_author_annotations\u001b[0;34m(cas, df, join_column, columns)\u001b[0m\n\u001b[1;32m     22\u001b[0m \u001b[38;5;250m\u001b[39m\u001b[38;5;124;03m\"\"\"\u001b[39;00m\n\u001b[1;32m     23\u001b[0m \u001b[38;5;124;03mUpdates the provided CAS dictionary with author annotation fields from a DataFrame.\u001b[39;00m\n\u001b[1;32m     24\u001b[0m \u001b[38;5;124;03mAnnotations are based on the values matched between the DataFrame's specified join columns and the CAS records.\u001b[39;00m\n\u001b[0;32m   (...)\u001b[0m\n\u001b[1;32m     34\u001b[0m \u001b[38;5;124;03m    Dict[str, Any]: The CAS dictionary updated with new annotation fields.\u001b[39;00m\n\u001b[1;32m     35\u001b[0m \u001b[38;5;124;03m\"\"\"\u001b[39;00m\n\u001b[1;32m     36\u001b[0m validate_columns(df, join_column, columns)\n\u001b[0;32m---> 37\u001b[0m \u001b[43mvalidate_values\u001b[49m\u001b[43m(\u001b[49m\u001b[43mdf\u001b[49m\u001b[43m,\u001b[49m\u001b[43m \u001b[49m\u001b[43mjoin_column\u001b[49m\u001b[43m,\u001b[49m\u001b[43m \u001b[49m\u001b[43mcas\u001b[49m\u001b[43m)\u001b[49m\n\u001b[1;32m     38\u001b[0m annotations \u001b[38;5;241m=\u001b[39m cas[\u001b[38;5;124m\"\u001b[39m\u001b[38;5;124mannotations\u001b[39m\u001b[38;5;124m\"\u001b[39m]\n\u001b[1;32m     39\u001b[0m \u001b[38;5;28;01mfor\u001b[39;00m annotation \u001b[38;5;129;01min\u001b[39;00m annotations:\n",
      "File \u001b[0;32m~/Documents/GitHub/siletti_hacking/venv/lib/python3.9/site-packages/cas/add_author_annotations.py:145\u001b[0m, in \u001b[0;36mvalidate_values\u001b[0;34m(df, join_column, cas)\u001b[0m\n\u001b[1;32m    143\u001b[0m empty_rows \u001b[38;5;241m=\u001b[39m [key \u001b[38;5;28;01mfor\u001b[39;00m key \u001b[38;5;129;01min\u001b[39;00m cas_key_list \u001b[38;5;28;01mif\u001b[39;00m key \u001b[38;5;129;01mnot\u001b[39;00m \u001b[38;5;129;01min\u001b[39;00m df_key_list]\n\u001b[1;32m    144\u001b[0m \u001b[38;5;28;01mif\u001b[39;00m extra_keys:\n\u001b[0;32m--> 145\u001b[0m     \u001b[38;5;28;01mraise\u001b[39;00m \u001b[38;5;167;01mValueError\u001b[39;00m(\n\u001b[1;32m    146\u001b[0m         \u001b[38;5;124mf\u001b[39m\u001b[38;5;124m\"\u001b[39m\u001b[38;5;124mExtra keys in DataFrame that are not in CAS data: \u001b[39m\u001b[38;5;132;01m{\u001b[39;00mextra_keys\u001b[38;5;132;01m}\u001b[39;00m\u001b[38;5;124m\"\u001b[39m\n\u001b[1;32m    147\u001b[0m     )\n\u001b[1;32m    148\u001b[0m \u001b[38;5;28;01mif\u001b[39;00m empty_rows:\n\u001b[1;32m    149\u001b[0m     logging\u001b[38;5;241m.\u001b[39minfo(\u001b[38;5;124mf\u001b[39m\u001b[38;5;124m\"\u001b[39m\u001b[38;5;124mFollowing values in \u001b[39m\u001b[38;5;132;01m{\u001b[39;00m\u001b[38;5;124m'\u001b[39m\u001b[38;5;124m \u001b[39m\u001b[38;5;124m'\u001b[39m\u001b[38;5;241m.\u001b[39mjoin(join_column)\u001b[38;5;250m \u001b[39m\u001b[38;5;28;01mif\u001b[39;00m\u001b[38;5;250m \u001b[39m\u001b[38;5;28misinstance\u001b[39m(join_column,\u001b[38;5;250m \u001b[39m\u001b[38;5;28mlist\u001b[39m)\u001b[38;5;250m \u001b[39m\u001b[38;5;28;01melse\u001b[39;00m\u001b[38;5;250m \u001b[39mjoin_column\u001b[38;5;132;01m}\u001b[39;00m\u001b[38;5;124m exist in \u001b[39m\u001b[38;5;124m\"\u001b[39m\n\u001b[1;32m    150\u001b[0m                  \u001b[38;5;124mf\u001b[39m\u001b[38;5;124m\"\u001b[39m\u001b[38;5;124mCAS data but missing from DataFrame:\u001b[39m\u001b[38;5;124m\"\u001b[39m\n\u001b[1;32m    151\u001b[0m                  \u001b[38;5;124mf\u001b[39m\u001b[38;5;124m\"\u001b[39m\u001b[38;5;124m \u001b[39m\u001b[38;5;132;01m{\u001b[39;00m\u001b[38;5;124m'\u001b[39m\u001b[38;5;124m \u001b[39m\u001b[38;5;124m'\u001b[39m\u001b[38;5;241m.\u001b[39mjoin(empty_rows)\u001b[38;5;132;01m}\u001b[39;00m\u001b[38;5;124m\"\u001b[39m)\n",
      "\u001b[0;31mValueError\u001b[0m: Extra keys in DataFrame that are not in CAS data: ['Bcell_0', 'Tcell_1', 'Nkcell_2', 'Mono_3', 'DLNP_83', 'DLCT6b_84', 'DLNP_85', 'DLNP_86', 'DLNP_87', 'DLNP_88', 'DLNP_89', 'DLNP_90', 'DLNP_91', 'DLNP_92', 'DLNP_93', 'DLNP_94', 'DLNP_95', 'DLNP_96', 'DLCT6b_97', 'DLCT6b_98', 'DLCT6b_99', 'DLCT6b_100', 'DLCT6b_101', 'DLCT6b_102', 'DLCT6b_103', 'DLCT6b_104', 'DLCT6b_105', 'DLCT6b_106', 'DLCT6b_107', 'DLCT6b_108', 'DLCT6b_109', 'DLCT6b_110', 'DLCT6b_111', 'DLCT6b_112', 'L5ET_113', 'L5ET_114', 'L5ET_115', 'Misc_116', 'L5ET_117', 'L5ET_118', 'CA13_119', 'ULIT_120', 'ULIT_121', 'ULIT_122', 'ULIT_123', 'ULIT_124', 'ULIT_125', 'ULIT_126', 'ULIT_127', 'ULIT_128', 'ULIT_129', 'ULIT_130', 'ULIT_131', 'Misc_132', 'ULIT_133', 'ULIT_134', 'ULIT_135', 'DLIT_136', 'DLIT_137', 'ULIT_138', 'DLIT_139', 'DLIT_140', 'DLIT_141', 'DLIT_142', 'DLIT_143', 'DLIT_144', 'DLIT_145', 'DLIT_146', 'DLIT_147', 'DLIT_148', 'DLIT_149', 'DLIT_150', 'DLIT_151', 'DLIT_152', 'Amex_153', 'Amex_154', 'Amex_155', 'Amex_156', 'Amex_157', 'Amex_158', 'Amex_159', 'Amex_160', 'Amex_161', 'Amex_162', 'CA13_163', 'Misc_164', 'Misc_165', 'Misc_166', 'Misc_167', 'Misc_168', 'CA13_169', 'Misc_170', 'Amex_171', 'Amex_172', 'Amex_173', 'Amex_174', 'Amex_175', 'Misc_176', 'Misc_177', 'Misc_178', 'CA13_179', 'CA13_180', 'CA13_181', 'CA13_182', 'CA13_183', 'CA13_184', 'CA13_185', 'CA13_186', 'CA13_187', 'CA13_188', 'CA13_189', 'CA4_190', 'CA4_191', 'CA4_192', 'CA4_193', 'CA4_194', 'CA4_195', 'CA4_196', 'CA4_197', 'CA4_198', 'DG_199', 'DG_200', 'DG_201', 'DG_202', 'DG_203', 'DG_204', 'DG_205', 'MSN_206', 'MSN_207', 'MSN_208', 'MSN_209', 'MSN_210', 'MSN_211', 'MSN_212', 'MSN_213', 'MSN_214', 'MSN_215', 'MSN_216', 'MSN_217', 'MSN_218', 'MSN_219', 'MSN_220', 'MSN_221', 'EMSN_222', 'EMSN_223', 'EMSN_224', 'EMSN_225', 'EMSN_226', 'EMSN_227', 'EMSN_228', 'EMSN_229', 'EMSN_230', 'EMSN_231', 'EMSN_232', 'EMSN_233', 'EMSN_234', 'Splat_235', 'MGE_236', 'Splat_237', 'Splat_238', 'MGE_239', 'MGE_240', 'MGE_241', 'MGE_242', 'MGE_243', 'MGE_244', 'MGE_245', 'MGE_246', 'MGE_247', 'MGE_248', 'MGE_249', 'MGE_250', 'MGE_251', 'MGE_252', 'MGE_253', 'MGE_254', 'MGE_255', 'MGE_256', 'MGE_257', 'MGE_258', 'MGE_259', 'MGE_260', 'MGE_261', 'MGE_262', 'MGE_263', 'LLC_264', 'LLC_265', 'LLC_266', 'LLC_267', 'LLC_268', 'LLC_269', 'LLC_270', 'LLC_271', 'LLC_272', 'LLC_273', 'LLC_274', 'LLC_275', 'CGE_276', 'CGE_277', 'CGE_278', 'CGE_279', 'CGE_280', 'CGE_281', 'CGE_282', 'CGE_283', 'CGE_284', 'CGE_285', 'CGE_286', 'CGE_287', 'CGE_288', 'CGE_289', 'CGE_290', 'CGE_291', 'CGE_292', 'CGE_293', 'CGE_294', 'CGE_295', 'CGE_296', 'URL_297', 'CBI_298', 'CBI_299', 'CBI_300', 'CBI_301', 'CBI_302', 'CBI_303', 'CBI_304', 'CBI_305', 'CBI_306', 'CBI_307', 'URL_308', 'URL_309', 'URL_310', 'URL_311', 'URL_312', 'Splat_313', 'Misc_314', 'LRL_315', 'LRL_316', 'LRL_317', 'LRL_318', 'LRL_319', 'LRL_320', 'LRL_321', 'LRL_322', 'Mmb_323', 'Mmb_324', 'Mmb_325', 'Mmb_326', 'Mmb_327', 'Mmb_328', 'Mmb_329', 'Mmb_330', 'Mmb_331', 'Mmb_332', 'Mmb_333', 'Splat_334', 'Splat_335', 'Splat_336', 'Splat_337', 'Splat_338', 'Splat_339', 'Splat_340', 'Splat_341', 'Splat_342', 'Splat_343', 'Splat_344', 'Splat_345', 'Splat_346', 'Splat_347', 'Splat_348', 'Splat_349', 'Splat_350', 'Splat_351', 'Splat_352', 'Splat_353', 'Splat_354', 'Splat_355', 'Splat_356', 'Splat_357', 'Splat_358', 'Splat_359', 'Splat_360', 'Splat_361', 'Splat_362', 'Splat_363', 'Splat_364', 'Splat_365', 'Splat_366', 'Splat_367', 'Splat_368', 'Splat_369', 'Splat_370', 'Splat_371', 'Thex_372', 'Splat_373', 'Splat_374', 'Splat_375', 'Splat_376', 'Splat_377', 'Splat_378', 'Splat_379', 'Splat_380', 'Splat_381', 'Splat_382', 'Splat_383', 'Splat_384', 'Splat_385', 'Splat_386', 'Splat_387', 'Splat_388', 'Splat_389', 'Splat_390', 'Splat_391', 'Splat_392', 'Splat_393', 'Splat_394', 'Splat_395', 'Splat_396', 'Splat_397', 'Splat_398', 'Splat_399', 'Splat_400', 'Misc_401', 'Splat_402', 'Splat_403', 'Misc_404', 'Amex_405', 'Amex_406', 'Amex_407', 'Amex_408', 'Splat_409', 'Splat_410', 'Splat_411', 'Splat_412', 'Splat_413', 'Splat_414', 'Splat_415', 'Splat_416', 'Splat_417', 'Splat_418', 'Amex_419', 'Splat_420', 'Splat_421', 'Splat_422', 'Splat_423', 'Splat_424', 'Splat_425', 'EMSN_426', 'MSN_427', 'Splat_428', 'Splat_429', 'MSN_430', 'Splat_431', 'Splat_432', 'Midi_433', 'Midi_434', 'Midi_435', 'Midi_436', 'Midi_437', 'Midi_438', 'Midi_439', 'Midi_440', 'Midi_441', 'Midi_442', 'Midi_443', 'Midi_444', 'Thex_445', 'Thex_446', 'Thex_447', 'Thex_448', 'Thex_449', 'Thex_450', 'Thex_451', 'Thex_452', 'Thex_453', 'Thex_454', 'Thex_455', 'Thex_456', 'Thex_457', 'Thex_458', 'Thex_459', 'Thex_460']"
     ]
    }
   ],
   "source": [
    "updated_nn = add_author_annotations(nn, csv_df, \"cell_label\", columns_to_ingest)"
   ]
  },
  {
   "cell_type": "code",
   "execution_count": null,
   "id": "d1545dd6-12e8-40e3-8b7c-6b30fe590ebf",
   "metadata": {},
   "outputs": [],
   "source": [
    "write_dict_to_json_file('./Final_json_files/Siletti_added_author_categories_v2_nn.json', updated_neurons)"
   ]
  }
 ],
 "metadata": {
  "kernelspec": {
   "display_name": "venv",
   "language": "python",
   "name": "venv"
  },
  "language_info": {
   "codemirror_mode": {
    "name": "ipython",
    "version": 3
   },
   "file_extension": ".py",
   "mimetype": "text/x-python",
   "name": "python",
   "nbconvert_exporter": "python",
   "pygments_lexer": "ipython3",
   "version": "3.9.19"
  }
 },
 "nbformat": 4,
 "nbformat_minor": 5
}
