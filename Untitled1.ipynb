{
 "cells": [
  {
   "cell_type": "code",
   "execution_count": 1,
   "id": "6f7c2531-f182-4a9e-a9a5-95167eb1cdbd",
   "metadata": {},
   "outputs": [
    {
     "name": "stdout",
     "output_type": "stream",
     "text": [
      "cas==1.0.10\n",
      "cas-tools==0.0.1.dev37\n",
      "Note: you may need to restart the kernel to use updated packages.\n"
     ]
    }
   ],
   "source": [
    "pip freeze | grep cas"
   ]
  },
  {
   "cell_type": "code",
   "execution_count": 2,
   "id": "408562d5-2266-47a0-bbfa-fd7e28b737a7",
   "metadata": {},
   "outputs": [
    {
     "name": "stdout",
     "output_type": "stream",
     "text": [
      "Collecting cas-tools==0.0.1.dev45\n",
      "  Downloading cas_tools-0.0.1.dev45-py3-none-any.whl.metadata (2.6 kB)\n",
      "Requirement already satisfied: anndata==0.10.3 in /Users/aa37/.homebrew/Cellar/jupyterlab/4.2.1/libexec/lib/python3.12/site-packages (from cas-tools==0.0.1.dev45) (0.10.3)\n",
      "INFO: pip is looking at multiple versions of cas-tools to determine which version is compatible with other requirements. This could take a while.\n",
      "\u001b[31mERROR: Ignored the following versions that require a different python version: 0.13.0 Requires-Python <3.11,>=3.7; 1.0.0 Requires-Python <3.11,>=3.7; 1.0.0rc1 Requires-Python <3.11,>=3.7; 1.0.0rc2 Requires-Python <3.11,>=3.7; 1.0.0rc3 Requires-Python <3.11,>=3.7; 1.0.0rc4 Requires-Python <3.11,>=3.7; 1.0.1 Requires-Python <3.11,>=3.7; 1.0.2 Requires-Python <3.11,>=3.7; 1.1.0 Requires-Python <3.11,>=3.7; 1.10.0 Requires-Python <3.12,>=3.8; 1.10.1 Requires-Python <3.12,>=3.8; 1.10.2 Requires-Python <3.12,>=3.8; 1.11.0 Requires-Python <3.12,>=3.8; 1.11.1 Requires-Python <3.12,>=3.8; 1.12.0 Requires-Python <3.12,>=3.8; 1.13.0 Requires-Python <3.12,>=3.8; 1.13.1 Requires-Python <3.12,>=3.8; 1.14.0 Requires-Python <3.12,>=3.8; 1.14.1 Requires-Python <3.12,>=3.8; 1.2.0 Requires-Python <3.11,>=3.7; 1.2.1 Requires-Python <3.12,>=3.7; 1.3.0 Requires-Python <3.12,>=3.8; 1.3.1 Requires-Python <3.12,>=3.8; 1.4.0 Requires-Python <3.12,>=3.8; 1.5.0 Requires-Python <3.12,>=3.8; 1.5.1 Requires-Python <3.12,>=3.8; 1.6.0 Requires-Python <3.12,>=3.8; 1.7.0 Requires-Python <3.12,>=3.8; 1.8.0 Requires-Python <3.12,>=3.8; 1.9.0 Requires-Python <3.12,>=3.8; 1.9.1 Requires-Python <3.12,>=3.8\u001b[0m\u001b[31m\n",
      "\u001b[0m\u001b[31mERROR: Could not find a version that satisfies the requirement cellxgene-census==1.10.2 (from cas-tools) (from versions: none)\u001b[0m\u001b[31m\n",
      "\u001b[0m\u001b[31mERROR: No matching distribution found for cellxgene-census==1.10.2\u001b[0m\u001b[31m\n",
      "\u001b[0m\n",
      "\u001b[1m[\u001b[0m\u001b[34;49mnotice\u001b[0m\u001b[1;39;49m]\u001b[0m\u001b[39;49m A new release of pip is available: \u001b[0m\u001b[31;49m24.0\u001b[0m\u001b[39;49m -> \u001b[0m\u001b[32;49m24.1.1\u001b[0m\n",
      "\u001b[1m[\u001b[0m\u001b[34;49mnotice\u001b[0m\u001b[1;39;49m]\u001b[0m\u001b[39;49m To update, run: \u001b[0m\u001b[32;49m/Users/aa37/.homebrew/Cellar/jupyterlab/4.2.1/libexec/bin/python -m pip install --upgrade pip\u001b[0m\n",
      "Note: you may need to restart the kernel to use updated packages.\n"
     ]
    }
   ],
   "source": [
    "pip install -U --no-cache-dir cas-tools==0.0.1.dev45"
   ]
  },
  {
   "cell_type": "code",
   "execution_count": null,
   "id": "54806d2b-8361-4f90-99f7-fd1d37167833",
   "metadata": {},
   "outputs": [],
   "source": []
  },
  {
   "cell_type": "code",
   "execution_count": null,
   "id": "1d7c603c-51a6-4fca-9127-747b7abe2bc0",
   "metadata": {},
   "outputs": [],
   "source": []
  }
 ],
 "metadata": {
  "kernelspec": {
   "display_name": "Python 3 (ipykernel)",
   "language": "python",
   "name": "python3"
  },
  "language_info": {
   "codemirror_mode": {
    "name": "ipython",
    "version": 3
   },
   "file_extension": ".py",
   "mimetype": "text/x-python",
   "name": "python",
   "nbconvert_exporter": "python",
   "pygments_lexer": "ipython3",
   "version": "3.12.3"
  }
 },
 "nbformat": 4,
 "nbformat_minor": 5
}
